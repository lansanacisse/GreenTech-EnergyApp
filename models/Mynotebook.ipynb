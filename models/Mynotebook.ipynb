{
 "cells": [
  {
   "cell_type": "code",
   "execution_count": 2,
   "metadata": {},
   "outputs": [],
   "source": [
    "# Import data\n",
    "import pandas as pd\n",
    "import numpy as np\n",
    "\n",
    "data = pd.read_csv('../data/merged_69.csv', sep=\";\", low_memory=False)"
   ]
  },
  {
   "cell_type": "code",
   "execution_count": 3,
   "metadata": {},
   "outputs": [
    {
     "data": {
      "text/plain": [
       "(287165, 131)"
      ]
     },
     "execution_count": 3,
     "metadata": {},
     "output_type": "execute_result"
    }
   ],
   "source": [
    "# Data shape\n",
    "data.shape"
   ]
  },
  {
   "cell_type": "code",
   "execution_count": 4,
   "metadata": {},
   "outputs": [],
   "source": [
    "# Recuperer les colonnnes sans valeus manquantes\n",
    "col_sans_na = data.columns[data.isnull().sum() == 0]  \n",
    "data_cleaned = data[col_sans_na]  \n"
   ]
  },
  {
   "cell_type": "code",
   "execution_count": 5,
   "metadata": {},
   "outputs": [
    {
     "data": {
      "text/plain": [
       "float64    21\n",
       "object     18\n",
       "int64       4\n",
       "Name: count, dtype: int64"
      ]
     },
     "execution_count": 5,
     "metadata": {},
     "output_type": "execute_result"
    }
   ],
   "source": [
    "# Nombre de colonnes par type\n",
    "data_cleaned.dtypes.value_counts()"
   ]
  },
  {
   "cell_type": "code",
   "execution_count": 6,
   "metadata": {},
   "outputs": [
    {
     "data": {
      "text/plain": [
       "['Méthode_application_DPE',\n",
       " 'Qualité_isolation_menuiseries',\n",
       " 'Coordonnée_cartographique_X_(BAN)',\n",
       " 'Date_fin_validité_DPE',\n",
       " 'Conso_ECS_dépensier_é_primaire',\n",
       " 'Date_établissement_DPE',\n",
       " 'Score_BAN',\n",
       " 'Emission_GES_refroidissement_dépensier',\n",
       " 'Version_DPE',\n",
       " '_i',\n",
       " 'Type_énergie_n°1',\n",
       " 'Emission_GES_éclairage',\n",
       " 'Code_INSEE_(BAN)',\n",
       " 'Conso_refroidissement_dépensier_é_primaire',\n",
       " 'Conso_ECS_dépensier_é_finale',\n",
       " '_score',\n",
       " 'Conso_ECS_é_primaire',\n",
       " 'Emission_GES_ECS',\n",
       " 'Date_visite_diagnostiqueur',\n",
       " 'Conso_refroidissement_é_finale',\n",
       " 'Coordonnée_cartographique_Y_(BAN)',\n",
       " '_geopoint',\n",
       " 'Hauteur_sous-plafond',\n",
       " 'Qualité_isolation_enveloppe',\n",
       " 'Conso_éclairage_é_finale',\n",
       " 'Statut_géocodage',\n",
       " 'Emission_GES_refroidissement',\n",
       " 'Code_postal_(BAN)',\n",
       " '_id',\n",
       " 'Conso_éclairage_é_primaire',\n",
       " '_rand',\n",
       " 'Type_bâtiment',\n",
       " 'Conso_refroidissement_dépensier_é_finale',\n",
       " 'Date_réception_DPE',\n",
       " 'N°DPE',\n",
       " 'Etiquette_GES',\n",
       " 'Etiquette_DPE',\n",
       " 'Conso_refroidissement_é_primaire',\n",
       " 'Code_postal_(brut)',\n",
       " 'Conso_ECS_é_finale',\n",
       " 'Modèle_DPE',\n",
       " 'Nom__commune_(BAN)',\n",
       " 'Emission_GES_ECS_dépensier']"
      ]
     },
     "execution_count": 6,
     "metadata": {},
     "output_type": "execute_result"
    }
   ],
   "source": [
    "# lISTE DES COLONNES\n",
    "data_cleaned.columns.tolist()"
   ]
  },
  {
   "cell_type": "code",
   "execution_count": 7,
   "metadata": {},
   "outputs": [],
   "source": [
    "# Separerer les X et y\n",
    "X = data_cleaned.drop(columns=['Etiquette_DPE']) \n",
    "y = data_cleaned['Etiquette_DPE']"
   ]
  },
  {
   "cell_type": "code",
   "execution_count": 8,
   "metadata": {},
   "outputs": [
    {
     "data": {
      "text/plain": [
       "count     287165\n",
       "unique         7\n",
       "top            C\n",
       "freq      107649\n",
       "Name: Etiquette_DPE, dtype: object"
      ]
     },
     "execution_count": 8,
     "metadata": {},
     "output_type": "execute_result"
    }
   ],
   "source": [
    "y.describe()"
   ]
  },
  {
   "cell_type": "code",
   "execution_count": 9,
   "metadata": {},
   "outputs": [],
   "source": [
    "# Sélectionner uniquement les colonnes numériques\n",
    "X_num = X.select_dtypes(include=['float64', 'int64'])\n",
    "\n",
    "# Calculer la matrice de corrélation\n",
    "corr_matrix = X_num.corr()"
   ]
  },
  {
   "cell_type": "code",
   "execution_count": 10,
   "metadata": {},
   "outputs": [],
   "source": [
    "# Définir un seuil de corrélation (par exemple, 0.8)\n",
    "correlation_threshold = 0.8\n",
    "\n",
    "# Trouver les paires de colonnes avec une corrélation supérieure au seuil\n",
    "highly_correlated = np.where(np.abs(corr_matrix) > correlation_threshold)\n",
    "correlated_pairs = [(corr_matrix.index[x], corr_matrix.columns[y]) for x, y in zip(*highly_correlated) if x != y and x < y]\n"
   ]
  },
  {
   "cell_type": "code",
   "execution_count": 11,
   "metadata": {},
   "outputs": [],
   "source": [
    "# Supprimer les colonnes corrélées\n",
    "columns_to_drop = set()\n",
    "for pair in correlated_pairs:\n",
    "    if pair[0] not in columns_to_drop:\n",
    "        columns_to_drop.add(pair[1])\n",
    "\n",
    "X = X.drop(columns=columns_to_drop)\n"
   ]
  },
  {
   "cell_type": "code",
   "execution_count": 12,
   "metadata": {},
   "outputs": [
    {
     "data": {
      "text/plain": [
       "Etiquette_GES\n",
       "C    111276\n",
       "B     56556\n",
       "D     52111\n",
       "A     38284\n",
       "E     19632\n",
       "F      7126\n",
       "G      2180\n",
       "Name: count, dtype: int64"
      ]
     },
     "execution_count": 12,
     "metadata": {},
     "output_type": "execute_result"
    }
   ],
   "source": [
    "data['Etiquette_GES'].value_counts()"
   ]
  }
 ],
 "metadata": {
  "kernelspec": {
   "display_name": "envML",
   "language": "python",
   "name": "python3"
  },
  "language_info": {
   "codemirror_mode": {
    "name": "ipython",
    "version": 3
   },
   "file_extension": ".py",
   "mimetype": "text/x-python",
   "name": "python",
   "nbconvert_exporter": "python",
   "pygments_lexer": "ipython3",
   "version": "3.9.0"
  }
 },
 "nbformat": 4,
 "nbformat_minor": 2
}
