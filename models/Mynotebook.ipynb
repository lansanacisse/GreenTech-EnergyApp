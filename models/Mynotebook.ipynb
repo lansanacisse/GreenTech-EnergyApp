{
 "cells": [
  {
   "cell_type": "code",
   "execution_count": 2,
   "metadata": {},
   "outputs": [],
   "source": [
    "# Import data\n",
    "import pandas as pd\n",
    "import numpy as np\n",
    "\n",
    "from sklearn.model_selection import train_test_split\n",
    "from sklearn.ensemble import RandomForestClassifier\n",
    "from sklearn.metrics import accuracy_score\n",
    "import pickle\n",
    "\n",
    "\n",
    "data = pd.read_csv('../data/preprocessed_data.csv')"
   ]
  },
  {
   "cell_type": "code",
   "execution_count": null,
   "metadata": {},
   "outputs": [
    {
     "name": "stdout",
     "output_type": "stream",
     "text": [
      "{'Linear Regression': {'MSE': np.float64(11868171.21289768), 'R2': 0.5338432926450076}, 'Decision Tree': {'MSE': np.float64(6710212.206684154), 'R2': 0.7364370321417497}, 'Random Forest': {'MSE': np.float64(4774280.635329491), 'R2': 0.8124763368314676}}\n"
     ]
    }
   ],
   "source": [
    "from sklearn.linear_model import LinearRegression\n",
    "from sklearn.tree import DecisionTreeRegressor\n",
    "from sklearn.ensemble import RandomForestRegressor\n",
    "from sklearn.metrics import mean_squared_error, r2_score\n",
    "from xgboost import XGBRegressor\n",
    "\n",
    "selected_columns = data[['Surface_habitable_logement', 'Ubat_W/m²_K', 'Etiquette_DPE', 'Type_énergie_principale_chauffage']]\n",
    "y = data[\"Conso_5_usages_é_finale\"]\n",
    "\n",
    "# Split the data into training and testing sets\n",
    "X_train, X_test, y_train, y_test = train_test_split(selected_columns, y, test_size=0.25, random_state=42)\n",
    "\n",
    "# Initialize the models\n",
    "lin_reg = LinearRegression()\n",
    "dec_tree = DecisionTreeRegressor()\n",
    "rand_forest = RandomForestRegressor(n_estimators=100)\n",
    "xboost = XGBRegressor()\n",
    "\n",
    "# Train the models\n",
    "lin_reg.fit(X_train, y_train)\n",
    "dec_tree.fit(X_train, y_train)\n",
    "rand_forest.fit(X_train, y_train)\n",
    "xboost.fit(X_train, y_train)\n",
    "\n",
    "# Make predictions\n",
    "y_pred_lin_reg = lin_reg.predict(X_test)\n",
    "y_pred_dec_tree = dec_tree.predict(X_test)\n",
    "y_pred_rand_forest = rand_forest.predict(X_test)\n",
    "xboost_pred = xboost.predict(X_test)\n",
    "\n",
    "# Calculate le r squared\n",
    "r2_lin_reg = r2_score(y_test, y_pred_lin_reg)\n",
    "r2_dec_tree = r2_score(y_test, y_pred_dec_tree)\n",
    "r2_rand_forest = r2_score(y_test, y_pred_rand_forest)\n",
    "r2_xboost = r2_score(y_test, xboost_pred)\n",
    "print(\"Linear Regression R^2: \", r2_lin_reg)\n",
    "print(\"Decision Tree R^2: \", r2_dec_tree)\n",
    "print(\"Random Forest R^2: \", r2_rand_forest)\n",
    "print(\"XGBoost R^2: \", r2_xboost)"
   ]
  },
  {
   "cell_type": "code",
   "execution_count": 2,
   "metadata": {},
   "outputs": [
    {
     "name": "stderr",
     "output_type": "stream",
     "text": [
      "c:\\Users\\lcisse\\Desktop\\SISE\\GreanTech\\envML\\lib\\site-packages\\sklearn\\feature_selection\\_univariate_selection.py:112: UserWarning: Features [ 2  9 10 20 23 24 31 41 45 53 54] are constant.\n",
      "  warnings.warn(\"Features %s are constant.\" % constant_features_idx, UserWarning)\n",
      "c:\\Users\\lcisse\\Desktop\\SISE\\GreanTech\\envML\\lib\\site-packages\\sklearn\\feature_selection\\_univariate_selection.py:113: RuntimeWarning: invalid value encountered in divide\n",
      "  f = msb / msw\n"
     ]
    },
    {
     "name": "stdout",
     "output_type": "stream",
     "text": [
      "5 meilleures caractéristiques : ['Ubat_W/m²_K', 'Méthode_application_DPE', 'Deperditions_planchers_bas', 'Surface_habitable_logement', 'Type_installation_chauffage']\n"
     ]
    }
   ],
   "source": [
    "from sklearn.feature_selection import SelectKBest, f_classif\n",
    "import pandas as pd\n",
    "\n",
    "# Supposez que data soit votre DataFrame initial avec toutes les colonnes de données et la cible\n",
    "# On sépare X (les caractéristiques) et y (la variable cible)\n",
    "y = data[\"Conso_5_usages_é_finale\"]\n",
    "# Filtrage des colonnes pour éviter le data leakage\n",
    "X = data[[col for col in data.columns if not (\"Coût\" in col or \"Conso\" in col or \"GES\" in col or \"coût\" in col)]]\n",
    "\n",
    "# Création du sélecteur de caractéristiques pour sélectionner les 5 meilleures\n",
    "selector = SelectKBest(score_func=f_classif, k=5)\n",
    "X_new = selector.fit_transform(X, y)\n",
    "\n",
    "# Récupération des noms des caractéristiques sélectionnées\n",
    "selected_features = selector.get_support(indices=True)\n",
    "selected_features_names = [X.columns[i] for i in selected_features]\n",
    "print(\"5 meilleures caractéristiques :\", selected_features_names)\n",
    "\n"
   ]
  },
  {
   "cell_type": "code",
   "execution_count": null,
   "metadata": {},
   "outputs": [],
   "source": [
    "import joblib\n",
    "import pandas as pd\n",
    "from sklearn.linear_model import LinearRegression\n",
    "from sklearn.tree import DecisionTreeRegressor, DecisionTreeClassifier\n",
    "from sklearn.ensemble import RandomForestRegressor, RandomForestClassifier\n",
    "from sklearn.neighbors import KNeighborsClassifier\n",
    "from sklearn.model_selection import train_test_split\n",
    "\n",
    "def train_and_save_models(data_path, target_variable):\n",
    "    # Charger les données\n",
    "    data = pd.read_csv(data_path)\n",
    "    \n",
    "    if target_variable == \"Consommation Énergétique\":\n",
    "        X = data[['Surface_habitable_logement', \n",
    "        'Ubat_W/m²_K',\n",
    "        'Etiquette_DPE', \n",
    "        'Type_énergie_principale_chauffage']]\n",
    "\n",
    "        y = data[\"Conso_5_usages_é_finale\"]\n",
    "        \n",
    "        X_train, X_test, y_train, y_test = train_test_split(\n",
    "            X, y, test_size=0.25, random_state=42\n",
    "        )\n",
    "        \n",
    "        lin_reg = LinearRegression()\n",
    "        lin_reg.fit(X_train, y_train)\n",
    "        joblib.dump(lin_reg, \"consommation_linear_regression_model.pkl\")\n",
    "        \n",
    "        dec_tree = DecisionTreeRegressor()\n",
    "        dec_tree.fit(X_train, y_train)\n",
    "        joblib.dump(dec_tree, \"consommation_arbre_de_decision_model.pkl\")\n",
    "        \n",
    "        rand_forest = RandomForestRegressor(n_estimators=100)\n",
    "        rand_forest.fit(X_train, y_train)\n",
    "        joblib.dump(rand_forest, \"consommation_random_forest_model.pkl\")\n",
    "\n",
    "    elif target_variable == \"Étiquette DPE\":\n",
    "        X = data[[\n",
    "            \"Conso_chauffage_é_primaire\",\n",
    "            \"Conso_5_usages_é_finale\",\n",
    "            \"Emission_GES_5_usages_par_m²\",\n",
    "            \"Etiquette_GES\",\n",
    "            \"Coût_éclairage\"\n",
    "        ]]\n",
    "        y = data[\"Etiquette_DPE\"]\n",
    "        \n",
    "        X_train, X_test, y_train, y_test = train_test_split(\n",
    "            X, y, test_size=0.2, random_state=42\n",
    "        )\n",
    "        \n",
    "        knn = KNeighborsClassifier(n_neighbors=5)\n",
    "        knn.fit(X_train, y_train)\n",
    "        joblib.dump(knn, \"etiquette_knn_model.pkl\")\n",
    "        \n",
    "        dec_tree = DecisionTreeClassifier()\n",
    "        dec_tree.fit(X_train, y_train)\n",
    "        joblib.dump(dec_tree, \"etiquette_arbre_de_decision_model.pkl\")\n",
    "        \n",
    "        rand_forest = RandomForestClassifier(n_estimators=100)\n",
    "        rand_forest.fit(X_train, y_train)\n",
    "        joblib.dump(rand_forest, \"etiquette_random_forest_model.pkl\")\n",
    "\n",
    "    print(f\"Modèles pour {target_variable} entraînés et sauvegardés avec succès.\")"
   ]
  },
  {
   "cell_type": "code",
   "execution_count": 10,
   "metadata": {},
   "outputs": [
    {
     "name": "stdout",
     "output_type": "stream",
     "text": [
      "Modèles pour Étiquette DPE entraînés et sauvegardés avec succès.\n"
     ]
    }
   ],
   "source": [
    "\n",
    "train_and_save_models(\"../data/preprocessed_data.csv\", \"Étiquette DPE\")"
   ]
  },
  {
   "cell_type": "code",
   "execution_count": 11,
   "metadata": {},
   "outputs": [
    {
     "name": "stdout",
     "output_type": "stream",
     "text": [
      "Modèles pour Consommation Énergétique entraînés et sauvegardés avec succès.\n"
     ]
    }
   ],
   "source": [
    "# Exemple d'appel de la fonction\n",
    "train_and_save_models(\"../data/preprocessed_data.csv\", \"Consommation Énergétique\")\n"
   ]
  }
 ],
 "metadata": {
  "kernelspec": {
   "display_name": "envML",
   "language": "python",
   "name": "python3"
  },
  "language_info": {
   "codemirror_mode": {
    "name": "ipython",
    "version": 3
   },
   "file_extension": ".py",
   "mimetype": "text/x-python",
   "name": "python",
   "nbconvert_exporter": "python",
   "pygments_lexer": "ipython3",
   "version": "3.9.0rc1"
  }
 },
 "nbformat": 4,
 "nbformat_minor": 2
}
