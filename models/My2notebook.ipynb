{
 "cells": [
  {
   "cell_type": "code",
   "execution_count": 1,
   "metadata": {},
   "outputs": [],
   "source": [
    "# Importer les modules nécessaires\n",
    "import pandas as pd\n",
    "from sklearn.ensemble import RandomForestClassifier\n",
    "from sklearn.model_selection import train_test_split\n",
    "from sklearn.preprocessing import LabelEncoder\n",
    "import matplotlib.pyplot as plt\n",
    "import numpy as np\n",
    "from sklearn.metrics import accuracy_score\n",
    "import pickle\n",
    "\n"
   ]
  },
  {
   "cell_type": "code",
   "execution_count": 2,
   "metadata": {},
   "outputs": [],
   "source": [
    "# Charger les données\n",
    "try:\n",
    "    data = pd.read_csv('../data/merged_69.csv', sep=\";\", low_memory=False)\n",
    "except FileNotFoundError:\n",
    "    print(\"Fichier introuvable\")\n",
    "    exit(1)"
   ]
  },
  {
   "cell_type": "code",
   "execution_count": 3,
   "metadata": {},
   "outputs": [
    {
     "name": "stdout",
     "output_type": "stream",
     "text": [
      "(287165, 131)\n"
     ]
    }
   ],
   "source": [
    "# Verfier la taille du dataset\n",
    "print(data.shape)"
   ]
  },
  {
   "cell_type": "code",
   "execution_count": 4,
   "metadata": {},
   "outputs": [],
   "source": [
    "# Definir une fonction pour identifier les colonnes avec des valeurs manquantes en pourcentage\n",
    "def missing_values_table(df):\n",
    "        # Total des valeurs manquantes\n",
    "        mis_val = df.isnull().sum()\n",
    "        # Pourcentage des valeurs manquantes\n",
    "        mis_val_percent = 100 * mis_val / len(df)\n",
    "        return mis_val_percent"
   ]
  },
  {
   "cell_type": "code",
   "execution_count": 5,
   "metadata": {},
   "outputs": [
    {
     "name": "stdout",
     "output_type": "stream",
     "text": [
      "Ubat_W/m²_K                          0.000348\n",
      "Complément_d'adresse_bâtiment       36.268696\n",
      "Méthode_application_DPE              0.000000\n",
      "N°_département_(BAN)                 0.068602\n",
      "Qualité_isolation_menuiseries        0.000000\n",
      "                                      ...    \n",
      "Emission_GES_ECS_dépensier           0.000000\n",
      "Conso_5_usages_par_m²_é_primaire     0.002786\n",
      "Besoin_chauffage                    11.680741\n",
      "Appartement_non_visité_(0/1)        62.691136\n",
      "Complément_d'adresse_logement       27.626974\n",
      "Length: 131, dtype: float64\n"
     ]
    }
   ],
   "source": [
    "# Calculer le pourcentage des valeurs manquantes\n",
    "missing_values = missing_values_table(data)\n",
    "print(missing_values)"
   ]
  },
  {
   "cell_type": "code",
   "execution_count": 6,
   "metadata": {},
   "outputs": [],
   "source": [
    "# Supprimer les colonnes avec plus de 30% de valeurs manquantes\n",
    "data = data.drop(missing_values[missing_values > 30].index, axis=1)"
   ]
  },
  {
   "cell_type": "code",
   "execution_count": 7,
   "metadata": {},
   "outputs": [
    {
     "name": "stdout",
     "output_type": "stream",
     "text": [
      "(220630, 103)\n"
     ]
    }
   ],
   "source": [
    "# Supprimer les lignes qui ont moins de 9% de valeurs non manquantes\n",
    "data = data.dropna(subset=missing_values[missing_values < 9].index, axis=0)\n",
    "\n",
    "# Nouvelle taille du dataset\n",
    "print(data.shape)"
   ]
  },
  {
   "cell_type": "code",
   "execution_count": 8,
   "metadata": {},
   "outputs": [],
   "source": [
    "from sklearn.impute import KNNImputer\n",
    "\n",
    "# Sélectionner les colonnes quantitatives\n",
    "quantitative_columns = data.select_dtypes(include=[np.number]).columns\n",
    "\n"
   ]
  },
  {
   "cell_type": "code",
   "execution_count": 9,
   "metadata": {},
   "outputs": [],
   "source": [
    "# Sélectionner les colonnes catégorielles\n",
    "categorical_columns = data.select_dtypes(include=[object]).columns\n",
    "\n",
    "# Imputer les valeurs manquantes par la mode\n",
    "for col in categorical_columns:\n",
    "    data[col] = data[col].fillna(data[col].mode()[0])"
   ]
  },
  {
   "cell_type": "code",
   "execution_count": 10,
   "metadata": {},
   "outputs": [],
   "source": [
    "# Sélectionner les colonnes qui ne contiennent pas \"Coût\", \"Conso\" ou \"GES\"\n",
    "variables_explicatives = [col for col in data.columns if not any(keyword in col for keyword in [\"Coût\", \"Conso\", \"GES\"])]\n"
   ]
  },
  {
   "cell_type": "code",
   "execution_count": 11,
   "metadata": {},
   "outputs": [],
   "source": [
    "# Filtrer les colonnes quantitatives parmi les variables explicatives\n",
    "quantitative_variables = [col for col in variables_explicatives if np.issubdtype(data[col].dtype, np.number)]\n"
   ]
  },
  {
   "cell_type": "code",
   "execution_count": 12,
   "metadata": {},
   "outputs": [
    {
     "name": "stdout",
     "output_type": "stream",
     "text": [
      "Surface_habitable_logement    0.639725\n",
      "Ubat_W/m²_K                   0.314571\n",
      "_score                        0.196218\n",
      "Code_postal_(BAN)             0.156648\n",
      "dtype: float64\n"
     ]
    }
   ],
   "source": [
    "# Supprimer les colonnes constantes (qui ne donneront donc aucune corrélation)\n",
    "quantitative_variables = [col for col in quantitative_variables if data[col].nunique() > 1]\n",
    "\n",
    "# Calculer la corrélation entre chaque variable quantitative et 'Conso_5_usages_é_finale'\n",
    "correlations = data[quantitative_variables].corrwith(data[\"Conso_5_usages_é_finale\"])\n",
    "\n",
    "# Trier les corrélations dans l'ordre décroissant\n",
    "correlations_sorted = correlations.sort_values(ascending=False)\n",
    "# Afficher les corrélations triées\n",
    "#print(correlations_sorted)\n",
    "# Filtrer pour garder uniquement les corrélations supérieures à 0.1\n",
    "correlations_filtered = correlations_sorted[correlations_sorted > 0.1]\n",
    "# Afficher les corrélations filtrées\n",
    "print(correlations_filtered)"
   ]
  },
  {
   "cell_type": "code",
   "execution_count": 13,
   "metadata": {},
   "outputs": [
    {
     "name": "stdout",
     "output_type": "stream",
     "text": [
      "count    220630.000000\n",
      "mean      10416.044144\n",
      "std        9504.693253\n",
      "min         306.300000\n",
      "25%        4985.900000\n",
      "50%        7984.400000\n",
      "75%       13082.150000\n",
      "max      828004.300000\n",
      "Name: Conso_5_usages_é_finale, dtype: float64\n"
     ]
    }
   ],
   "source": [
    "# Decrire la variable cible\n",
    "print(data['Conso_5_usages_é_finale'].describe())"
   ]
  },
  {
   "cell_type": "code",
   "execution_count": 18,
   "metadata": {},
   "outputs": [
    {
     "name": "stdout",
     "output_type": "stream",
     "text": [
      "25374.15\n",
      "Nombre de valeurs supérieures à 25000 : 11007\n",
      "Pourcentage de valeurs supérieures à 25000 : 4.988895435797489 %\n"
     ]
    }
   ],
   "source": [
    "EI = 13158.900000 - 5015.400000\n",
    "limitSup = 13158.900000 + (EI * 1.5)\n",
    "print(limitSup) #le seuil qui considère valeurs aberrantes niv sup\n",
    "\n",
    "# Compter le nombre de valeurs supérieures à 20000 (outliers)\n",
    "count_above_20000 = (data['Conso_5_usages_é_finale'] > 25000).sum()\n",
    "\n",
    "# Afficher le résultat\n",
    "print(\"Nombre de valeurs supérieures à 25000 :\", count_above_20000)\n",
    "\n",
    "# Calculer le pourcentage\n",
    "percentage_above_20000 = (count_above_20000 / len(data['Conso_5_usages_é_finale'])) * 100\n",
    "\n",
    "# Afficher le résultat\n",
    "print(\"Pourcentage de valeurs supérieures à 25000 :\", percentage_above_20000, \"%\")"
   ]
  },
  {
   "cell_type": "code",
   "execution_count": 19,
   "metadata": {},
   "outputs": [],
   "source": [
    "# Supprimer les valeurs aberrantes\n",
    "data = data[data['Conso_5_usages_é_finale'] < 25000] "
   ]
  },
  {
   "cell_type": "code",
   "execution_count": 23,
   "metadata": {},
   "outputs": [
    {
     "name": "stdout",
     "output_type": "stream",
     "text": [
      "Ubat_W/m²_K                         float64\n",
      "Méthode_application_DPE              object\n",
      "N°_département_(BAN)                float64\n",
      "Qualité_isolation_menuiseries        object\n",
      "Nombre_appartement                  float64\n",
      "                                     ...   \n",
      "Nom__commune_(BAN)                   object\n",
      "Emission_GES_ECS_dépensier          float64\n",
      "Conso_5_usages_par_m²_é_primaire    float64\n",
      "Besoin_chauffage                    float64\n",
      "Complément_d'adresse_logement        object\n",
      "Length: 103, dtype: object\n"
     ]
    }
   ],
   "source": [
    "# Type des variables\n",
    "print(data.dtypes)"
   ]
  },
  {
   "cell_type": "markdown",
   "metadata": {},
   "source": []
  },
  {
   "cell_type": "code",
   "execution_count": null,
   "metadata": {},
   "outputs": [],
   "source": [
    "# Type des varaibles exp"
   ]
  }
 ],
 "metadata": {
  "kernelspec": {
   "display_name": "envML",
   "language": "python",
   "name": "python3"
  },
  "language_info": {
   "codemirror_mode": {
    "name": "ipython",
    "version": 3
   },
   "file_extension": ".py",
   "mimetype": "text/x-python",
   "name": "python",
   "nbconvert_exporter": "python",
   "pygments_lexer": "ipython3",
   "version": "3.9.0rc1"
  }
 },
 "nbformat": 4,
 "nbformat_minor": 2
}
