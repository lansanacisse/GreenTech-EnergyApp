{
 "cells": [
  {
   "cell_type": "markdown",
   "metadata": {
    "id": "9LdGoKottGuu"
   },
   "source": [
    "#Projet Python M2"
   ]
  },
  {
   "cell_type": "code",
   "execution_count": 1,
   "metadata": {
    "id": "0WwKZL4ltCaW"
   },
   "outputs": [],
   "source": [
    "import pandas as pd\n",
    "from sklearn.ensemble import RandomForestClassifier\n",
    "from sklearn.model_selection import train_test_split\n",
    "from sklearn.preprocessing import LabelEncoder\n",
    "import matplotlib.pyplot as plt\n",
    "import numpy as np\n",
    "from sklearn.metrics import accuracy_score\n",
    "import pickle\n"
   ]
  },
  {
   "cell_type": "code",
   "execution_count": 2,
   "metadata": {
    "colab": {
     "base_uri": "https://localhost:8080/"
    },
    "executionInfo": {
     "elapsed": 8836,
     "status": "ok",
     "timestamp": 1730280538985,
     "user": {
      "displayName": "Linh Nhi LD",
      "userId": "13951524500816482489"
     },
     "user_tz": -60
    },
    "id": "I9HtlbnHtDcw",
    "outputId": "f1f3623f-995f-49a1-84c8-507a7f7b635a"
   },
   "outputs": [
    {
     "name": "stderr",
     "output_type": "stream",
     "text": [
      "C:\\Users\\lcisse\\AppData\\Local\\Temp\\ipykernel_51812\\4243165685.py:2: DtypeWarning: Columns (33,35,38,51,57,69,72,99,115) have mixed types. Specify dtype option on import or set low_memory=False.\n",
      "  df_merged = pd.read_csv(\"../data/merged_69.csv\", sep=\";\") # chemin spécifier\n"
     ]
    }
   ],
   "source": [
    "try:\n",
    "  df_merged = pd.read_csv(\"../data/merged_69.csv\", sep=\";\") # chemin spécifier\n",
    "  #print(df_merged.columns)\n",
    "except FileNotFoundError:\n",
    "  print(\"Fichier non trouvé\")"
   ]
  },
  {
   "cell_type": "code",
   "execution_count": 3,
   "metadata": {
    "colab": {
     "base_uri": "https://localhost:8080/",
     "height": 516
    },
    "executionInfo": {
     "elapsed": 277,
     "status": "ok",
     "timestamp": 1730280364794,
     "user": {
      "displayName": "Quentin L",
      "userId": "13107265887900765672"
     },
     "user_tz": -60
    },
    "id": "5IeTVF_MtDyi",
    "outputId": "02988dbb-7bc8-4377-b207-17480e3eca0f"
   },
   "outputs": [
    {
     "data": {
      "text/html": [
       "<div>\n",
       "<style scoped>\n",
       "    .dataframe tbody tr th:only-of-type {\n",
       "        vertical-align: middle;\n",
       "    }\n",
       "\n",
       "    .dataframe tbody tr th {\n",
       "        vertical-align: top;\n",
       "    }\n",
       "\n",
       "    .dataframe thead th {\n",
       "        text-align: right;\n",
       "    }\n",
       "</style>\n",
       "<table border=\"1\" class=\"dataframe\">\n",
       "  <thead>\n",
       "    <tr style=\"text-align: right;\">\n",
       "      <th></th>\n",
       "      <th>Ubat_W/m²_K</th>\n",
       "      <th>Complément_d'adresse_bâtiment</th>\n",
       "      <th>Méthode_application_DPE</th>\n",
       "      <th>N°_département_(BAN)</th>\n",
       "      <th>Qualité_isolation_menuiseries</th>\n",
       "      <th>Nombre_appartement</th>\n",
       "      <th>Emission_GES_5_usages_énergie_n°2</th>\n",
       "      <th>Coordonnée_cartographique_X_(BAN)</th>\n",
       "      <th>Date_fin_validité_DPE</th>\n",
       "      <th>Protection_solaire_exterieure_(0/1)</th>\n",
       "      <th>...</th>\n",
       "      <th>Modèle_DPE</th>\n",
       "      <th>Coût_auxiliaires</th>\n",
       "      <th>Coût_refroidissement_dépensier</th>\n",
       "      <th>Nom__rue_(BAN)</th>\n",
       "      <th>Nom__commune_(BAN)</th>\n",
       "      <th>Emission_GES_ECS_dépensier</th>\n",
       "      <th>Conso_5_usages_par_m²_é_primaire</th>\n",
       "      <th>Besoin_chauffage</th>\n",
       "      <th>Appartement_non_visité_(0/1)</th>\n",
       "      <th>Complément_d'adresse_logement</th>\n",
       "    </tr>\n",
       "  </thead>\n",
       "  <tbody>\n",
       "    <tr>\n",
       "      <th>0</th>\n",
       "      <td>1.42</td>\n",
       "      <td>NaN</td>\n",
       "      <td>dpe appartement individuel</td>\n",
       "      <td>69.0</td>\n",
       "      <td>moyenne</td>\n",
       "      <td>1.0</td>\n",
       "      <td>NaN</td>\n",
       "      <td>842365.11</td>\n",
       "      <td>2034-08-28</td>\n",
       "      <td>False</td>\n",
       "      <td>...</td>\n",
       "      <td>DPE 3CL 2021 méthode logement</td>\n",
       "      <td>0.0</td>\n",
       "      <td>0.0</td>\n",
       "      <td>Rue Imbert Colomès</td>\n",
       "      <td>Lyon</td>\n",
       "      <td>117.1</td>\n",
       "      <td>535.0</td>\n",
       "      <td>5261.0</td>\n",
       "      <td>False</td>\n",
       "      <td>1-appartement-1-LogZone</td>\n",
       "    </tr>\n",
       "    <tr>\n",
       "      <th>1</th>\n",
       "      <td>2.36</td>\n",
       "      <td>653199</td>\n",
       "      <td>dpe appartement individuel</td>\n",
       "      <td>69.0</td>\n",
       "      <td>moyenne</td>\n",
       "      <td>1.0</td>\n",
       "      <td>NaN</td>\n",
       "      <td>842432.78</td>\n",
       "      <td>2034-07-23</td>\n",
       "      <td>False</td>\n",
       "      <td>...</td>\n",
       "      <td>DPE 3CL 2021 méthode logement</td>\n",
       "      <td>68.6</td>\n",
       "      <td>0.0</td>\n",
       "      <td>Rue Longue</td>\n",
       "      <td>Lyon</td>\n",
       "      <td>107.4</td>\n",
       "      <td>583.0</td>\n",
       "      <td>9089.0</td>\n",
       "      <td>NaN</td>\n",
       "      <td>2ième Etage Porte Gauche</td>\n",
       "    </tr>\n",
       "    <tr>\n",
       "      <th>2</th>\n",
       "      <td>0.59</td>\n",
       "      <td>2024-08-15639</td>\n",
       "      <td>dpe appartement individuel</td>\n",
       "      <td>69.0</td>\n",
       "      <td>moyenne</td>\n",
       "      <td>1.0</td>\n",
       "      <td>16.7</td>\n",
       "      <td>842540.42</td>\n",
       "      <td>2034-08-11</td>\n",
       "      <td>True</td>\n",
       "      <td>...</td>\n",
       "      <td>DPE 3CL 2021 méthode logement</td>\n",
       "      <td>62.5</td>\n",
       "      <td>0.0</td>\n",
       "      <td>Rue Imbert Colomès</td>\n",
       "      <td>Lyon</td>\n",
       "      <td>387.9</td>\n",
       "      <td>386.0</td>\n",
       "      <td>8784.5</td>\n",
       "      <td>NaN</td>\n",
       "      <td>Etage 6</td>\n",
       "    </tr>\n",
       "    <tr>\n",
       "      <th>3</th>\n",
       "      <td>0.42</td>\n",
       "      <td>23/DFA/0199</td>\n",
       "      <td>dpe appartement individuel</td>\n",
       "      <td>69.0</td>\n",
       "      <td>moyenne</td>\n",
       "      <td>1.0</td>\n",
       "      <td>34.5</td>\n",
       "      <td>842600.66</td>\n",
       "      <td>2034-07-28</td>\n",
       "      <td>True</td>\n",
       "      <td>...</td>\n",
       "      <td>DPE 3CL 2021 méthode logement</td>\n",
       "      <td>135.1</td>\n",
       "      <td>0.0</td>\n",
       "      <td>Rue Romarin</td>\n",
       "      <td>Lyon</td>\n",
       "      <td>465.0</td>\n",
       "      <td>156.0</td>\n",
       "      <td>5039.0</td>\n",
       "      <td>NaN</td>\n",
       "      <td>NaN</td>\n",
       "    </tr>\n",
       "    <tr>\n",
       "      <th>4</th>\n",
       "      <td>1.29</td>\n",
       "      <td>240911838</td>\n",
       "      <td>dpe appartement individuel</td>\n",
       "      <td>69.0</td>\n",
       "      <td>bonne</td>\n",
       "      <td>1.0</td>\n",
       "      <td>NaN</td>\n",
       "      <td>842544.94</td>\n",
       "      <td>2034-09-09</td>\n",
       "      <td>False</td>\n",
       "      <td>...</td>\n",
       "      <td>DPE 3CL 2021 méthode logement</td>\n",
       "      <td>19.6</td>\n",
       "      <td>0.0</td>\n",
       "      <td>Rue Saint Polycarpe</td>\n",
       "      <td>Lyon</td>\n",
       "      <td>75.8</td>\n",
       "      <td>152.0</td>\n",
       "      <td>779.6</td>\n",
       "      <td>NaN</td>\n",
       "      <td>Etage 6</td>\n",
       "    </tr>\n",
       "  </tbody>\n",
       "</table>\n",
       "<p>5 rows × 131 columns</p>\n",
       "</div>"
      ],
      "text/plain": [
       "   Ubat_W/m²_K Complément_d'adresse_bâtiment     Méthode_application_DPE  \\\n",
       "0         1.42                           NaN  dpe appartement individuel   \n",
       "1         2.36                        653199  dpe appartement individuel   \n",
       "2         0.59                 2024-08-15639  dpe appartement individuel   \n",
       "3         0.42                   23/DFA/0199  dpe appartement individuel   \n",
       "4         1.29                     240911838  dpe appartement individuel   \n",
       "\n",
       "   N°_département_(BAN) Qualité_isolation_menuiseries  Nombre_appartement  \\\n",
       "0                  69.0                       moyenne                 1.0   \n",
       "1                  69.0                       moyenne                 1.0   \n",
       "2                  69.0                       moyenne                 1.0   \n",
       "3                  69.0                       moyenne                 1.0   \n",
       "4                  69.0                         bonne                 1.0   \n",
       "\n",
       "   Emission_GES_5_usages_énergie_n°2  Coordonnée_cartographique_X_(BAN)  \\\n",
       "0                                NaN                          842365.11   \n",
       "1                                NaN                          842432.78   \n",
       "2                               16.7                          842540.42   \n",
       "3                               34.5                          842600.66   \n",
       "4                                NaN                          842544.94   \n",
       "\n",
       "  Date_fin_validité_DPE Protection_solaire_exterieure_(0/1)  ...  \\\n",
       "0            2034-08-28                               False  ...   \n",
       "1            2034-07-23                               False  ...   \n",
       "2            2034-08-11                                True  ...   \n",
       "3            2034-07-28                                True  ...   \n",
       "4            2034-09-09                               False  ...   \n",
       "\n",
       "                      Modèle_DPE  Coût_auxiliaires  \\\n",
       "0  DPE 3CL 2021 méthode logement               0.0   \n",
       "1  DPE 3CL 2021 méthode logement              68.6   \n",
       "2  DPE 3CL 2021 méthode logement              62.5   \n",
       "3  DPE 3CL 2021 méthode logement             135.1   \n",
       "4  DPE 3CL 2021 méthode logement              19.6   \n",
       "\n",
       "  Coût_refroidissement_dépensier       Nom__rue_(BAN) Nom__commune_(BAN)  \\\n",
       "0                            0.0   Rue Imbert Colomès               Lyon   \n",
       "1                            0.0           Rue Longue               Lyon   \n",
       "2                            0.0   Rue Imbert Colomès               Lyon   \n",
       "3                            0.0          Rue Romarin               Lyon   \n",
       "4                            0.0  Rue Saint Polycarpe               Lyon   \n",
       "\n",
       "   Emission_GES_ECS_dépensier Conso_5_usages_par_m²_é_primaire  \\\n",
       "0                       117.1                            535.0   \n",
       "1                       107.4                            583.0   \n",
       "2                       387.9                            386.0   \n",
       "3                       465.0                            156.0   \n",
       "4                        75.8                            152.0   \n",
       "\n",
       "   Besoin_chauffage  Appartement_non_visité_(0/1)  \\\n",
       "0            5261.0                         False   \n",
       "1            9089.0                           NaN   \n",
       "2            8784.5                           NaN   \n",
       "3            5039.0                           NaN   \n",
       "4             779.6                           NaN   \n",
       "\n",
       "   Complément_d'adresse_logement  \n",
       "0        1-appartement-1-LogZone  \n",
       "1       2ième Etage Porte Gauche  \n",
       "2                        Etage 6  \n",
       "3                            NaN  \n",
       "4                        Etage 6  \n",
       "\n",
       "[5 rows x 131 columns]"
      ]
     },
     "execution_count": 3,
     "metadata": {},
     "output_type": "execute_result"
    }
   ],
   "source": [
    "# MLFlow ?\n",
    "df_merged.head()"
   ]
  },
  {
   "cell_type": "code",
   "execution_count": 4,
   "metadata": {
    "colab": {
     "base_uri": "https://localhost:8080/"
    },
    "executionInfo": {
     "elapsed": 262,
     "status": "ok",
     "timestamp": 1730280542669,
     "user": {
      "displayName": "Linh Nhi LD",
      "userId": "13951524500816482489"
     },
     "user_tz": -60
    },
    "id": "rVEIB9pwvlim",
    "outputId": "ade5bcd5-994b-4ae5-819a-8ba2404de3ac"
   },
   "outputs": [
    {
     "data": {
      "text/plain": [
       "(287165, 131)"
      ]
     },
     "execution_count": 4,
     "metadata": {},
     "output_type": "execute_result"
    }
   ],
   "source": [
    "df_merged.shape"
   ]
  },
  {
   "cell_type": "code",
   "execution_count": 5,
   "metadata": {
    "colab": {
     "base_uri": "https://localhost:8080/"
    },
    "executionInfo": {
     "elapsed": 278,
     "status": "ok",
     "timestamp": 1730280544232,
     "user": {
      "displayName": "Linh Nhi LD",
      "userId": "13951524500816482489"
     },
     "user_tz": -60
    },
    "id": "AvZFSQzNvnRG",
    "outputId": "4418a8a2-8b57-4766-ad4b-cda37c54d629"
   },
   "outputs": [
    {
     "data": {
      "text/plain": [
       "['Ubat_W/m²_K',\n",
       " \"Complément_d'adresse_bâtiment\",\n",
       " 'Méthode_application_DPE',\n",
       " 'N°_département_(BAN)',\n",
       " 'Qualité_isolation_menuiseries',\n",
       " 'Nombre_appartement',\n",
       " 'Emission_GES_5_usages_énergie_n°2',\n",
       " 'Coordonnée_cartographique_X_(BAN)',\n",
       " 'Date_fin_validité_DPE',\n",
       " 'Protection_solaire_exterieure_(0/1)',\n",
       " 'Coût_total_5_usages',\n",
       " 'Conso_ECS_dépensier_é_primaire',\n",
       " 'Catégorie_ENR',\n",
       " 'Présence_brasseur_air_(0/1)',\n",
       " 'Date_établissement_DPE',\n",
       " 'Score_BAN',\n",
       " 'Type_énergie_n°2',\n",
       " 'Conso_auxiliaires_é_primaire',\n",
       " 'N°_étage_appartement',\n",
       " 'N°_région_(BAN)',\n",
       " 'Deperditions_planchers_hauts',\n",
       " 'Adresse_brute',\n",
       " 'Emission_GES_refroidissement_dépensier',\n",
       " 'Version_DPE',\n",
       " 'Deperditions_planchers_bas',\n",
       " 'Surface_tertiaire_immeuble',\n",
       " 'Coût_chauffage',\n",
       " '_i',\n",
       " 'Qualité_isolation_plancher_bas',\n",
       " 'Déperditions_renouvellement_air',\n",
       " 'Surface_habitable_logement',\n",
       " 'Type_énergie_n°1',\n",
       " 'Conso_chauffage_é_finale',\n",
       " 'Besoin_refroidissement',\n",
       " 'Emission_GES_éclairage',\n",
       " 'Code_INSEE_(BAN)',\n",
       " 'Conso_refroidissement_dépensier_é_primaire',\n",
       " 'Conso_ECS_dépensier_é_finale',\n",
       " 'Typologie_logement',\n",
       " '_score',\n",
       " 'Classe_altitude',\n",
       " 'Coût_ECS',\n",
       " 'Conso_ECS_é_primaire',\n",
       " 'Nombre_niveau_logement',\n",
       " 'Adresse_(BAN)',\n",
       " 'Emission_GES_ECS',\n",
       " 'Conso_chauffage_dépensier_é_finale',\n",
       " 'Date_visite_diagnostiqueur',\n",
       " 'Conso_refroidissement_é_finale',\n",
       " 'Déperditions_ponts_thermiques',\n",
       " 'Coordonnée_cartographique_Y_(BAN)',\n",
       " 'Type_énergie_n°3',\n",
       " '_geopoint',\n",
       " 'Emission_GES_5_usages_par_m²',\n",
       " 'Logement_traversant_(0/1)',\n",
       " 'Conso_chauffage_é_primaire',\n",
       " 'Deperditions_enveloppe',\n",
       " \"Cage_d'escalier\",\n",
       " 'Emission_GES_5_usages_énergie_n°1',\n",
       " 'Hauteur_sous-plafond',\n",
       " 'Inertie_lourde_(0/1)',\n",
       " 'Qualité_isolation_enveloppe',\n",
       " 'Conso_éclairage_é_finale',\n",
       " 'Identifiant__BAN',\n",
       " 'Déperditions_portes',\n",
       " 'Coût_chauffage_dépensier',\n",
       " 'Emission_GES_auxiliaires',\n",
       " 'Statut_géocodage',\n",
       " 'Emission_GES_refroidissement',\n",
       " 'Position_logement_dans_immeuble',\n",
       " 'Coût_refroidissement',\n",
       " 'Conso_5_usages_é_primaire',\n",
       " 'Besoin_ECS',\n",
       " 'Coût_chauffage_énergie_n°1',\n",
       " 'Indicateur_confort_été',\n",
       " 'Conso_5_usages_é_finale_énergie_n°1',\n",
       " 'Code_postal_(BAN)',\n",
       " 'Emission_GES_chauffage',\n",
       " 'Type_installation_chauffage',\n",
       " '_id',\n",
       " 'Coût_ECS_dépensier',\n",
       " 'Surface_habitable_immeuble',\n",
       " 'Conso_éclairage_é_primaire',\n",
       " '_rand',\n",
       " 'Nombre_niveau_immeuble',\n",
       " 'N°_DPE_remplacé',\n",
       " 'Conso_5_usages/m²_é_finale',\n",
       " 'Type_bâtiment',\n",
       " 'Conso_refroidissement_dépensier_é_finale',\n",
       " 'Nom_résidence',\n",
       " 'Date_réception_DPE',\n",
       " 'Qualité_isolation_plancher_haut_comble_aménagé',\n",
       " 'N°DPE',\n",
       " 'Type_énergie_principale_chauffage',\n",
       " 'Type_installation_ECS_(général)',\n",
       " 'Isolation_toiture_(0/1)',\n",
       " 'Conso_5_usages_é_finale',\n",
       " 'Conso_chauffage_dépensier_é_primaire',\n",
       " 'Coût_éclairage',\n",
       " 'Classe_inertie_bâtiment',\n",
       " 'Etiquette_GES',\n",
       " 'N°_voie_(BAN)',\n",
       " 'Coût_ECS_énergie_n°1',\n",
       " 'Emission_GES_chauffage_dépensier',\n",
       " 'Coût_chauffage_énergie_n°2',\n",
       " 'Conso_auxiliaires_é_finale',\n",
       " 'Déperditions_murs',\n",
       " 'Deperditions_baies_vitrées',\n",
       " 'Qualité_isolation_murs',\n",
       " 'Etiquette_DPE',\n",
       " 'Emission_GES_5_usages',\n",
       " 'Emission_GES_5_usages_énergie_n°3',\n",
       " 'Conso_refroidissement_é_primaire',\n",
       " 'N°_DPE_immeuble_associé',\n",
       " 'Coût_ECS_énergie_n°2',\n",
       " 'Invariant_fiscal_logement',\n",
       " 'Code_postal_(brut)',\n",
       " 'Zone_climatique_',\n",
       " 'Coût_ECS_énergie_n°3',\n",
       " 'Coût_chauffage_énergie_n°3',\n",
       " 'Conso_ECS_é_finale',\n",
       " 'Modèle_DPE',\n",
       " 'Coût_auxiliaires',\n",
       " 'Coût_refroidissement_dépensier',\n",
       " 'Nom__rue_(BAN)',\n",
       " 'Nom__commune_(BAN)',\n",
       " 'Emission_GES_ECS_dépensier',\n",
       " 'Conso_5_usages_par_m²_é_primaire',\n",
       " 'Besoin_chauffage',\n",
       " 'Appartement_non_visité_(0/1)',\n",
       " \"Complément_d'adresse_logement\"]"
      ]
     },
     "execution_count": 5,
     "metadata": {},
     "output_type": "execute_result"
    }
   ],
   "source": [
    "# Afficher la liste complète des noms de colonnes pour identifier les cibles \"étiquettes DPE\" et \"consommation énergétique\"\n",
    "columns = df_merged.columns.tolist()\n",
    "columns"
   ]
  },
  {
   "cell_type": "code",
   "execution_count": 6,
   "metadata": {
    "id": "RPsWDhIGCQhS"
   },
   "outputs": [],
   "source": [
    "df1 = df_merged"
   ]
  },
  {
   "cell_type": "code",
   "execution_count": 7,
   "metadata": {
    "colab": {
     "base_uri": "https://localhost:8080/"
    },
    "executionInfo": {
     "elapsed": 292,
     "status": "ok",
     "timestamp": 1730280550354,
     "user": {
      "displayName": "Linh Nhi LD",
      "userId": "13951524500816482489"
     },
     "user_tz": -60
    },
    "id": "aVAhXdP_4181",
    "outputId": "10a7d4ff-8902-4152-d2db-9598c3110177"
   },
   "outputs": [
    {
     "data": {
      "text/plain": [
       "(287165, 131)"
      ]
     },
     "execution_count": 7,
     "metadata": {},
     "output_type": "execute_result"
    }
   ],
   "source": [
    "df1.shape"
   ]
  },
  {
   "cell_type": "code",
   "execution_count": 8,
   "metadata": {
    "id": "PT97YeeSEe0M"
   },
   "outputs": [],
   "source": [
    "pd.set_option('display.max_rows', None)"
   ]
  },
  {
   "cell_type": "code",
   "execution_count": 9,
   "metadata": {
    "colab": {
     "base_uri": "https://localhost:8080/",
     "height": 1000
    },
    "executionInfo": {
     "elapsed": 989,
     "status": "ok",
     "timestamp": 1730280561466,
     "user": {
      "displayName": "Linh Nhi LD",
      "userId": "13951524500816482489"
     },
     "user_tz": -60
    },
    "id": "pANoWhq_CRCT",
    "outputId": "ca689446-ed1a-4241-d4bb-6f22691235e6"
   },
   "outputs": [
    {
     "data": {
      "text/plain": [
       "Ubat_W/m²_K                                        0.000348\n",
       "Conso_auxiliaires_é_finale                         0.000348\n",
       "Conso_chauffage_dépensier_é_finale                 0.002089\n",
       "Conso_chauffage_é_finale                           0.002089\n",
       "Emission_GES_chauffage                             0.002089\n",
       "Conso_chauffage_dépensier_é_primaire               0.002089\n",
       "Emission_GES_chauffage_dépensier                   0.002089\n",
       "Conso_chauffage_é_primaire                         0.002089\n",
       "Coût_éclairage                                     0.002438\n",
       "Coût_refroidissement                               0.002786\n",
       "Emission_GES_auxiliaires                           0.002786\n",
       "Conso_5_usages_é_primaire                          0.002786\n",
       "Emission_GES_5_usages_par_m²                       0.002786\n",
       "Conso_5_usages_é_finale                            0.002786\n",
       "Emission_GES_5_usages_énergie_n°1                  0.002786\n",
       "Conso_auxiliaires_é_primaire                       0.002786\n",
       "Conso_5_usages/m²_é_finale                         0.002786\n",
       "Coût_ECS_énergie_n°1                               0.002786\n",
       "Coût_auxiliaires                                   0.002786\n",
       "Conso_5_usages_par_m²_é_primaire                   0.002786\n",
       "Emission_GES_5_usages                              0.002786\n",
       "Conso_5_usages_é_finale_énergie_n°1                0.002786\n",
       "Coût_chauffage_énergie_n°1                         0.002786\n",
       "Coût_chauffage                                     0.003134\n",
       "Coût_ECS                                           0.003134\n",
       "Coût_refroidissement_dépensier                     0.003134\n",
       "Adresse_brute                                      0.003134\n",
       "Coût_chauffage_dépensier                           0.003134\n",
       "Coût_ECS_dépensier                                 0.003482\n",
       "Coût_total_5_usages                                0.003831\n",
       "Qualité_isolation_murs                             0.006965\n",
       "N°_département_(BAN)                               0.068602\n",
       "N°_région_(BAN)                                    0.068602\n",
       "Identifiant__BAN                                   0.196751\n",
       "Adresse_(BAN)                                      0.196751\n",
       "Surface_habitable_logement                         1.531175\n",
       "Nom__rue_(BAN)                                     3.338499\n",
       "Nombre_niveau_logement                             4.053071\n",
       "Qualité_isolation_plancher_bas                     5.038218\n",
       "Type_énergie_principale_chauffage                  5.168805\n",
       "Zone_climatique_                                   8.468302\n",
       "Classe_altitude                                    8.468302\n",
       "N°_voie_(BAN)                                     11.152125\n",
       "Type_installation_ECS_(général)                   11.177894\n",
       "Type_installation_chauffage                       11.177894\n",
       "Deperditions_enveloppe                            11.664026\n",
       "Déperditions_renouvellement_air                   11.664026\n",
       "Déperditions_murs                                 11.664374\n",
       "Deperditions_baies_vitrées                        11.665071\n",
       "Besoin_ECS                                        11.679348\n",
       "Besoin_chauffage                                  11.680741\n",
       "Déperditions_ponts_thermiques                     11.682134\n",
       "Déperditions_portes                               11.719395\n",
       "Deperditions_planchers_hauts                      11.814114\n",
       "Deperditions_planchers_bas                        11.823864\n",
       "Besoin_refroidissement                            11.869831\n",
       "Classe_inertie_bâtiment                           12.283182\n",
       "Nombre_appartement                                15.220518\n",
       "N°_étage_appartement                              18.657914\n",
       "Complément_d'adresse_logement                     27.626974\n",
       "Type_énergie_n°2                                  31.213762\n",
       "Emission_GES_5_usages_énergie_n°2                 31.213762\n",
       "Coût_ECS_énergie_n°2                              31.213762\n",
       "Coût_chauffage_énergie_n°2                        31.214459\n",
       "Complément_d'adresse_bâtiment                     36.268696\n",
       "Surface_habitable_immeuble                        44.150924\n",
       "Protection_solaire_exterieure_(0/1)               46.458308\n",
       "Présence_brasseur_air_(0/1)                       46.458308\n",
       "Indicateur_confort_été                            46.458308\n",
       "Logement_traversant_(0/1)                         46.458308\n",
       "Isolation_toiture_(0/1)                           46.767190\n",
       "Inertie_lourde_(0/1)                              47.664583\n",
       "Nombre_niveau_immeuble                            58.431564\n",
       "Appartement_non_visité_(0/1)                      62.691136\n",
       "N°_DPE_immeuble_associé                           72.059617\n",
       "Catégorie_ENR                                     77.335678\n",
       "N°_DPE_remplacé                                   91.393798\n",
       "Qualité_isolation_plancher_haut_comble_aménagé    91.438023\n",
       "Nom_résidence                                     96.293072\n",
       "Type_énergie_n°3                                  96.962025\n",
       "Emission_GES_5_usages_énergie_n°3                 96.962025\n",
       "Coût_ECS_énergie_n°3                              96.962025\n",
       "Coût_chauffage_énergie_n°3                        96.962025\n",
       "Position_logement_dans_immeuble                   98.864416\n",
       "Typologie_logement                                98.864416\n",
       "Cage_d'escalier                                   99.464768\n",
       "Surface_tertiaire_immeuble                        99.531280\n",
       "Invariant_fiscal_logement                         99.596748\n",
       "dtype: float64"
      ]
     },
     "execution_count": 9,
     "metadata": {},
     "output_type": "execute_result"
    }
   ],
   "source": [
    "#Fonction pour identifier le % de valeurs manquantes dans chaque colonne\n",
    "#Renvoie seulement les colonnes contenant des valeurs manquantes + les tri\n",
    "def percent_missing(df):\n",
    "  percent_nan = 100 * df.isnull().sum() / len(df)\n",
    "  percent_nan = percent_nan[percent_nan > 0].sort_values()\n",
    "\n",
    "  return percent_nan\n",
    "\n",
    "percent_nan = percent_missing(df1)\n",
    "percent_nan"
   ]
  },
  {
   "cell_type": "code",
   "execution_count": 10,
   "metadata": {
    "id": "MK2I5gHvsBoR"
   },
   "outputs": [],
   "source": [
    "#suppression des colonnes qui ont + de > 30% valeurs manquantes\n",
    "df1 = df1.drop(percent_nan[percent_nan > 30].index, axis=1)"
   ]
  },
  {
   "cell_type": "code",
   "execution_count": 11,
   "metadata": {
    "colab": {
     "base_uri": "https://localhost:8080/",
     "height": 1000
    },
    "executionInfo": {
     "elapsed": 1304,
     "status": "ok",
     "timestamp": 1730280589478,
     "user": {
      "displayName": "Linh Nhi LD",
      "userId": "13951524500816482489"
     },
     "user_tz": -60
    },
    "id": "6M4q4YpgExrK",
    "outputId": "b3a869f6-05c3-439e-cd83-3a03c7cb1860"
   },
   "outputs": [
    {
     "data": {
      "text/plain": [
       "Ubat_W/m²_K                              0.000348\n",
       "Conso_auxiliaires_é_finale               0.000348\n",
       "Conso_chauffage_dépensier_é_finale       0.002089\n",
       "Conso_chauffage_é_finale                 0.002089\n",
       "Conso_chauffage_dépensier_é_primaire     0.002089\n",
       "Emission_GES_chauffage_dépensier         0.002089\n",
       "Emission_GES_chauffage                   0.002089\n",
       "Conso_chauffage_é_primaire               0.002089\n",
       "Coût_éclairage                           0.002438\n",
       "Coût_refroidissement                     0.002786\n",
       "Conso_5_usages_é_finale                  0.002786\n",
       "Conso_5_usages_é_primaire                0.002786\n",
       "Emission_GES_5_usages_énergie_n°1        0.002786\n",
       "Emission_GES_5_usages_par_m²             0.002786\n",
       "Conso_auxiliaires_é_primaire             0.002786\n",
       "Emission_GES_auxiliaires                 0.002786\n",
       "Coût_chauffage_énergie_n°1               0.002786\n",
       "Conso_5_usages_é_finale_énergie_n°1      0.002786\n",
       "Coût_auxiliaires                         0.002786\n",
       "Conso_5_usages_par_m²_é_primaire         0.002786\n",
       "Conso_5_usages/m²_é_finale               0.002786\n",
       "Emission_GES_5_usages                    0.002786\n",
       "Coût_ECS_énergie_n°1                     0.002786\n",
       "Coût_refroidissement_dépensier           0.003134\n",
       "Coût_chauffage                           0.003134\n",
       "Coût_chauffage_dépensier                 0.003134\n",
       "Coût_ECS                                 0.003134\n",
       "Adresse_brute                            0.003134\n",
       "Coût_ECS_dépensier                       0.003482\n",
       "Coût_total_5_usages                      0.003831\n",
       "Qualité_isolation_murs                   0.006965\n",
       "N°_région_(BAN)                          0.068602\n",
       "N°_département_(BAN)                     0.068602\n",
       "Identifiant__BAN                         0.196751\n",
       "Adresse_(BAN)                            0.196751\n",
       "Surface_habitable_logement               1.531175\n",
       "Nom__rue_(BAN)                           3.338499\n",
       "Nombre_niveau_logement                   4.053071\n",
       "Qualité_isolation_plancher_bas           5.038218\n",
       "Type_énergie_principale_chauffage        5.168805\n",
       "Zone_climatique_                         8.468302\n",
       "Classe_altitude                          8.468302\n",
       "N°_voie_(BAN)                           11.152125\n",
       "Type_installation_chauffage             11.177894\n",
       "Type_installation_ECS_(général)         11.177894\n",
       "Déperditions_renouvellement_air         11.664026\n",
       "Deperditions_enveloppe                  11.664026\n",
       "Déperditions_murs                       11.664374\n",
       "Deperditions_baies_vitrées              11.665071\n",
       "Besoin_ECS                              11.679348\n",
       "Besoin_chauffage                        11.680741\n",
       "Déperditions_ponts_thermiques           11.682134\n",
       "Déperditions_portes                     11.719395\n",
       "Deperditions_planchers_hauts            11.814114\n",
       "Deperditions_planchers_bas              11.823864\n",
       "Besoin_refroidissement                  11.869831\n",
       "Classe_inertie_bâtiment                 12.283182\n",
       "Nombre_appartement                      15.220518\n",
       "N°_étage_appartement                    18.657914\n",
       "Complément_d'adresse_logement           27.626974\n",
       "dtype: float64"
      ]
     },
     "execution_count": 11,
     "metadata": {},
     "output_type": "execute_result"
    }
   ],
   "source": [
    "percent_nan = percent_missing(df1)\n",
    "percent_nan"
   ]
  },
  {
   "cell_type": "code",
   "execution_count": 12,
   "metadata": {
    "id": "923OtG98wqCl"
   },
   "outputs": [],
   "source": [
    "#supprimer les lignes, dans les colonnes qui ont moins de 9% de valeurs manquantes\n",
    "df1 = df1.dropna(subset=percent_nan[percent_nan < 9].index, axis=0)"
   ]
  },
  {
   "cell_type": "code",
   "execution_count": 13,
   "metadata": {
    "colab": {
     "base_uri": "https://localhost:8080/",
     "height": 210
    },
    "executionInfo": {
     "elapsed": 943,
     "status": "ok",
     "timestamp": 1730280620996,
     "user": {
      "displayName": "Linh Nhi LD",
      "userId": "13951524500816482489"
     },
     "user_tz": -60
    },
    "id": "MzAzNNY1JYxT",
    "outputId": "c1b9a92c-31ca-48d1-eeea-364990b46773"
   },
   "outputs": [
    {
     "data": {
      "text/plain": [
       "Deperditions_planchers_bas          0.842587\n",
       "Deperditions_planchers_hauts        0.842587\n",
       "Déperditions_ponts_thermiques       0.842587\n",
       "Déperditions_renouvellement_air     0.842587\n",
       "Deperditions_enveloppe              0.842587\n",
       "Déperditions_murs                   0.842587\n",
       "Deperditions_baies_vitrées          0.842587\n",
       "Déperditions_portes                 0.842587\n",
       "Besoin_refroidissement              0.862077\n",
       "Besoin_ECS                          0.862077\n",
       "Besoin_chauffage                    0.862077\n",
       "Classe_inertie_bâtiment             0.863890\n",
       "N°_voie_(BAN)                       5.581290\n",
       "N°_étage_appartement                8.741332\n",
       "Type_installation_chauffage        11.077369\n",
       "Type_installation_ECS_(général)    11.077369\n",
       "Nombre_appartement                 14.385170\n",
       "Complément_d'adresse_logement      22.561755\n",
       "dtype: float64"
      ]
     },
     "execution_count": 13,
     "metadata": {},
     "output_type": "execute_result"
    }
   ],
   "source": [
    "percent_nan = percent_missing(df1)\n",
    "percent_nan"
   ]
  },
  {
   "cell_type": "code",
   "execution_count": 14,
   "metadata": {
    "id": "2W8BFVJtKYs4"
   },
   "outputs": [
    {
     "data": {
      "text/plain": [
       "'#Imputation des Données Manquantes sur variable quantitatives\\nimport numpy as np\\nfrom sklearn.impute import KNNImputer\\n# Sélectionner uniquement les colonnes quantitatives (numériques)\\nquant_cols = df1.select_dtypes(include=[np.number]).columns\\n# Afficher les colonnes quantitatives\\nprint(\"Colonnes quantitatives :\", quant_cols)\\n# Initialiser le KNNImputer\\nimputer = KNNImputer(n_neighbors=3)\\n# Appliquer l\\'imputation sur les colonnes quantitatives\\ncols_with_missing = [col for col in quant_cols if df1[col].isnull().any()]\\ndf1[cols_with_missing] = imputer.fit_transform(df1[cols_with_missing])\\n# Vérification des données manquantes\\n#print(df1[quant_cols].isnull().sum())\\n'"
      ]
     },
     "execution_count": 14,
     "metadata": {},
     "output_type": "execute_result"
    }
   ],
   "source": [
    "'''#Imputation des Données Manquantes sur variable quantitatives\n",
    "import numpy as np\n",
    "from sklearn.impute import KNNImputer\n",
    "# Sélectionner uniquement les colonnes quantitatives (numériques)\n",
    "quant_cols = df1.select_dtypes(include=[np.number]).columns\n",
    "# Afficher les colonnes quantitatives\n",
    "print(\"Colonnes quantitatives :\", quant_cols)\n",
    "# Initialiser le KNNImputer\n",
    "imputer = KNNImputer(n_neighbors=3)\n",
    "# Appliquer l'imputation sur les colonnes quantitatives\n",
    "cols_with_missing = [col for col in quant_cols if df1[col].isnull().any()]\n",
    "df1[cols_with_missing] = imputer.fit_transform(df1[cols_with_missing])\n",
    "# Vérification des données manquantes\n",
    "#print(df1[quant_cols].isnull().sum())\n",
    "'''"
   ]
  },
  {
   "cell_type": "code",
   "execution_count": 15,
   "metadata": {
    "id": "ka4BOpYCLKr3"
   },
   "outputs": [],
   "source": [
    "#Imputation des Données Manquantes sur variable qualitative\n",
    "\n",
    "# Sélectionner toutes les colonnes non numériques (qualitatives)\n",
    "categorical_cols = df1.select_dtypes(exclude=[np.number]).columns\n",
    "\n",
    "# Appliquer l'imputation par la valeur la plus fréquente (mode) pour chaque colonne catégorielle\n",
    "for col in categorical_cols:\n",
    "    df1[col] = df1[col].fillna(df1[col].mode()[0])\n",
    "\n",
    "# Vérification des données manquantes\n",
    "#df1[categorical_cols].isnull().sum()"
   ]
  },
  {
   "cell_type": "code",
   "execution_count": 16,
   "metadata": {
    "id": "qw-yzQncKDLY"
   },
   "outputs": [],
   "source": [
    "col = df1.columns.tolist()\n",
    "col\n",
    "# Sélectionner toutes les colonnes sauf celles contenant \"Coût\" ou \"Conso\" ou \"GES\" qui sont liées a la variable target pour éviter Data Leakage\n",
    "les_variables_explicatives = [col for col in df1.columns if not (\"Coût\" in col or \"Conso\" in col or \"GES\" in col or \"coût\" in col)]\n",
    "#les_variables_explicatives"
   ]
  },
  {
   "cell_type": "code",
   "execution_count": 17,
   "metadata": {
    "colab": {
     "base_uri": "https://localhost:8080/"
    },
    "executionInfo": {
     "elapsed": 296,
     "status": "ok",
     "timestamp": 1730280639506,
     "user": {
      "displayName": "Linh Nhi LD",
      "userId": "13951524500816482489"
     },
     "user_tz": -60
    },
    "id": "iruZOalpMk0Z",
    "outputId": "31af4a8d-1795-4565-d4c6-5128645f1e62"
   },
   "outputs": [
    {
     "data": {
      "text/plain": [
       "['Ubat_W/m²_K',\n",
       " 'N°_département_(BAN)',\n",
       " 'Nombre_appartement',\n",
       " 'Coordonnée_cartographique_X_(BAN)',\n",
       " 'Score_BAN',\n",
       " 'N°_étage_appartement',\n",
       " 'N°_région_(BAN)',\n",
       " 'Deperditions_planchers_hauts',\n",
       " 'Version_DPE',\n",
       " 'Deperditions_planchers_bas',\n",
       " '_i',\n",
       " 'Déperditions_renouvellement_air',\n",
       " 'Surface_habitable_logement',\n",
       " '_score',\n",
       " 'Nombre_niveau_logement',\n",
       " 'Déperditions_ponts_thermiques',\n",
       " 'Coordonnée_cartographique_Y_(BAN)',\n",
       " 'Deperditions_enveloppe',\n",
       " 'Hauteur_sous-plafond',\n",
       " 'Déperditions_portes',\n",
       " 'Code_postal_(BAN)',\n",
       " '_rand',\n",
       " 'Déperditions_murs',\n",
       " 'Deperditions_baies_vitrées',\n",
       " 'Code_postal_(brut)',\n",
       " 'Besoin_chauffage']"
      ]
     },
     "execution_count": 17,
     "metadata": {},
     "output_type": "execute_result"
    }
   ],
   "source": [
    "# Filtrer les colonnes quantitatives parmi les variables explicatives\n",
    "quantitative_variables = [col for col in les_variables_explicatives if np.issubdtype(df1[col].dtype, np.number)]\n",
    "# Afficher les variables quantitatives sélectionnées\n",
    "#print(\"Variables quantitatives parmi les variables explicatives :\", quantitative_variables)\n",
    "quantitative_variables"
   ]
  },
  {
   "cell_type": "code",
   "execution_count": 18,
   "metadata": {
    "colab": {
     "base_uri": "https://localhost:8080/"
    },
    "executionInfo": {
     "elapsed": 977,
     "status": "ok",
     "timestamp": 1730280650563,
     "user": {
      "displayName": "Linh Nhi LD",
      "userId": "13951524500816482489"
     },
     "user_tz": -60
    },
    "id": "2R_rr-6FM2DR",
    "outputId": "35a685b7-c72c-4e1b-f142-e0668663044c"
   },
   "outputs": [
    {
     "name": "stdout",
     "output_type": "stream",
     "text": [
      "Surface_habitable_logement    0.639725\n",
      "Ubat_W/m²_K                   0.314571\n",
      "_score                        0.196218\n",
      "Code_postal_(BAN)             0.156648\n",
      "dtype: float64\n"
     ]
    }
   ],
   "source": [
    "# Supprimer les colonnes constantes (qui ne donneront donc aucune corrélation)\n",
    "quantitative_variables = [col for col in quantitative_variables if df1[col].nunique() > 1]\n",
    "# Calculer la corrélation entre chaque variable quantitative et 'Conso_5_usages_é_finale'\n",
    "correlations = df1[quantitative_variables].corrwith(df1['Conso_5_usages_é_finale'])\n",
    "# Trier les corrélations dans l'ordre décroissant\n",
    "correlations_sorted = correlations.sort_values(ascending=False)\n",
    "# Afficher les corrélations triées\n",
    "#print(correlations_sorted)\n",
    "# Filtrer pour garder uniquement les corrélations supérieures à 0.1\n",
    "correlations_filtered = correlations_sorted[correlations_sorted > 0.1]\n",
    "# Afficher les corrélations filtrées\n",
    "print(correlations_filtered)"
   ]
  },
  {
   "cell_type": "code",
   "execution_count": 19,
   "metadata": {
    "id": "qzQSmwGPUJFr"
   },
   "outputs": [],
   "source": [
    "# Sélectionner les colonnes qualitatives parmi les variables explicatives\n",
    "qualitative_variables = [col for col in les_variables_explicatives if not np.issubdtype(df1[col].dtype, np.number)]\n",
    "# Afficher les colonnes qualitatives sélectionnées\n",
    "#print(\"Colonnes qualitatives parmi les variables explicatives :\", qualitative_variables)\n",
    "#qualitative_variables"
   ]
  },
  {
   "cell_type": "code",
   "execution_count": 20,
   "metadata": {
    "colab": {
     "base_uri": "https://localhost:8080/",
     "height": 335
    },
    "executionInfo": {
     "elapsed": 275,
     "status": "ok",
     "timestamp": 1730280659971,
     "user": {
      "displayName": "Linh Nhi LD",
      "userId": "13951524500816482489"
     },
     "user_tz": -60
    },
    "id": "Q4fmR7bJVPQS",
    "outputId": "7277d542-d519-43ff-8066-5d2df29fcc80"
   },
   "outputs": [
    {
     "data": {
      "text/plain": [
       "count    220630.000000\n",
       "mean      10416.044144\n",
       "std        9504.693253\n",
       "min         306.300000\n",
       "25%        4985.900000\n",
       "50%        7984.400000\n",
       "75%       13082.150000\n",
       "max      828004.300000\n",
       "Name: Conso_5_usages_é_finale, dtype: float64"
      ]
     },
     "execution_count": 20,
     "metadata": {},
     "output_type": "execute_result"
    }
   ],
   "source": [
    "df1['Conso_5_usages_é_finale'].describe()\n",
    "#Il faut traiter les outliers de df1['Conso_5_usages_é_finale'] pour éviter que le modèle apprenne mal"
   ]
  },
  {
   "cell_type": "code",
   "execution_count": 21,
   "metadata": {
    "colab": {
     "base_uri": "https://localhost:8080/"
    },
    "executionInfo": {
     "elapsed": 256,
     "status": "ok",
     "timestamp": 1730280691429,
     "user": {
      "displayName": "Linh Nhi LD",
      "userId": "13951524500816482489"
     },
     "user_tz": -60
    },
    "id": "VZ4oiaRZor8k",
    "outputId": "b3698c28-8fe8-4727-9f80-afcc4aa71201"
   },
   "outputs": [
    {
     "name": "stdout",
     "output_type": "stream",
     "text": [
      "25374.15\n",
      "Nombre de valeurs supérieures à 25000 : 11007\n",
      "Pourcentage de valeurs supérieures à 25000 : 4.988895435797489 %\n"
     ]
    }
   ],
   "source": [
    "EI = 13158.900000 - 5015.400000\n",
    "limitSup = 13158.900000 + (EI * 1.5)\n",
    "print(limitSup) #le seuil qui considère valeurs aberrantes niv sup\n",
    "\n",
    "# Compter le nombre de valeurs supérieures à 20000 (outliers)\n",
    "count_above_20000 = (df1['Conso_5_usages_é_finale'] > 25000).sum()\n",
    "\n",
    "# Afficher le résultat\n",
    "print(\"Nombre de valeurs supérieures à 25000 :\", count_above_20000)\n",
    "\n",
    "# Calculer le pourcentage\n",
    "percentage_above_20000 = (count_above_20000 / len(df1['Conso_5_usages_é_finale'])) * 100\n",
    "\n",
    "# Afficher le résultat\n",
    "print(\"Pourcentage de valeurs supérieures à 25000 :\", percentage_above_20000, \"%\")"
   ]
  },
  {
   "cell_type": "code",
   "execution_count": 22,
   "metadata": {},
   "outputs": [
    {
     "data": {
      "text/plain": [
       "(220630, 103)"
      ]
     },
     "execution_count": 22,
     "metadata": {},
     "output_type": "execute_result"
    }
   ],
   "source": [
    "# Taille du data \n",
    "df1.shape"
   ]
  },
  {
   "cell_type": "code",
   "execution_count": 23,
   "metadata": {
    "id": "6Y8nWy6XxIBS"
   },
   "outputs": [],
   "source": [
    "df2 = df1\n",
    "df2 = df2[df2['Conso_5_usages_é_finale'] <= 25000] #suppression des outliers qui représentent 5% de la colonne"
   ]
  },
  {
   "cell_type": "code",
   "execution_count": 24,
   "metadata": {
    "id": "V4VJxFakxLA7"
   },
   "outputs": [
    {
     "data": {
      "text/plain": [
       "'import scipy.stats as stats\\n#faire test stat pour évaluer corrélation entre variable cible et les var qualitatitves\\nqualitative_vars = df2.select_dtypes(include=[\\'object\\', \\'category\\']).columns\\nqualitative_vars\\nquantitative_var = \\'Conso_5_usages_é_finale\\'\\n# Dictionnaire pour stocker les résultats\\nanova_results = {}\\n\\n# Boucle pour effectuer le test ANOVA pour chaque variable qualitative\\nfor qual_var in qualitative_vars:\\n    # Créer les groupes pour l\\'ANOVA en fonction des catégories de la variable qualitative\\n    groups = [df2[df2[qual_var] == category][quantitative_var] for category in df2[qual_var].unique()]\\n    # Filtrer les groupes pour ne garder que ceux avec au moins deux valeurs\\n    groups = [group for group in groups if len(group) > 1]\\n\\n    # Effectuer le test ANOVA si le nombre de groupes est supérieur à 1\\n    if len(groups) > 1:\\n        f_stat, p_value = stats.f_oneway(*groups)\\n        anova_results[qual_var] = {\\'F_statistic\\': f_stat, \\'p_value\\': p_value}\\n\\n# Afficher les résultats\\nfor var, result in anova_results.items():\\n    print(f\"Variable qualitative : {var}\")\\n    print(f\"  Statistique F : {result[\\'F_statistic\\']:.4f}, Valeur p : {result[\\'p_value\\']:.4e}\\n\")'"
      ]
     },
     "execution_count": 24,
     "metadata": {},
     "output_type": "execute_result"
    }
   ],
   "source": [
    "\"\"\"import scipy.stats as stats\n",
    "#faire test stat pour évaluer corrélation entre variable cible et les var qualitatitves\n",
    "qualitative_vars = df2.select_dtypes(include=['object', 'category']).columns\n",
    "qualitative_vars\n",
    "quantitative_var = 'Conso_5_usages_é_finale'\n",
    "# Dictionnaire pour stocker les résultats\n",
    "anova_results = {}\n",
    "\n",
    "# Boucle pour effectuer le test ANOVA pour chaque variable qualitative\n",
    "for qual_var in qualitative_vars:\n",
    "    # Créer les groupes pour l'ANOVA en fonction des catégories de la variable qualitative\n",
    "    groups = [df2[df2[qual_var] == category][quantitative_var] for category in df2[qual_var].unique()]\n",
    "    # Filtrer les groupes pour ne garder que ceux avec au moins deux valeurs\n",
    "    groups = [group for group in groups if len(group) > 1]\n",
    "\n",
    "    # Effectuer le test ANOVA si le nombre de groupes est supérieur à 1\n",
    "    if len(groups) > 1:\n",
    "        f_stat, p_value = stats.f_oneway(*groups)\n",
    "        anova_results[qual_var] = {'F_statistic': f_stat, 'p_value': p_value}\n",
    "\n",
    "# Afficher les résultats\n",
    "for var, result in anova_results.items():\n",
    "    print(f\"Variable qualitative : {var}\")\n",
    "    print(f\"  Statistique F : {result['F_statistic']:.4f}, Valeur p : {result['p_value']:.4e}\\n\")\"\"\"\n",
    "\n"
   ]
  },
  {
   "cell_type": "code",
   "execution_count": 25,
   "metadata": {
    "id": "qsAvVrZPDkhp"
   },
   "outputs": [],
   "source": [
    "#choix \"au hasard\" de variable qualitative pour tester modele\n",
    "label_encoder = LabelEncoder()\n",
    "df1['Etiquette_DPE'] = label_encoder.fit_transform(df1['Etiquette_DPE'])"
   ]
  },
  {
   "cell_type": "code",
   "execution_count": 26,
   "metadata": {
    "id": "L7Y7FhFSEcY3"
   },
   "outputs": [],
   "source": [
    "df1['Type_énergie_principale_chauffage'] = label_encoder.fit_transform(df1['Type_énergie_principale_chauffage'])"
   ]
  },
  {
   "cell_type": "code",
   "execution_count": 27,
   "metadata": {
    "id": "E3A6lZ7wFd7P"
   },
   "outputs": [],
   "source": [
    "#df1['Qualité_isolation_murs'] = label_encoder.fit_transform(df1['Qualité_isolation_murs'])"
   ]
  },
  {
   "cell_type": "code",
   "execution_count": 28,
   "metadata": {
    "id": "x4Rzg4YgFCxA"
   },
   "outputs": [],
   "source": [
    "df1['Type_énergie_n°1'] = label_encoder.fit_transform(df1['Type_énergie_n°1'])"
   ]
  },
  {
   "cell_type": "markdown",
   "metadata": {
    "id": "fvg9l8oKueiY"
   },
   "source": [
    "### Test Régression"
   ]
  },
  {
   "cell_type": "code",
   "execution_count": 29,
   "metadata": {
    "colab": {
     "base_uri": "https://localhost:8080/"
    },
    "executionInfo": {
     "elapsed": 311,
     "status": "ok",
     "timestamp": 1730280954413,
     "user": {
      "displayName": "Linh Nhi LD",
      "userId": "13951524500816482489"
     },
     "user_tz": -60
    },
    "id": "GGFVrrXorOYi",
    "outputId": "c3f656b9-796f-44f2-c249-b59fe495c338"
   },
   "outputs": [
    {
     "ename": "ValueError",
     "evalue": "could not convert string to float: 'D'",
     "output_type": "error",
     "traceback": [
      "\u001b[1;31m---------------------------------------------------------------------------\u001b[0m",
      "\u001b[1;31mValueError\u001b[0m                                Traceback (most recent call last)",
      "\u001b[1;32m~\\AppData\\Local\\Temp\\ipykernel_51812\\1967005244.py\u001b[0m in \u001b[0;36m?\u001b[1;34m()\u001b[0m\n\u001b[1;32m---> 18\u001b[1;33m \u001b[1;31m#Test pour régression\u001b[0m\u001b[1;33m\u001b[0m\u001b[1;33m\u001b[0m\u001b[1;33m\u001b[0m\u001b[0m\n\u001b[0m\u001b[0;32m     19\u001b[0m \u001b[1;31m#avec seulement les valeurs quantitatives en valeur explicative\u001b[0m\u001b[1;33m\u001b[0m\u001b[1;33m\u001b[0m\u001b[1;33m\u001b[0m\u001b[0m\n\u001b[0;32m     20\u001b[0m \u001b[1;33m\u001b[0m\u001b[0m\n\u001b[0;32m     21\u001b[0m \u001b[1;32mfrom\u001b[0m \u001b[0msklearn\u001b[0m\u001b[1;33m.\u001b[0m\u001b[0mmodel_selection\u001b[0m \u001b[1;32mimport\u001b[0m \u001b[0mtrain_test_split\u001b[0m\u001b[1;33m\u001b[0m\u001b[1;33m\u001b[0m\u001b[0m\n",
      "\u001b[1;32mc:\\Users\\lcisse\\Desktop\\SISE\\GreanTech\\envML\\lib\\site-packages\\sklearn\\base.py\u001b[0m in \u001b[0;36m?\u001b[1;34m(estimator, *args, **kwargs)\u001b[0m\n\u001b[0;32m   1469\u001b[0m                 skip_parameter_validation=(\n\u001b[0;32m   1470\u001b[0m                     \u001b[0mprefer_skip_nested_validation\u001b[0m \u001b[1;32mor\u001b[0m \u001b[0mglobal_skip_validation\u001b[0m\u001b[1;33m\u001b[0m\u001b[1;33m\u001b[0m\u001b[0m\n\u001b[0;32m   1471\u001b[0m                 )\n\u001b[0;32m   1472\u001b[0m             ):\n\u001b[1;32m-> 1473\u001b[1;33m                 \u001b[1;32mreturn\u001b[0m \u001b[0mfit_method\u001b[0m\u001b[1;33m(\u001b[0m\u001b[0mestimator\u001b[0m\u001b[1;33m,\u001b[0m \u001b[1;33m*\u001b[0m\u001b[0margs\u001b[0m\u001b[1;33m,\u001b[0m \u001b[1;33m**\u001b[0m\u001b[0mkwargs\u001b[0m\u001b[1;33m)\u001b[0m\u001b[1;33m\u001b[0m\u001b[1;33m\u001b[0m\u001b[0m\n\u001b[0m",
      "\u001b[1;32mc:\\Users\\lcisse\\Desktop\\SISE\\GreanTech\\envML\\lib\\site-packages\\sklearn\\linear_model\\_base.py\u001b[0m in \u001b[0;36m?\u001b[1;34m(self, X, y, sample_weight)\u001b[0m\n\u001b[0;32m    605\u001b[0m         \u001b[0mn_jobs_\u001b[0m \u001b[1;33m=\u001b[0m \u001b[0mself\u001b[0m\u001b[1;33m.\u001b[0m\u001b[0mn_jobs\u001b[0m\u001b[1;33m\u001b[0m\u001b[1;33m\u001b[0m\u001b[0m\n\u001b[0;32m    606\u001b[0m \u001b[1;33m\u001b[0m\u001b[0m\n\u001b[0;32m    607\u001b[0m         \u001b[0maccept_sparse\u001b[0m \u001b[1;33m=\u001b[0m \u001b[1;32mFalse\u001b[0m \u001b[1;32mif\u001b[0m \u001b[0mself\u001b[0m\u001b[1;33m.\u001b[0m\u001b[0mpositive\u001b[0m \u001b[1;32melse\u001b[0m \u001b[1;33m[\u001b[0m\u001b[1;34m\"csr\"\u001b[0m\u001b[1;33m,\u001b[0m \u001b[1;34m\"csc\"\u001b[0m\u001b[1;33m,\u001b[0m \u001b[1;34m\"coo\"\u001b[0m\u001b[1;33m]\u001b[0m\u001b[1;33m\u001b[0m\u001b[1;33m\u001b[0m\u001b[0m\n\u001b[0;32m    608\u001b[0m \u001b[1;33m\u001b[0m\u001b[0m\n\u001b[1;32m--> 609\u001b[1;33m         X, y = self._validate_data(\n\u001b[0m\u001b[0;32m    610\u001b[0m             \u001b[0mX\u001b[0m\u001b[1;33m,\u001b[0m\u001b[1;33m\u001b[0m\u001b[1;33m\u001b[0m\u001b[0m\n\u001b[0;32m    611\u001b[0m             \u001b[0my\u001b[0m\u001b[1;33m,\u001b[0m\u001b[1;33m\u001b[0m\u001b[1;33m\u001b[0m\u001b[0m\n\u001b[0;32m    612\u001b[0m             \u001b[0maccept_sparse\u001b[0m\u001b[1;33m=\u001b[0m\u001b[0maccept_sparse\u001b[0m\u001b[1;33m,\u001b[0m\u001b[1;33m\u001b[0m\u001b[1;33m\u001b[0m\u001b[0m\n",
      "\u001b[1;32mc:\\Users\\lcisse\\Desktop\\SISE\\GreanTech\\envML\\lib\\site-packages\\sklearn\\base.py\u001b[0m in \u001b[0;36m?\u001b[1;34m(self, X, y, reset, validate_separately, cast_to_ndarray, **check_params)\u001b[0m\n\u001b[0;32m    646\u001b[0m                 \u001b[1;32mif\u001b[0m \u001b[1;34m\"estimator\"\u001b[0m \u001b[1;32mnot\u001b[0m \u001b[1;32min\u001b[0m \u001b[0mcheck_y_params\u001b[0m\u001b[1;33m:\u001b[0m\u001b[1;33m\u001b[0m\u001b[1;33m\u001b[0m\u001b[0m\n\u001b[0;32m    647\u001b[0m                     \u001b[0mcheck_y_params\u001b[0m \u001b[1;33m=\u001b[0m \u001b[1;33m{\u001b[0m\u001b[1;33m**\u001b[0m\u001b[0mdefault_check_params\u001b[0m\u001b[1;33m,\u001b[0m \u001b[1;33m**\u001b[0m\u001b[0mcheck_y_params\u001b[0m\u001b[1;33m}\u001b[0m\u001b[1;33m\u001b[0m\u001b[1;33m\u001b[0m\u001b[0m\n\u001b[0;32m    648\u001b[0m                 \u001b[0my\u001b[0m \u001b[1;33m=\u001b[0m \u001b[0mcheck_array\u001b[0m\u001b[1;33m(\u001b[0m\u001b[0my\u001b[0m\u001b[1;33m,\u001b[0m \u001b[0minput_name\u001b[0m\u001b[1;33m=\u001b[0m\u001b[1;34m\"y\"\u001b[0m\u001b[1;33m,\u001b[0m \u001b[1;33m**\u001b[0m\u001b[0mcheck_y_params\u001b[0m\u001b[1;33m)\u001b[0m\u001b[1;33m\u001b[0m\u001b[1;33m\u001b[0m\u001b[0m\n\u001b[0;32m    649\u001b[0m             \u001b[1;32melse\u001b[0m\u001b[1;33m:\u001b[0m\u001b[1;33m\u001b[0m\u001b[1;33m\u001b[0m\u001b[0m\n\u001b[1;32m--> 650\u001b[1;33m                 \u001b[0mX\u001b[0m\u001b[1;33m,\u001b[0m \u001b[0my\u001b[0m \u001b[1;33m=\u001b[0m \u001b[0mcheck_X_y\u001b[0m\u001b[1;33m(\u001b[0m\u001b[0mX\u001b[0m\u001b[1;33m,\u001b[0m \u001b[0my\u001b[0m\u001b[1;33m,\u001b[0m \u001b[1;33m**\u001b[0m\u001b[0mcheck_params\u001b[0m\u001b[1;33m)\u001b[0m\u001b[1;33m\u001b[0m\u001b[1;33m\u001b[0m\u001b[0m\n\u001b[0m\u001b[0;32m    651\u001b[0m             \u001b[0mout\u001b[0m \u001b[1;33m=\u001b[0m \u001b[0mX\u001b[0m\u001b[1;33m,\u001b[0m \u001b[0my\u001b[0m\u001b[1;33m\u001b[0m\u001b[1;33m\u001b[0m\u001b[0m\n\u001b[0;32m    652\u001b[0m \u001b[1;33m\u001b[0m\u001b[0m\n\u001b[0;32m    653\u001b[0m         \u001b[1;32mif\u001b[0m \u001b[1;32mnot\u001b[0m \u001b[0mno_val_X\u001b[0m \u001b[1;32mand\u001b[0m \u001b[0mcheck_params\u001b[0m\u001b[1;33m.\u001b[0m\u001b[0mget\u001b[0m\u001b[1;33m(\u001b[0m\u001b[1;34m\"ensure_2d\"\u001b[0m\u001b[1;33m,\u001b[0m \u001b[1;32mTrue\u001b[0m\u001b[1;33m)\u001b[0m\u001b[1;33m:\u001b[0m\u001b[1;33m\u001b[0m\u001b[1;33m\u001b[0m\u001b[0m\n",
      "\u001b[1;32mc:\\Users\\lcisse\\Desktop\\SISE\\GreanTech\\envML\\lib\\site-packages\\sklearn\\utils\\validation.py\u001b[0m in \u001b[0;36m?\u001b[1;34m(X, y, accept_sparse, accept_large_sparse, dtype, order, copy, force_writeable, force_all_finite, ensure_2d, allow_nd, multi_output, ensure_min_samples, ensure_min_features, y_numeric, estimator)\u001b[0m\n\u001b[0;32m   1297\u001b[0m         raise ValueError(\n\u001b[0;32m   1298\u001b[0m             \u001b[1;34mf\"{estimator_name} requires y to be passed, but the target y is None\"\u001b[0m\u001b[1;33m\u001b[0m\u001b[1;33m\u001b[0m\u001b[0m\n\u001b[0;32m   1299\u001b[0m         )\n\u001b[0;32m   1300\u001b[0m \u001b[1;33m\u001b[0m\u001b[0m\n\u001b[1;32m-> 1301\u001b[1;33m     X = check_array(\n\u001b[0m\u001b[0;32m   1302\u001b[0m         \u001b[0mX\u001b[0m\u001b[1;33m,\u001b[0m\u001b[1;33m\u001b[0m\u001b[1;33m\u001b[0m\u001b[0m\n\u001b[0;32m   1303\u001b[0m         \u001b[0maccept_sparse\u001b[0m\u001b[1;33m=\u001b[0m\u001b[0maccept_sparse\u001b[0m\u001b[1;33m,\u001b[0m\u001b[1;33m\u001b[0m\u001b[1;33m\u001b[0m\u001b[0m\n\u001b[0;32m   1304\u001b[0m         \u001b[0maccept_large_sparse\u001b[0m\u001b[1;33m=\u001b[0m\u001b[0maccept_large_sparse\u001b[0m\u001b[1;33m,\u001b[0m\u001b[1;33m\u001b[0m\u001b[1;33m\u001b[0m\u001b[0m\n",
      "\u001b[1;32mc:\\Users\\lcisse\\Desktop\\SISE\\GreanTech\\envML\\lib\\site-packages\\sklearn\\utils\\validation.py\u001b[0m in \u001b[0;36m?\u001b[1;34m(array, accept_sparse, accept_large_sparse, dtype, order, copy, force_writeable, force_all_finite, ensure_2d, allow_nd, ensure_min_samples, ensure_min_features, estimator, input_name)\u001b[0m\n\u001b[0;32m   1010\u001b[0m                     \u001b[0marray\u001b[0m \u001b[1;33m=\u001b[0m \u001b[0mxp\u001b[0m\u001b[1;33m.\u001b[0m\u001b[0mastype\u001b[0m\u001b[1;33m(\u001b[0m\u001b[0marray\u001b[0m\u001b[1;33m,\u001b[0m \u001b[0mdtype\u001b[0m\u001b[1;33m,\u001b[0m \u001b[0mcopy\u001b[0m\u001b[1;33m=\u001b[0m\u001b[1;32mFalse\u001b[0m\u001b[1;33m)\u001b[0m\u001b[1;33m\u001b[0m\u001b[1;33m\u001b[0m\u001b[0m\n\u001b[0;32m   1011\u001b[0m                 \u001b[1;32melse\u001b[0m\u001b[1;33m:\u001b[0m\u001b[1;33m\u001b[0m\u001b[1;33m\u001b[0m\u001b[0m\n\u001b[0;32m   1012\u001b[0m                     \u001b[0marray\u001b[0m \u001b[1;33m=\u001b[0m \u001b[0m_asarray_with_order\u001b[0m\u001b[1;33m(\u001b[0m\u001b[0marray\u001b[0m\u001b[1;33m,\u001b[0m \u001b[0morder\u001b[0m\u001b[1;33m=\u001b[0m\u001b[0morder\u001b[0m\u001b[1;33m,\u001b[0m \u001b[0mdtype\u001b[0m\u001b[1;33m=\u001b[0m\u001b[0mdtype\u001b[0m\u001b[1;33m,\u001b[0m \u001b[0mxp\u001b[0m\u001b[1;33m=\u001b[0m\u001b[0mxp\u001b[0m\u001b[1;33m)\u001b[0m\u001b[1;33m\u001b[0m\u001b[1;33m\u001b[0m\u001b[0m\n\u001b[0;32m   1013\u001b[0m             \u001b[1;32mexcept\u001b[0m \u001b[0mComplexWarning\u001b[0m \u001b[1;32mas\u001b[0m \u001b[0mcomplex_warning\u001b[0m\u001b[1;33m:\u001b[0m\u001b[1;33m\u001b[0m\u001b[1;33m\u001b[0m\u001b[0m\n\u001b[1;32m-> 1014\u001b[1;33m                 raise ValueError(\n\u001b[0m\u001b[0;32m   1015\u001b[0m                     \u001b[1;34m\"Complex data not supported\\n{}\\n\"\u001b[0m\u001b[1;33m.\u001b[0m\u001b[0mformat\u001b[0m\u001b[1;33m(\u001b[0m\u001b[0marray\u001b[0m\u001b[1;33m)\u001b[0m\u001b[1;33m\u001b[0m\u001b[1;33m\u001b[0m\u001b[0m\n\u001b[0;32m   1016\u001b[0m                 ) from complex_warning\n\u001b[0;32m   1017\u001b[0m \u001b[1;33m\u001b[0m\u001b[0m\n",
      "\u001b[1;32mc:\\Users\\lcisse\\Desktop\\SISE\\GreanTech\\envML\\lib\\site-packages\\sklearn\\utils\\_array_api.py\u001b[0m in \u001b[0;36m?\u001b[1;34m(array, dtype, order, copy, xp, device)\u001b[0m\n\u001b[0;32m    741\u001b[0m         \u001b[1;31m# Use NumPy API to support order\u001b[0m\u001b[1;33m\u001b[0m\u001b[1;33m\u001b[0m\u001b[1;33m\u001b[0m\u001b[0m\n\u001b[0;32m    742\u001b[0m         \u001b[1;32mif\u001b[0m \u001b[0mcopy\u001b[0m \u001b[1;32mis\u001b[0m \u001b[1;32mTrue\u001b[0m\u001b[1;33m:\u001b[0m\u001b[1;33m\u001b[0m\u001b[1;33m\u001b[0m\u001b[0m\n\u001b[0;32m    743\u001b[0m             \u001b[0marray\u001b[0m \u001b[1;33m=\u001b[0m \u001b[0mnumpy\u001b[0m\u001b[1;33m.\u001b[0m\u001b[0marray\u001b[0m\u001b[1;33m(\u001b[0m\u001b[0marray\u001b[0m\u001b[1;33m,\u001b[0m \u001b[0morder\u001b[0m\u001b[1;33m=\u001b[0m\u001b[0morder\u001b[0m\u001b[1;33m,\u001b[0m \u001b[0mdtype\u001b[0m\u001b[1;33m=\u001b[0m\u001b[0mdtype\u001b[0m\u001b[1;33m)\u001b[0m\u001b[1;33m\u001b[0m\u001b[1;33m\u001b[0m\u001b[0m\n\u001b[0;32m    744\u001b[0m         \u001b[1;32melse\u001b[0m\u001b[1;33m:\u001b[0m\u001b[1;33m\u001b[0m\u001b[1;33m\u001b[0m\u001b[0m\n\u001b[1;32m--> 745\u001b[1;33m             \u001b[0marray\u001b[0m \u001b[1;33m=\u001b[0m \u001b[0mnumpy\u001b[0m\u001b[1;33m.\u001b[0m\u001b[0masarray\u001b[0m\u001b[1;33m(\u001b[0m\u001b[0marray\u001b[0m\u001b[1;33m,\u001b[0m \u001b[0morder\u001b[0m\u001b[1;33m=\u001b[0m\u001b[0morder\u001b[0m\u001b[1;33m,\u001b[0m \u001b[0mdtype\u001b[0m\u001b[1;33m=\u001b[0m\u001b[0mdtype\u001b[0m\u001b[1;33m)\u001b[0m\u001b[1;33m\u001b[0m\u001b[1;33m\u001b[0m\u001b[0m\n\u001b[0m\u001b[0;32m    746\u001b[0m \u001b[1;33m\u001b[0m\u001b[0m\n\u001b[0;32m    747\u001b[0m         \u001b[1;31m# At this point array is a NumPy ndarray. We convert it to an array\u001b[0m\u001b[1;33m\u001b[0m\u001b[1;33m\u001b[0m\u001b[1;33m\u001b[0m\u001b[0m\n\u001b[0;32m    748\u001b[0m         \u001b[1;31m# container that is consistent with the input's namespace.\u001b[0m\u001b[1;33m\u001b[0m\u001b[1;33m\u001b[0m\u001b[1;33m\u001b[0m\u001b[0m\n",
      "\u001b[1;32mc:\\Users\\lcisse\\Desktop\\SISE\\GreanTech\\envML\\lib\\site-packages\\pandas\\core\\generic.py\u001b[0m in \u001b[0;36m?\u001b[1;34m(self, dtype, copy)\u001b[0m\n\u001b[0;32m   2149\u001b[0m     def __array__(\n\u001b[0;32m   2150\u001b[0m         \u001b[0mself\u001b[0m\u001b[1;33m,\u001b[0m \u001b[0mdtype\u001b[0m\u001b[1;33m:\u001b[0m \u001b[0mnpt\u001b[0m\u001b[1;33m.\u001b[0m\u001b[0mDTypeLike\u001b[0m \u001b[1;33m|\u001b[0m \u001b[1;32mNone\u001b[0m \u001b[1;33m=\u001b[0m \u001b[1;32mNone\u001b[0m\u001b[1;33m,\u001b[0m \u001b[0mcopy\u001b[0m\u001b[1;33m:\u001b[0m \u001b[0mbool_t\u001b[0m \u001b[1;33m|\u001b[0m \u001b[1;32mNone\u001b[0m \u001b[1;33m=\u001b[0m \u001b[1;32mNone\u001b[0m\u001b[1;33m\u001b[0m\u001b[1;33m\u001b[0m\u001b[0m\n\u001b[0;32m   2151\u001b[0m     ) -> np.ndarray:\n\u001b[0;32m   2152\u001b[0m         \u001b[0mvalues\u001b[0m \u001b[1;33m=\u001b[0m \u001b[0mself\u001b[0m\u001b[1;33m.\u001b[0m\u001b[0m_values\u001b[0m\u001b[1;33m\u001b[0m\u001b[1;33m\u001b[0m\u001b[0m\n\u001b[1;32m-> 2153\u001b[1;33m         \u001b[0marr\u001b[0m \u001b[1;33m=\u001b[0m \u001b[0mnp\u001b[0m\u001b[1;33m.\u001b[0m\u001b[0masarray\u001b[0m\u001b[1;33m(\u001b[0m\u001b[0mvalues\u001b[0m\u001b[1;33m,\u001b[0m \u001b[0mdtype\u001b[0m\u001b[1;33m=\u001b[0m\u001b[0mdtype\u001b[0m\u001b[1;33m)\u001b[0m\u001b[1;33m\u001b[0m\u001b[1;33m\u001b[0m\u001b[0m\n\u001b[0m\u001b[0;32m   2154\u001b[0m         if (\n\u001b[0;32m   2155\u001b[0m             \u001b[0mastype_is_view\u001b[0m\u001b[1;33m(\u001b[0m\u001b[0mvalues\u001b[0m\u001b[1;33m.\u001b[0m\u001b[0mdtype\u001b[0m\u001b[1;33m,\u001b[0m \u001b[0marr\u001b[0m\u001b[1;33m.\u001b[0m\u001b[0mdtype\u001b[0m\u001b[1;33m)\u001b[0m\u001b[1;33m\u001b[0m\u001b[1;33m\u001b[0m\u001b[0m\n\u001b[0;32m   2156\u001b[0m             \u001b[1;32mand\u001b[0m \u001b[0musing_copy_on_write\u001b[0m\u001b[1;33m(\u001b[0m\u001b[1;33m)\u001b[0m\u001b[1;33m\u001b[0m\u001b[1;33m\u001b[0m\u001b[0m\n",
      "\u001b[1;31mValueError\u001b[0m: could not convert string to float: 'D'"
     ]
    }
   ],
   "source": [
    "#Test pour régression\n",
    "#avec seulement les valeurs quantitatives en valeur explicative\n",
    "\n",
    "from sklearn.model_selection import train_test_split\n",
    "from sklearn.linear_model import LinearRegression\n",
    "from sklearn.metrics import mean_absolute_error, root_mean_squared_error, r2_score\n",
    "\n",
    "# Reshape X pour qu'il soit à 2 dimensions\n",
    "X = df2[['Surface_habitable_logement', 'Ubat_W/m²_K', 'Etiquette_DPE' ,'_score', 'Type_énergie_principale_chauffage', 'Type_énergie_n°1']]  # Utilisez des doubles crochets pour obtenir un DataFrame\n",
    "\n",
    "Y = df2['Conso_5_usages_é_finale']\n",
    "\n",
    "# Séparation des données en ensembles d'entraînement et de test\n",
    "X_train, X_test, y_train, y_test = train_test_split(X, Y, test_size=0.3, random_state=42)\n",
    "\n",
    "# Modèle de régression linéaire\n",
    "lr_model = LinearRegression()\n",
    "lr_model = lr_model.fit(X_train, y_train)\n",
    "\n",
    "y_pred = lr_model.predict(X_test)\n",
    "\n",
    "print(\"MAE : \" + str(mean_absolute_error(y_test, y_pred)))\n",
    "print(\"RMSE : \" + str(root_mean_squared_error(y_test, y_pred)))\n",
    "print(\"R² : \" + str(r2_score(y_test, y_pred)))\n"
   ]
  },
  {
   "cell_type": "code",
   "execution_count": null,
   "metadata": {
    "colab": {
     "base_uri": "https://localhost:8080/"
    },
    "executionInfo": {
     "elapsed": 11988,
     "status": "ok",
     "timestamp": 1730279695532,
     "user": {
      "displayName": "Linh Nhi LD",
      "userId": "13951524500816482489"
     },
     "user_tz": -60
    },
    "id": "5PtEiBcxtf0z",
    "outputId": "7e1a0853-980d-481e-c629-7ba7bf4fe001"
   },
   "outputs": [],
   "source": [
    "from sklearn.ensemble import RandomForestRegressor\n",
    "\n",
    "# Créer et entraîner un modèle de forêt aléatoire\n",
    "rf_model = RandomForestRegressor(n_estimators=100, max_depth=5, random_state=42)\n",
    "rf_model.fit(X_train, y_train)\n",
    "\n",
    "# Prédictions sur l'ensemble de test\n",
    "y_pred = rf_model.predict(X_test)\n",
    "\n",
    "# Calcul des métriques\n",
    "print(\"RMSE : \" + str(root_mean_squared_error(y_test, y_pred)))\n",
    "print(\"MAE : \" + str(mean_absolute_error(y_test, y_pred)))\n",
    "print(\"R2 : \" + str(r2_score(y_test, y_pred)))"
   ]
  },
  {
   "cell_type": "code",
   "execution_count": null,
   "metadata": {
    "colab": {
     "base_uri": "https://localhost:8080/"
    },
    "executionInfo": {
     "elapsed": 2366,
     "status": "ok",
     "timestamp": 1730279738143,
     "user": {
      "displayName": "Linh Nhi LD",
      "userId": "13951524500816482489"
     },
     "user_tz": -60
    },
    "id": "yhK3SzKztmgu",
    "outputId": "2fb69648-bd75-4dfc-db70-27d49eb20c8b"
   },
   "outputs": [],
   "source": [
    "from xgboost import XGBRegressor\n",
    "from sklearn.metrics import root_mean_squared_error, mean_absolute_error, r2_score\n",
    "\n",
    "# Entraîner le modèle\n",
    "my_model = XGBRegressor()\n",
    "my_model.fit(X_train, y_train)\n",
    "\n",
    "# Prédictions sur les ensembles de test et de train\n",
    "y_pred_test = my_model.predict(X_test)\n",
    "y_pred_train = my_model.predict(X_train)\n",
    "\n",
    "# Calcul des métriques pour l'ensemble de test\n",
    "rmse_test = root_mean_squared_error(y_test, y_pred_test)\n",
    "mae_test = mean_absolute_error(y_test, y_pred_test)\n",
    "r2_test = r2_score(y_test, y_pred_test)\n",
    "\n",
    "# Calcul des métriques pour l'ensemble de train\n",
    "rmse_train = root_mean_squared_error(y_train, y_pred_train)\n",
    "mae_train = mean_absolute_error(y_train, y_pred_train)\n",
    "r2_train = r2_score(y_train, y_pred_train)\n",
    "\n",
    "# Affichage des métriques\n",
    "print(\"Métriques sur l'ensemble de Test :\")\n",
    "print(\"RMSE :\", rmse_test)\n",
    "print(\"MAE :\", mae_test)\n",
    "print(\"R2 :\", r2_test)\n",
    "\n",
    "print(\"\\nMétriques sur l'ensemble de Train :\")\n",
    "print(\"RMSE :\", rmse_train)\n",
    "print(\"MAE :\", mae_train)\n",
    "print(\"R2 :\", r2_train)\n"
   ]
  },
  {
   "cell_type": "markdown",
   "metadata": {
    "id": "v4jWkXe3cUIp"
   },
   "source": [
    "## Features importances avec Random Forest"
   ]
  },
  {
   "cell_type": "code",
   "execution_count": null,
   "metadata": {
    "id": "mAe7It5mdaZx"
   },
   "outputs": [],
   "source": [
    "# {'Ubat_W/m²_K', \"Complément_d'adresse_bâtiment\", 'Méthode_application_DPE', 'N°_département_(BAN)', 'Qualité_isolation_menuiseries', 'Nombre_appartement', 'Emission_GES_5_usages_énergie_n°2', 'Coordonnée_cartographique_X_(BAN)', 'Date_fin_validité_DPE', 'Protection_solaire_exterieure_(0/1)', 'Coût_total_5_usages', 'Conso_ECS_dépensier_é_primaire', 'Catégorie_ENR', 'Présence_brasseur_air_(0/1)', 'Date_établissement_DPE', 'Score_BAN', 'Type_énergie_n°2', 'Conso_auxiliaires_é_primaire', 'N°_étage_appartement', 'N°_région_(BAN)', 'Deperditions_planchers_hauts', 'Adresse_brute', 'Emission_GES_refroidissement_dépensier', 'Version_DPE', 'Deperditions_planchers_bas', 'Surface_tertiaire_immeuble', 'Coût_chauffage', '_i', 'Qualité_isolation_plancher_bas', 'Déperditions_renouvellement_air', 'Surface_habitable_logement', 'Type_énergie_n°1', 'Conso_chauffage_é_finale', 'Besoin_refroidissement', 'Emission_GES_éclairage', 'Code_INSEE_(BAN)', 'Conso_refroidissement_dépensier_é_primaire', 'Conso_ECS_dépensier_é_finale', 'Typologie_logement', '_score', 'Classe_altitude', 'Coût_ECS', 'Conso_ECS_é_primaire', 'Nombre_niveau_logement', 'Adresse_(BAN)', 'Emission_GES_ECS', 'Conso_chauffage_dépensier_é_finale', 'Date_visite_diagnostiqueur', 'Conso_refroidissement_é_finale', 'Déperditions_ponts_thermiques', 'Coordonnée_cartographique_Y_(BAN)', 'Type_énergie_n°3', '_geopoint', 'Emission_GES_5_usages_par_m²', 'Logement_traversant_(0/1)', 'Conso_chauffage_é_primaire', 'Deperditions_enveloppe', \"Cage_d'escalier\", 'Emission_GES_5_usages_énergie_n°1', 'Hauteur_sous-plafond', 'Inertie_lourde_(0/1)', 'Qualité_isolation_enveloppe', 'Conso_éclairage_é_finale', 'Identifiant__BAN', 'Déperditions_portes', 'Coût_chauffage_dépensier', 'Emission_GES_auxiliaires', 'Statut_géocodage', 'Emission_GES_refroidissement', 'Position_logement_dans_immeuble', 'Coût_refroidissement', 'Conso_5_usages_é_primaire', 'Besoin_ECS', 'Coût_chauffage_énergie_n°1', 'Indicateur_confort_été', 'Conso_5_usages_é_finale_énergie_n°1', 'Code_postal_(BAN)', 'Emission_GES_chauffage', 'Type_installation_chauffage', '_id', 'Coût_ECS_dépensier', 'Surface_habitable_immeuble', 'Conso_éclairage_é_primaire', '_rand', 'Nombre_niveau_immeuble', 'N°_DPE_remplacé', 'Conso_5_usages/m²_é_finale', 'Type_bâtiment', 'Conso_refroidissement_dépensier_é_finale', 'Nom_résidence', 'Date_réception_DPE', 'Qualité_isolation_plancher_haut_comble_aménagé', 'N°DPE', 'Type_énergie_principale_chauffage', 'Type_installation_ECS_(général)', 'Isolation_toiture_(0/1)', 'Conso_5_usages_é_finale', 'Conso_chauffage_dépensier_é_primaire', 'Coût_éclairage', 'Classe_inertie_bâtiment', 'Etiquette_GES', 'N°_voie_(BAN)', 'Coût_ECS_énergie_n°1', 'Emission_GES_chauffage_dépensier', 'Coût_chauffage_énergie_n°2', 'Conso_auxiliaires_é_finale', 'Déperditions_murs', 'Deperditions_baies_vitrées', 'Qualité_isolation_murs', 'Etiquette_DPE', 'Emission_GES_5_usages', 'Emission_GES_5_usages_énergie_n°3', 'Conso_refroidissement_é_primaire', 'N°_DPE_immeuble_associé', 'Coût_ECS_énergie_n°2', 'Invariant_fiscal_logement', 'Code_postal_(brut)', 'Zone_climatique_', 'Coût_ECS_énergie_n°3', 'Coût_chauffage_énergie_n°3', 'Conso_ECS_é_finale', 'Modèle_DPE', 'Coût_auxiliaires', 'Coût_refroidissement_dépensier', 'Nom__rue_(BAN)', 'Nom__commune_(BAN)', 'Emission_GES_ECS_dépensier', 'Conso_5_usages_par_m²_é_primaire', 'Besoin_chauffage', 'Appartement_non_visité_(0/1)', \"Complément_d'adresse_logement\"}\n",
    "# 131\n",
    "# (287165, 131)\n",
    "# Liste des colonnes ainsi que la shape\n",
    "# On veut comme target Etiquette_DPE ainsi que Conso_5_usages_é_finale\n"
   ]
  },
  {
   "cell_type": "markdown",
   "metadata": {
    "id": "U3nzsqfSduGS"
   },
   "source": [
    "### Traitement Classification avec Etiquette_DPE"
   ]
  },
  {
   "cell_type": "code",
   "execution_count": null,
   "metadata": {
    "id": "gNKYUQF9cc6b"
   },
   "outputs": [],
   "source": [
    "# Je pars du principe que df1 est déjà nettoyer\n",
    "\n",
    "target = \"Etiquette_DPE\"\n",
    "print(df1[target].value_counts().sum)\n",
    "# Il n'y a que 5 étiquuettes + imbalanced data ? Utilisez SMOTE ?"
   ]
  },
  {
   "cell_type": "markdown",
   "metadata": {
    "id": "kDSJBvkxehL7"
   },
   "source": [
    "### Label Encoding"
   ]
  },
  {
   "cell_type": "code",
   "execution_count": null,
   "metadata": {
    "id": "K-gC-Oomcf-F"
   },
   "outputs": [],
   "source": [
    "if df1[target].dtype == 'object':\n",
    "    label_encoder = LabelEncoder()\n",
    "    df1[target] = label_encoder.fit_transform(df1[target])\n"
   ]
  },
  {
   "cell_type": "markdown",
   "metadata": {
    "id": "5yEi8Pa9en8K"
   },
   "source": [
    "### Train test/split"
   ]
  },
  {
   "cell_type": "code",
   "execution_count": null,
   "metadata": {
    "id": "gP5fsUE_cabA"
   },
   "outputs": [],
   "source": [
    "X = df1.drop(target, axis=1)\n",
    "y = df1[target]\n",
    "\n",
    "X_train, X_test, y_train, y_test = train_test_split(X, y, test_size=0.2, random_state=42, stratify=y)"
   ]
  },
  {
   "cell_type": "markdown",
   "metadata": {
    "id": "GLolaBDFfHSF"
   },
   "source": [
    "### Model"
   ]
  },
  {
   "cell_type": "code",
   "execution_count": null,
   "metadata": {
    "id": "wqZb4SUGcaRh"
   },
   "outputs": [],
   "source": [
    "# 3. Encode categorical features in X_train and X_test separately\n",
    "# Create a single LabelEncoder for each column to ensure consistent encoding across train and test sets\n",
    "\n",
    "#Store all encoders in a dictionary\n",
    "encoders = {}\n",
    "\n",
    "for column in X_train.select_dtypes(include=['object']).columns:\n",
    "    encoders[column] = LabelEncoder()\n",
    "    #Fit on the combined data of train and test\n",
    "    # Handle unseen values during transform by setting 'handle_unknown' to 'ignore'\n",
    "\n",
    "    # Ensure all unique values in both train and test are considered\n",
    "    all_values = pd.concat([X_train[column], X_test[column]], axis=0).unique()\n",
    "\n",
    "    encoders[column].fit(all_values)  # fitting only train data previously\n",
    "\n",
    "    # Use try-except block to handle unseen values during transform\n",
    "    try:\n",
    "        X_train[column] = encoders[column].transform(X_train[column])\n",
    "        X_test[column] = encoders[column].transform(X_test[column]) # Use transform, not fit_transform, on test dat\n",
    "    except ValueError as e:\n",
    "        # Print the error message and the problematic column\n",
    "        print(f\"Error encoding column '{column}': {e}\")\n",
    "        print(f\"Dropping column '{column}' due to unseen values.\")\n",
    "        X_train = X_train.drop(columns=[column])\n",
    "        X_test = X_test.drop(columns=[column])\n",
    "\n",
    "# Convert all columns to numeric after encoding to avoid data type issues\n",
    "# errors='coerce' will replace any value that cannot be converted with NaN.\n",
    "# You may need to handle these NaN values (e.g., imputation) separately if they are significant.\n",
    "\n",
    "X_train = X_train.apply(pd.to_numeric, errors='coerce')\n",
    "X_test = X_test.apply(pd.to_numeric, errors='coerce')\n",
    "\n",
    "model = RandomForestClassifier(n_estimators=100, random_state=42)\n",
    "model.fit(X_train, y_train)"
   ]
  },
  {
   "cell_type": "markdown",
   "metadata": {
    "id": "S4QvNWg_iJ1d"
   },
   "source": [
    "### Evaluation"
   ]
  },
  {
   "cell_type": "code",
   "execution_count": null,
   "metadata": {
    "id": "D7D5xivliNhD"
   },
   "outputs": [],
   "source": [
    "y_pred = model.predict(X_test)\n",
    "\n",
    "# accuracy\n",
    "accuracy = accuracy_score(y_test, y_pred)\n",
    "print(f\"Accuracy du Random Forest : {accuracy}\")\n"
   ]
  },
  {
   "cell_type": "code",
   "execution_count": null,
   "metadata": {
    "id": "GvcJFEgnh2xO"
   },
   "outputs": [],
   "source": [
    "feature_importances = model.feature_importances_\n",
    "# feature_importances"
   ]
  },
  {
   "cell_type": "code",
   "execution_count": null,
   "metadata": {
    "id": "zhsmRxLlcaC0"
   },
   "outputs": [],
   "source": [
    "\n",
    "# Tri des features par importance\n",
    "indices = np.argsort(feature_importances)[::-1]\n",
    "top_n = 5  # Limite à 5\n",
    "top_features = X.columns[indices[:top_n]]\n",
    "top_importances = feature_importances[indices[:top_n]]\n",
    "\n",
    "# Visualisation\n",
    "plt.figure(figsize=(10, 8))\n",
    "plt.barh(range(top_n), top_importances[::-1], align='center')\n",
    "plt.yticks(range(top_n), top_features[::-1])\n",
    "plt.xlabel(\"Importance des variables\")\n",
    "plt.title(\"Top 5 des variables les plus importantes pour prédire 'Etiquette_DPE'\")\n",
    "plt.show()\n"
   ]
  },
  {
   "cell_type": "markdown",
   "metadata": {
    "id": "nszeuqkMcT-r"
   },
   "source": []
  },
  {
   "cell_type": "markdown",
   "metadata": {
    "id": "w4wwZvsWcTwz"
   },
   "source": []
  },
  {
   "cell_type": "code",
   "execution_count": null,
   "metadata": {
    "id": "DYXng-97bnNU"
   },
   "outputs": [],
   "source": [
    "\n",
    "# Définir une fonction pour sauvegarder le modèle\n",
    "def save_model(model, filename='RF_Classification_Etiquette.pkl'):\n",
    "    \"\"\"\n",
    "    Sauvegarde le modèle au format pickle avec gestion des exceptions.\n",
    "\n",
    "    Parameters:\n",
    "    model: objet scikit-learn entraîné\n",
    "    filename (str): chemin et nom du fichier pour sauvegarder le modèle\n",
    "    \"\"\"\n",
    "\n",
    "    # Sauvegarde avec gestion d'exception\n",
    "    try:\n",
    "        with open(filename, 'wb') as file:\n",
    "            pickle.dump(model, file)\n",
    "        print(f\"Modèle sauvegardé avec succès sous : {filename}\")\n",
    "    except Exception as e:\n",
    "        print(f\"Erreur lors de la sauvegarde du modèle : {e}\")\n",
    "\n",
    "# Appel de la fonction pour sauvegarder le modèle\n",
    "save_model(model, 'RF_Classification_Etiquette.pkl')\n"
   ]
  }
 ],
 "metadata": {
  "colab": {
   "provenance": []
  },
  "kernelspec": {
   "display_name": "envML",
   "language": "python",
   "name": "python3"
  },
  "language_info": {
   "codemirror_mode": {
    "name": "ipython",
    "version": 3
   },
   "file_extension": ".py",
   "mimetype": "text/x-python",
   "name": "python",
   "nbconvert_exporter": "python",
   "pygments_lexer": "ipython3",
   "version": "3.9.0"
  }
 },
 "nbformat": 4,
 "nbformat_minor": 0
}
