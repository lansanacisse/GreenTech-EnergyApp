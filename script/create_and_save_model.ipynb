{
 "cells": [
  {
   "cell_type": "code",
   "execution_count": 2,
   "metadata": {},
   "outputs": [],
   "source": [
    "# Import data\n",
    "import pandas as pd\n",
    "import numpy as np\n",
    "import joblib\n",
    "import pickle\n",
    "\n",
    "from sklearn.model_selection import train_test_split\n",
    "from sklearn.ensemble import RandomForestClassifier\n",
    "from sklearn.metrics import accuracy_score\n",
    "from sklearn.tree import DecisionTreeRegressor, DecisionTreeClassifier\n",
    "from sklearn.ensemble import RandomForestRegressor, RandomForestClassifier\n",
    "from sklearn.neighbors import KNeighborsClassifier\n",
    "from sklearn.preprocessing import LabelEncoder\n",
    "from xgboost import XGBRegressor\n",
    "\n",
    "\n",
    "\n"
   ]
  },
  {
   "cell_type": "markdown",
   "metadata": {},
   "source": [
    "#### Train and save model :"
   ]
  },
  {
   "cell_type": "code",
   "execution_count": 3,
   "metadata": {},
   "outputs": [],
   "source": [
    "\n",
    "\n",
    "def train_and_save_models(data_path, target_variable):\n",
    "    # Charger les données\n",
    "    data = pd.read_csv(data_path)\n",
    "    # Regression\n",
    "    if target_variable == \"Consommation Énergétique\":\n",
    "        X = data[[\n",
    "            'Type_bâtiment', \n",
    "            'Qualité_isolation_enveloppe', \n",
    "            'Etiquette_GES', \n",
    "            'Surface_habitable_logement', \n",
    "            'Etiquette_DPE', \n",
    "            'Type_installation_chauffage', \n",
    "            'Ubat_W/m²_K', \n",
    "            'Qualité_isolation_murs', \n",
    "            'Type_énergie_n°1', \n",
    "            'Qualité_isolation_plancher_bas', \n",
    "            'Méthode_application_DPE', \n",
    "            'Qualité_isolation_menuiseries'\n",
    "        ]]\n",
    "        y = data[\"Conso_5_usages_é_finale\"]\n",
    "        \n",
    "        # Encoder les variables catégorielles\n",
    "        le = LabelEncoder()\n",
    "        for column in X.select_dtypes(include=['object']):\n",
    "            X[column] = le.fit_transform(X[column])\n",
    "        \n",
    "        X_train, X_test, y_train, y_test = train_test_split(\n",
    "            X, y, test_size=0.25, random_state=42\n",
    "        )\n",
    "        \n",
    "        xgboost_model = XGBRegressor(random_state=42)\n",
    "        xgboost_model.fit(X_train, y_train)\n",
    "        joblib.dump(xgboost_model, \"consommation_xgboost_model.pkl\")\n",
    "        \n",
    "        dec_tree = DecisionTreeRegressor(random_state=42)\n",
    "        dec_tree.fit(X_train, y_train)\n",
    "        joblib.dump(dec_tree, \"consommation_arbre_de_decision_model.pkl\")\n",
    "        \n",
    "        rand_forest = RandomForestRegressor(n_estimators=100, random_state=42)\n",
    "        rand_forest.fit(X_train, y_train)\n",
    "        joblib.dump(rand_forest, \"consommation_random_forest_model.pkl\")\n",
    "    \n",
    "    \n",
    "    # Classification\n",
    "    elif target_variable == \"Étiquette DPE\":\n",
    "        X = data[\n",
    "            [\n",
    "                \"Conso_chauffage_é_primaire\",\n",
    "                \"Conso_5_usages_é_finale\",\n",
    "                \"Emission_GES_5_usages_par_m²\",\n",
    "                \"Etiquette_GES\",\n",
    "                \"Coût_éclairage\"\n",
    "            ]\n",
    "        ]\n",
    "        y = data[\"Etiquette_DPE\"]\n",
    "        \n",
    "        # Encoder les variables catégorielles\n",
    "        le = LabelEncoder()\n",
    "        for column in X.select_dtypes(include=['object']):\n",
    "            X[column] = le.fit_transform(X[column])\n",
    "        y = le.fit_transform(y)\n",
    "        \n",
    "        X_train, X_test, y_train, y_test = train_test_split(\n",
    "            X, y, test_size=0.2, random_state=42\n",
    "        )\n",
    "        \n",
    "        knn = KNeighborsClassifier(n_neighbors=5)\n",
    "        knn.fit(X_train, y_train)\n",
    "        joblib.dump(knn, \"etiquette_knn_model.pkl\")\n",
    "        \n",
    "        dec_tree = DecisionTreeClassifier(random_state=42)\n",
    "        dec_tree.fit(X_train, y_train)\n",
    "        joblib.dump(dec_tree, \"etiquette_arbre_de_decision_model.pkl\")\n",
    "        \n",
    "        rand_forest = RandomForestClassifier(n_estimators=100, random_state=42)\n",
    "        rand_forest.fit(X_train, y_train)\n",
    "        joblib.dump(rand_forest, \"etiquette_random_forest_model.pkl\")\n",
    "    \n",
    "    print(f\"Modèles pour {target_variable} entraînés et sauvegardés avec succès.\")\n"
   ]
  },
  {
   "cell_type": "code",
   "execution_count": 4,
   "metadata": {},
   "outputs": [],
   "source": [
    "\n",
    "# train_and_save_models(\"../data/preprocessed_data.csv\", \"Étiquette DPE\")"
   ]
  },
  {
   "cell_type": "code",
   "execution_count": 5,
   "metadata": {},
   "outputs": [
    {
     "ename": "KeyError",
     "evalue": "\"None of [Index(['Type_bâtiment', 'Qualité_isolation_enveloppe', 'Etiquette_GES',\\n       'Surface_habitable_logement', 'Etiquette_DPE',\\n       'Type_installation_chauffage', 'Ubat_W/m²_K', 'Qualité_isolation_murs',\\n       'Type_énergie_n°1', 'Qualité_isolation_plancher_bas',\\n       'Méthode_application_DPE', 'Qualité_isolation_menuiseries'],\\n      dtype='object')] are in the [columns]\"",
     "output_type": "error",
     "traceback": [
      "\u001b[1;31m---------------------------------------------------------------------------\u001b[0m",
      "\u001b[1;31mKeyError\u001b[0m                                  Traceback (most recent call last)",
      "Cell \u001b[1;32mIn[5], line 2\u001b[0m\n\u001b[0;32m      1\u001b[0m \u001b[38;5;66;03m# Exemple d'appel de la fonction\u001b[39;00m\n\u001b[1;32m----> 2\u001b[0m train_and_save_models(\u001b[38;5;124m\"\u001b[39m\u001b[38;5;124m../data/preprocess_data_classification.csv\u001b[39m\u001b[38;5;124m\"\u001b[39m, \u001b[38;5;124m\"\u001b[39m\u001b[38;5;124mConsommation Énergétique\u001b[39m\u001b[38;5;124m\"\u001b[39m)\n",
      "Cell \u001b[1;32mIn[3], line 6\u001b[0m, in \u001b[0;36mtrain_and_save_models\u001b[1;34m(data_path, target_variable)\u001b[0m\n\u001b[0;32m      4\u001b[0m \u001b[38;5;66;03m# Regression\u001b[39;00m\n\u001b[0;32m      5\u001b[0m \u001b[38;5;28;01mif\u001b[39;00m target_variable \u001b[38;5;241m==\u001b[39m \u001b[38;5;124m\"\u001b[39m\u001b[38;5;124mConsommation Énergétique\u001b[39m\u001b[38;5;124m\"\u001b[39m:\n\u001b[1;32m----> 6\u001b[0m     X \u001b[38;5;241m=\u001b[39m data[[\n\u001b[0;32m      7\u001b[0m         \u001b[38;5;124m'\u001b[39m\u001b[38;5;124mType_bâtiment\u001b[39m\u001b[38;5;124m'\u001b[39m, \n\u001b[0;32m      8\u001b[0m         \u001b[38;5;124m'\u001b[39m\u001b[38;5;124mQualité_isolation_enveloppe\u001b[39m\u001b[38;5;124m'\u001b[39m, \n\u001b[0;32m      9\u001b[0m         \u001b[38;5;124m'\u001b[39m\u001b[38;5;124mEtiquette_GES\u001b[39m\u001b[38;5;124m'\u001b[39m, \n\u001b[0;32m     10\u001b[0m         \u001b[38;5;124m'\u001b[39m\u001b[38;5;124mSurface_habitable_logement\u001b[39m\u001b[38;5;124m'\u001b[39m, \n\u001b[0;32m     11\u001b[0m         \u001b[38;5;124m'\u001b[39m\u001b[38;5;124mEtiquette_DPE\u001b[39m\u001b[38;5;124m'\u001b[39m, \n\u001b[0;32m     12\u001b[0m         \u001b[38;5;124m'\u001b[39m\u001b[38;5;124mType_installation_chauffage\u001b[39m\u001b[38;5;124m'\u001b[39m, \n\u001b[0;32m     13\u001b[0m         \u001b[38;5;124m'\u001b[39m\u001b[38;5;124mUbat_W/m²_K\u001b[39m\u001b[38;5;124m'\u001b[39m, \n\u001b[0;32m     14\u001b[0m         \u001b[38;5;124m'\u001b[39m\u001b[38;5;124mQualité_isolation_murs\u001b[39m\u001b[38;5;124m'\u001b[39m, \n\u001b[0;32m     15\u001b[0m         \u001b[38;5;124m'\u001b[39m\u001b[38;5;124mType_énergie_n°1\u001b[39m\u001b[38;5;124m'\u001b[39m, \n\u001b[0;32m     16\u001b[0m         \u001b[38;5;124m'\u001b[39m\u001b[38;5;124mQualité_isolation_plancher_bas\u001b[39m\u001b[38;5;124m'\u001b[39m, \n\u001b[0;32m     17\u001b[0m         \u001b[38;5;124m'\u001b[39m\u001b[38;5;124mMéthode_application_DPE\u001b[39m\u001b[38;5;124m'\u001b[39m, \n\u001b[0;32m     18\u001b[0m         \u001b[38;5;124m'\u001b[39m\u001b[38;5;124mQualité_isolation_menuiseries\u001b[39m\u001b[38;5;124m'\u001b[39m\n\u001b[0;32m     19\u001b[0m     ]]\n\u001b[0;32m     20\u001b[0m     y \u001b[38;5;241m=\u001b[39m data[\u001b[38;5;124m\"\u001b[39m\u001b[38;5;124mConso_5_usages_é_finale\u001b[39m\u001b[38;5;124m\"\u001b[39m]\n\u001b[0;32m     22\u001b[0m     \u001b[38;5;66;03m# Encoder les variables catégorielles\u001b[39;00m\n",
      "File \u001b[1;32md:\\Anaconda\\envs\\M1Python\\Lib\\site-packages\\pandas\\core\\frame.py:4108\u001b[0m, in \u001b[0;36mDataFrame.__getitem__\u001b[1;34m(self, key)\u001b[0m\n\u001b[0;32m   4106\u001b[0m     \u001b[38;5;28;01mif\u001b[39;00m is_iterator(key):\n\u001b[0;32m   4107\u001b[0m         key \u001b[38;5;241m=\u001b[39m \u001b[38;5;28mlist\u001b[39m(key)\n\u001b[1;32m-> 4108\u001b[0m     indexer \u001b[38;5;241m=\u001b[39m \u001b[38;5;28mself\u001b[39m\u001b[38;5;241m.\u001b[39mcolumns\u001b[38;5;241m.\u001b[39m_get_indexer_strict(key, \u001b[38;5;124m\"\u001b[39m\u001b[38;5;124mcolumns\u001b[39m\u001b[38;5;124m\"\u001b[39m)[\u001b[38;5;241m1\u001b[39m]\n\u001b[0;32m   4110\u001b[0m \u001b[38;5;66;03m# take() does not accept boolean indexers\u001b[39;00m\n\u001b[0;32m   4111\u001b[0m \u001b[38;5;28;01mif\u001b[39;00m \u001b[38;5;28mgetattr\u001b[39m(indexer, \u001b[38;5;124m\"\u001b[39m\u001b[38;5;124mdtype\u001b[39m\u001b[38;5;124m\"\u001b[39m, \u001b[38;5;28;01mNone\u001b[39;00m) \u001b[38;5;241m==\u001b[39m \u001b[38;5;28mbool\u001b[39m:\n",
      "File \u001b[1;32md:\\Anaconda\\envs\\M1Python\\Lib\\site-packages\\pandas\\core\\indexes\\base.py:6200\u001b[0m, in \u001b[0;36mIndex._get_indexer_strict\u001b[1;34m(self, key, axis_name)\u001b[0m\n\u001b[0;32m   6197\u001b[0m \u001b[38;5;28;01melse\u001b[39;00m:\n\u001b[0;32m   6198\u001b[0m     keyarr, indexer, new_indexer \u001b[38;5;241m=\u001b[39m \u001b[38;5;28mself\u001b[39m\u001b[38;5;241m.\u001b[39m_reindex_non_unique(keyarr)\n\u001b[1;32m-> 6200\u001b[0m \u001b[38;5;28mself\u001b[39m\u001b[38;5;241m.\u001b[39m_raise_if_missing(keyarr, indexer, axis_name)\n\u001b[0;32m   6202\u001b[0m keyarr \u001b[38;5;241m=\u001b[39m \u001b[38;5;28mself\u001b[39m\u001b[38;5;241m.\u001b[39mtake(indexer)\n\u001b[0;32m   6203\u001b[0m \u001b[38;5;28;01mif\u001b[39;00m \u001b[38;5;28misinstance\u001b[39m(key, Index):\n\u001b[0;32m   6204\u001b[0m     \u001b[38;5;66;03m# GH 42790 - Preserve name from an Index\u001b[39;00m\n",
      "File \u001b[1;32md:\\Anaconda\\envs\\M1Python\\Lib\\site-packages\\pandas\\core\\indexes\\base.py:6249\u001b[0m, in \u001b[0;36mIndex._raise_if_missing\u001b[1;34m(self, key, indexer, axis_name)\u001b[0m\n\u001b[0;32m   6247\u001b[0m \u001b[38;5;28;01mif\u001b[39;00m nmissing:\n\u001b[0;32m   6248\u001b[0m     \u001b[38;5;28;01mif\u001b[39;00m nmissing \u001b[38;5;241m==\u001b[39m \u001b[38;5;28mlen\u001b[39m(indexer):\n\u001b[1;32m-> 6249\u001b[0m         \u001b[38;5;28;01mraise\u001b[39;00m \u001b[38;5;167;01mKeyError\u001b[39;00m(\u001b[38;5;124mf\u001b[39m\u001b[38;5;124m\"\u001b[39m\u001b[38;5;124mNone of [\u001b[39m\u001b[38;5;132;01m{\u001b[39;00mkey\u001b[38;5;132;01m}\u001b[39;00m\u001b[38;5;124m] are in the [\u001b[39m\u001b[38;5;132;01m{\u001b[39;00maxis_name\u001b[38;5;132;01m}\u001b[39;00m\u001b[38;5;124m]\u001b[39m\u001b[38;5;124m\"\u001b[39m)\n\u001b[0;32m   6251\u001b[0m     not_found \u001b[38;5;241m=\u001b[39m \u001b[38;5;28mlist\u001b[39m(ensure_index(key)[missing_mask\u001b[38;5;241m.\u001b[39mnonzero()[\u001b[38;5;241m0\u001b[39m]]\u001b[38;5;241m.\u001b[39munique())\n\u001b[0;32m   6252\u001b[0m     \u001b[38;5;28;01mraise\u001b[39;00m \u001b[38;5;167;01mKeyError\u001b[39;00m(\u001b[38;5;124mf\u001b[39m\u001b[38;5;124m\"\u001b[39m\u001b[38;5;132;01m{\u001b[39;00mnot_found\u001b[38;5;132;01m}\u001b[39;00m\u001b[38;5;124m not in index\u001b[39m\u001b[38;5;124m\"\u001b[39m)\n",
      "\u001b[1;31mKeyError\u001b[0m: \"None of [Index(['Type_bâtiment', 'Qualité_isolation_enveloppe', 'Etiquette_GES',\\n       'Surface_habitable_logement', 'Etiquette_DPE',\\n       'Type_installation_chauffage', 'Ubat_W/m²_K', 'Qualité_isolation_murs',\\n       'Type_énergie_n°1', 'Qualité_isolation_plancher_bas',\\n       'Méthode_application_DPE', 'Qualité_isolation_menuiseries'],\\n      dtype='object')] are in the [columns]\""
     ]
    }
   ],
   "source": [
    "# Exemple d'appel de la fonction\n",
    "train_and_save_models(\"../data/preprocess_data_classification.csv\", \"Consommation Énergétique\")\n"
   ]
  }
 ],
 "metadata": {
  "kernelspec": {
   "display_name": "M1Python",
   "language": "python",
   "name": "python3"
  },
  "language_info": {
   "codemirror_mode": {
    "name": "ipython",
    "version": 3
   },
   "file_extension": ".py",
   "mimetype": "text/x-python",
   "name": "python",
   "nbconvert_exporter": "python",
   "pygments_lexer": "ipython3",
   "version": "3.11.5"
  }
 },
 "nbformat": 4,
 "nbformat_minor": 2
}
