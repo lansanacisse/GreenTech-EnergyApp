{
 "cells": [
  {
   "cell_type": "code",
   "execution_count": 7,
   "metadata": {},
   "outputs": [],
   "source": [
    "# Import data\n",
    "import os\n",
    "import pandas as pd\n",
    "from sklearn.model_selection import train_test_split\n",
    "from sklearn.preprocessing import LabelEncoder\n",
    "from sklearn.tree import DecisionTreeRegressor, DecisionTreeClassifier\n",
    "from sklearn.ensemble import RandomForestRegressor, RandomForestClassifier\n",
    "from sklearn.neighbors import KNeighborsClassifier\n",
    "from xgboost import XGBRegressor\n",
    "import joblib\n"
   ]
  },
  {
   "cell_type": "markdown",
   "metadata": {},
   "source": [
    "#### Train and save model :"
   ]
  },
  {
   "cell_type": "code",
   "execution_count": 12,
   "metadata": {},
   "outputs": [],
   "source": [
    "import pandas as pd\n",
    "from sklearn.model_selection import train_test_split\n",
    "from sklearn.preprocessing import LabelEncoder\n",
    "from sklearn.tree import DecisionTreeRegressor, DecisionTreeClassifier\n",
    "from sklearn.ensemble import RandomForestRegressor, RandomForestClassifier\n",
    "from sklearn.neighbors import KNeighborsClassifier\n",
    "from xgboost import XGBRegressor\n",
    "import joblib\n",
    "\n",
    "def train_and_save_models(data_path, target_variable):\n",
    "    data = pd.read_csv(data_path, sep=\";\")\n",
    "    \n",
    "    if target_variable == \"Consommation Énergétique\":\n",
    "        X = data[\n",
    "            [\n",
    "                'Type_bâtiment', 'Qualité_isolation_enveloppe', 'Etiquette_GES', \n",
    "                'Surface_habitable_logement', 'Etiquette_DPE', 'Type_installation_chauffage', \n",
    "                'Ubat_W/m²_K', 'Qualité_isolation_murs', 'Type_énergie_n°1', \n",
    "                'Qualité_isolation_plancher_bas', 'Méthode_application_DPE', 'Qualité_isolation_menuiseries'\n",
    "            ]\n",
    "        ]\n",
    "        y = data[\"Conso_5_usages_é_finale\"]\n",
    "        \n",
    "        # Encoder les variables catégorielles\n",
    "        le = LabelEncoder()\n",
    "        for column in X.select_dtypes(include=['object']):\n",
    "            X[column] = le.fit_transform(X[column])\n",
    "        \n",
    "        X_train, X_test, y_train, y_test = train_test_split(\n",
    "            X, y, test_size=0.25, random_state=42\n",
    "        )\n",
    "        \n",
    "        xgboost_model = XGBRegressor(random_state=42)\n",
    "        xgboost_model.fit(X_train, y_train)\n",
    "        joblib.dump(xgboost_model, \"../models/consommation_xgboost_model.pkl\")\n",
    "        \n",
    "        dec_tree = DecisionTreeRegressor(random_state=42)\n",
    "        dec_tree.fit(X_train, y_train)\n",
    "        joblib.dump(dec_tree, \"../models/consommation_arbre_de_decision_model.pkl\")\n",
    "        \n",
    "        rand_forest = RandomForestRegressor(n_estimators=100, random_state=42)\n",
    "        rand_forest.fit(X_train, y_train)\n",
    "        joblib.dump(rand_forest, \"../models/consommation_random_forest_model.pkl\")\n",
    "    \n",
    "    elif target_variable == \"Étiquette DPE\":\n",
    "        X = data[\n",
    "            [\n",
    "                'Conso_5_usages_par_m²_é_primaire', 'Conso_5_usages/m²_é_finale', \n",
    "                'Emission_GES_5_usages_par_m²', 'Etiquette_GES', 'Coût_éclairage'\n",
    "            ]\n",
    "        ]\n",
    "        y = data[\"Etiquette_DPE\"]\n",
    "        \n",
    "        # Encoder les variables catégorielles\n",
    "        le = LabelEncoder()\n",
    "        for column in X.select_dtypes(include=['object']):\n",
    "            X[column] = le.fit_transform(X[column])\n",
    "        y = le.fit_transform(y)\n",
    "        \n",
    "        X_train, X_test, y_train, y_test = train_test_split(\n",
    "            X, y, test_size=0.2, random_state=42\n",
    "        )\n",
    "        \n",
    "        knn = KNeighborsClassifier(n_neighbors=5)\n",
    "        knn.fit(X_train, y_train)\n",
    "        joblib.dump(knn, \"../models/etiquette_knn_model.pkl\")\n",
    "        \n",
    "        dec_tree = DecisionTreeClassifier(random_state=42)\n",
    "        dec_tree.fit(X_train, y_train)\n",
    "        joblib.dump(dec_tree, \"../models/etiquette_arbre_de_decision_model.pkl\")\n",
    "        \n",
    "        rand_forest = RandomForestClassifier(n_estimators=100, random_state=42)\n",
    "        rand_forest.fit(X_train, y_train)\n",
    "        joblib.dump(rand_forest, \"../models/etiquette_random_forest_model.pkl\")\n",
    "    \n",
    "    print(f\"Modèles pour {target_variable} entraînés et sauvegardés avec succès.\")\n"
   ]
  },
  {
   "cell_type": "code",
   "execution_count": 3,
   "metadata": {},
   "outputs": [
    {
     "name": "stdout",
     "output_type": "stream",
     "text": [
      "Modèles pour Étiquette DPE entraînés et sauvegardés avec succès.\n"
     ]
    }
   ],
   "source": [
    "# Entraîner et sauvegarder des modèles pour la prediction de l'etiquette DPE\n",
    "train_and_save_models(\"../data/preprocess_data_classification.csv\", \"Étiquette DPE\")"
   ]
  },
  {
   "cell_type": "code",
   "execution_count": 11,
   "metadata": {},
   "outputs": [
    {
     "name": "stderr",
     "output_type": "stream",
     "text": [
      "C:\\Users\\lcisse\\AppData\\Local\\Temp\\ipykernel_13784\\3610354502.py:24: SettingWithCopyWarning: \n",
      "A value is trying to be set on a copy of a slice from a DataFrame.\n",
      "Try using .loc[row_indexer,col_indexer] = value instead\n",
      "\n",
      "See the caveats in the documentation: https://pandas.pydata.org/pandas-docs/stable/user_guide/indexing.html#returning-a-view-versus-a-copy\n",
      "  X[column] = le.fit_transform(X[column])\n",
      "C:\\Users\\lcisse\\AppData\\Local\\Temp\\ipykernel_13784\\3610354502.py:24: SettingWithCopyWarning: \n",
      "A value is trying to be set on a copy of a slice from a DataFrame.\n",
      "Try using .loc[row_indexer,col_indexer] = value instead\n",
      "\n",
      "See the caveats in the documentation: https://pandas.pydata.org/pandas-docs/stable/user_guide/indexing.html#returning-a-view-versus-a-copy\n",
      "  X[column] = le.fit_transform(X[column])\n",
      "C:\\Users\\lcisse\\AppData\\Local\\Temp\\ipykernel_13784\\3610354502.py:24: SettingWithCopyWarning: \n",
      "A value is trying to be set on a copy of a slice from a DataFrame.\n",
      "Try using .loc[row_indexer,col_indexer] = value instead\n",
      "\n",
      "See the caveats in the documentation: https://pandas.pydata.org/pandas-docs/stable/user_guide/indexing.html#returning-a-view-versus-a-copy\n",
      "  X[column] = le.fit_transform(X[column])\n",
      "C:\\Users\\lcisse\\AppData\\Local\\Temp\\ipykernel_13784\\3610354502.py:24: SettingWithCopyWarning: \n",
      "A value is trying to be set on a copy of a slice from a DataFrame.\n",
      "Try using .loc[row_indexer,col_indexer] = value instead\n",
      "\n",
      "See the caveats in the documentation: https://pandas.pydata.org/pandas-docs/stable/user_guide/indexing.html#returning-a-view-versus-a-copy\n",
      "  X[column] = le.fit_transform(X[column])\n",
      "C:\\Users\\lcisse\\AppData\\Local\\Temp\\ipykernel_13784\\3610354502.py:24: SettingWithCopyWarning: \n",
      "A value is trying to be set on a copy of a slice from a DataFrame.\n",
      "Try using .loc[row_indexer,col_indexer] = value instead\n",
      "\n",
      "See the caveats in the documentation: https://pandas.pydata.org/pandas-docs/stable/user_guide/indexing.html#returning-a-view-versus-a-copy\n",
      "  X[column] = le.fit_transform(X[column])\n",
      "C:\\Users\\lcisse\\AppData\\Local\\Temp\\ipykernel_13784\\3610354502.py:24: SettingWithCopyWarning: \n",
      "A value is trying to be set on a copy of a slice from a DataFrame.\n",
      "Try using .loc[row_indexer,col_indexer] = value instead\n",
      "\n",
      "See the caveats in the documentation: https://pandas.pydata.org/pandas-docs/stable/user_guide/indexing.html#returning-a-view-versus-a-copy\n",
      "  X[column] = le.fit_transform(X[column])\n",
      "C:\\Users\\lcisse\\AppData\\Local\\Temp\\ipykernel_13784\\3610354502.py:24: SettingWithCopyWarning: \n",
      "A value is trying to be set on a copy of a slice from a DataFrame.\n",
      "Try using .loc[row_indexer,col_indexer] = value instead\n",
      "\n",
      "See the caveats in the documentation: https://pandas.pydata.org/pandas-docs/stable/user_guide/indexing.html#returning-a-view-versus-a-copy\n",
      "  X[column] = le.fit_transform(X[column])\n",
      "C:\\Users\\lcisse\\AppData\\Local\\Temp\\ipykernel_13784\\3610354502.py:24: SettingWithCopyWarning: \n",
      "A value is trying to be set on a copy of a slice from a DataFrame.\n",
      "Try using .loc[row_indexer,col_indexer] = value instead\n",
      "\n",
      "See the caveats in the documentation: https://pandas.pydata.org/pandas-docs/stable/user_guide/indexing.html#returning-a-view-versus-a-copy\n",
      "  X[column] = le.fit_transform(X[column])\n",
      "C:\\Users\\lcisse\\AppData\\Local\\Temp\\ipykernel_13784\\3610354502.py:24: SettingWithCopyWarning: \n",
      "A value is trying to be set on a copy of a slice from a DataFrame.\n",
      "Try using .loc[row_indexer,col_indexer] = value instead\n",
      "\n",
      "See the caveats in the documentation: https://pandas.pydata.org/pandas-docs/stable/user_guide/indexing.html#returning-a-view-versus-a-copy\n",
      "  X[column] = le.fit_transform(X[column])\n",
      "C:\\Users\\lcisse\\AppData\\Local\\Temp\\ipykernel_13784\\3610354502.py:24: SettingWithCopyWarning: \n",
      "A value is trying to be set on a copy of a slice from a DataFrame.\n",
      "Try using .loc[row_indexer,col_indexer] = value instead\n",
      "\n",
      "See the caveats in the documentation: https://pandas.pydata.org/pandas-docs/stable/user_guide/indexing.html#returning-a-view-versus-a-copy\n",
      "  X[column] = le.fit_transform(X[column])\n"
     ]
    },
    {
     "name": "stdout",
     "output_type": "stream",
     "text": [
      "Modèles pour Consommation Énergétique entraînés et sauvegardés avec succès.\n"
     ]
    }
   ],
   "source": [
    "# Entraîner et sauvegarder des modèles pour la prediction de la consommation énergétique\n",
    "train_and_save_models(\"../data/preprocess_data_regression.csv\", \"Consommation Énergétique\")\n"
   ]
  },
  {
   "cell_type": "markdown",
   "metadata": {},
   "source": [
    "Conso_5_usages_é_finale,Type_bâtiment,Qualité_isolation_enveloppe,Etiquette_GES,Surface_habitable_logement,Etiquette_DPE,Type_installation_chauffage,Ubat_W/m²_K,Qualité_isolation_murs,Type_énergie_n°1,Qualité_isolation_plancher_bas,Méthode_application_DPE,Qualité_isolation_menuiseries\n"
   ]
  }
 ],
 "metadata": {
  "kernelspec": {
   "display_name": "envML",
   "language": "python",
   "name": "python3"
  },
  "language_info": {
   "codemirror_mode": {
    "name": "ipython",
    "version": 3
   },
   "file_extension": ".py",
   "mimetype": "text/x-python",
   "name": "python",
   "nbconvert_exporter": "python",
   "pygments_lexer": "ipython3",
   "version": "3.9.0rc1"
  }
 },
 "nbformat": 4,
 "nbformat_minor": 2
}
