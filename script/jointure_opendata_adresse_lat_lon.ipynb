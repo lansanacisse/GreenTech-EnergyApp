{
 "cells": [
  {
   "cell_type": "markdown",
   "metadata": {},
   "source": [
    "## On souhaite rajouter des données d'Open data à notre jeu de données, on va le faire via le code postal et en même temps rajouter les colonnes lat et lon ainsi que température(open data)"
   ]
  },
  {
   "cell_type": "markdown",
   "metadata": {},
   "source": [
    "#### Lecture de nos fichiers csv"
   ]
  },
  {
   "cell_type": "code",
   "execution_count": 2,
   "metadata": {},
   "outputs": [
    {
     "name": "stderr",
     "output_type": "stream",
     "text": [
      "C:\\Users\\quent\\AppData\\Local\\Temp\\ipykernel_35708\\2195847603.py:3: DtypeWarning: Columns (9,16) have mixed types. Specify dtype option on import or set low_memory=False.\n",
      "  df_postal = pd.read_csv(\"data/adresses-69.csv\", sep=\";\")\n"
     ]
    },
    {
     "data": {
      "text/plain": [
       "['id',\n",
       " 'id_fantoir',\n",
       " 'numero',\n",
       " 'rep',\n",
       " 'nom_voie',\n",
       " 'code_postal',\n",
       " 'code_insee',\n",
       " 'nom_commune',\n",
       " 'code_insee_ancienne_commune',\n",
       " 'nom_ancienne_commune',\n",
       " 'x',\n",
       " 'y',\n",
       " 'lon',\n",
       " 'lat',\n",
       " 'type_position',\n",
       " 'alias',\n",
       " 'nom_ld',\n",
       " 'libelle_acheminement',\n",
       " 'nom_afnor',\n",
       " 'source_position',\n",
       " 'source_nom_voie',\n",
       " 'certification_commune',\n",
       " 'cad_parcelles']"
      ]
     },
     "execution_count": 2,
     "metadata": {},
     "output_type": "execute_result"
    }
   ],
   "source": [
    "import pandas as pd\n",
    "\n",
    "df_postal = pd.read_csv(\"data/adresses-69.csv\", sep=\";\")\n",
    "list(df_postal.columns)"
   ]
  },
  {
   "cell_type": "code",
   "execution_count": 3,
   "metadata": {},
   "outputs": [
    {
     "name": "stderr",
     "output_type": "stream",
     "text": [
      "C:\\Users\\quent\\AppData\\Local\\Temp\\ipykernel_35708\\252658796.py:1: DtypeWarning: Columns (33,35,38,51,57,69,72,99,115) have mixed types. Specify dtype option on import or set low_memory=False.\n",
      "  df_merged = pd.read_csv(\"data/merged_69.csv\", sep=\";\")\n"
     ]
    }
   ],
   "source": [
    "df_merged = pd.read_csv(\"data/merged_69.csv\", sep=\";\")\n"
   ]
  },
  {
   "cell_type": "code",
   "execution_count": 4,
   "metadata": {},
   "outputs": [
    {
     "data": {
      "text/plain": [
       "['Ubat_W/m²_K',\n",
       " \"Complément_d'adresse_bâtiment\",\n",
       " 'Méthode_application_DPE',\n",
       " 'N°_département_(BAN)',\n",
       " 'Qualité_isolation_menuiseries',\n",
       " 'Nombre_appartement',\n",
       " 'Emission_GES_5_usages_énergie_n°2',\n",
       " 'Coordonnée_cartographique_X_(BAN)',\n",
       " 'Date_fin_validité_DPE',\n",
       " 'Protection_solaire_exterieure_(0/1)',\n",
       " 'Coût_total_5_usages',\n",
       " 'Conso_ECS_dépensier_é_primaire',\n",
       " 'Catégorie_ENR',\n",
       " 'Présence_brasseur_air_(0/1)',\n",
       " 'Date_établissement_DPE',\n",
       " 'Score_BAN',\n",
       " 'Type_énergie_n°2',\n",
       " 'Conso_auxiliaires_é_primaire',\n",
       " 'N°_étage_appartement',\n",
       " 'N°_région_(BAN)',\n",
       " 'Deperditions_planchers_hauts',\n",
       " 'Adresse_brute',\n",
       " 'Emission_GES_refroidissement_dépensier',\n",
       " 'Version_DPE',\n",
       " 'Deperditions_planchers_bas',\n",
       " 'Surface_tertiaire_immeuble',\n",
       " 'Coût_chauffage',\n",
       " '_i',\n",
       " 'Qualité_isolation_plancher_bas',\n",
       " 'Déperditions_renouvellement_air',\n",
       " 'Surface_habitable_logement',\n",
       " 'Type_énergie_n°1',\n",
       " 'Conso_chauffage_é_finale',\n",
       " 'Besoin_refroidissement',\n",
       " 'Emission_GES_éclairage',\n",
       " 'Code_INSEE_(BAN)',\n",
       " 'Conso_refroidissement_dépensier_é_primaire',\n",
       " 'Conso_ECS_dépensier_é_finale',\n",
       " 'Typologie_logement',\n",
       " '_score',\n",
       " 'Classe_altitude',\n",
       " 'Coût_ECS',\n",
       " 'Conso_ECS_é_primaire',\n",
       " 'Nombre_niveau_logement',\n",
       " 'Adresse_(BAN)',\n",
       " 'Emission_GES_ECS',\n",
       " 'Conso_chauffage_dépensier_é_finale',\n",
       " 'Date_visite_diagnostiqueur',\n",
       " 'Conso_refroidissement_é_finale',\n",
       " 'Déperditions_ponts_thermiques',\n",
       " 'Coordonnée_cartographique_Y_(BAN)',\n",
       " 'Type_énergie_n°3',\n",
       " '_geopoint',\n",
       " 'Emission_GES_5_usages_par_m²',\n",
       " 'Logement_traversant_(0/1)',\n",
       " 'Conso_chauffage_é_primaire',\n",
       " 'Deperditions_enveloppe',\n",
       " \"Cage_d'escalier\",\n",
       " 'Emission_GES_5_usages_énergie_n°1',\n",
       " 'Hauteur_sous-plafond',\n",
       " 'Inertie_lourde_(0/1)',\n",
       " 'Qualité_isolation_enveloppe',\n",
       " 'Conso_éclairage_é_finale',\n",
       " 'Identifiant__BAN',\n",
       " 'Déperditions_portes',\n",
       " 'Coût_chauffage_dépensier',\n",
       " 'Emission_GES_auxiliaires',\n",
       " 'Statut_géocodage',\n",
       " 'Emission_GES_refroidissement',\n",
       " 'Position_logement_dans_immeuble',\n",
       " 'Coût_refroidissement',\n",
       " 'Conso_5_usages_é_primaire',\n",
       " 'Besoin_ECS',\n",
       " 'Coût_chauffage_énergie_n°1',\n",
       " 'Indicateur_confort_été',\n",
       " 'Conso_5_usages_é_finale_énergie_n°1',\n",
       " 'Code_postal_(BAN)',\n",
       " 'Emission_GES_chauffage',\n",
       " 'Type_installation_chauffage',\n",
       " '_id',\n",
       " 'Coût_ECS_dépensier',\n",
       " 'Surface_habitable_immeuble',\n",
       " 'Conso_éclairage_é_primaire',\n",
       " '_rand',\n",
       " 'Nombre_niveau_immeuble',\n",
       " 'N°_DPE_remplacé',\n",
       " 'Conso_5_usages/m²_é_finale',\n",
       " 'Type_bâtiment',\n",
       " 'Conso_refroidissement_dépensier_é_finale',\n",
       " 'Nom_résidence',\n",
       " 'Date_réception_DPE',\n",
       " 'Qualité_isolation_plancher_haut_comble_aménagé',\n",
       " 'N°DPE',\n",
       " 'Type_énergie_principale_chauffage',\n",
       " 'Type_installation_ECS_(général)',\n",
       " 'Isolation_toiture_(0/1)',\n",
       " 'Conso_5_usages_é_finale',\n",
       " 'Conso_chauffage_dépensier_é_primaire',\n",
       " 'Coût_éclairage',\n",
       " 'Classe_inertie_bâtiment',\n",
       " 'Etiquette_GES',\n",
       " 'N°_voie_(BAN)',\n",
       " 'Coût_ECS_énergie_n°1',\n",
       " 'Emission_GES_chauffage_dépensier',\n",
       " 'Coût_chauffage_énergie_n°2',\n",
       " 'Conso_auxiliaires_é_finale',\n",
       " 'Déperditions_murs',\n",
       " 'Deperditions_baies_vitrées',\n",
       " 'Qualité_isolation_murs',\n",
       " 'Etiquette_DPE',\n",
       " 'Emission_GES_5_usages',\n",
       " 'Emission_GES_5_usages_énergie_n°3',\n",
       " 'Conso_refroidissement_é_primaire',\n",
       " 'N°_DPE_immeuble_associé',\n",
       " 'Coût_ECS_énergie_n°2',\n",
       " 'Invariant_fiscal_logement',\n",
       " 'Code_postal_(brut)',\n",
       " 'Zone_climatique_',\n",
       " 'Coût_ECS_énergie_n°3',\n",
       " 'Coût_chauffage_énergie_n°3',\n",
       " 'Conso_ECS_é_finale',\n",
       " 'Modèle_DPE',\n",
       " 'Coût_auxiliaires',\n",
       " 'Coût_refroidissement_dépensier',\n",
       " 'Nom__rue_(BAN)',\n",
       " 'Nom__commune_(BAN)',\n",
       " 'Emission_GES_ECS_dépensier',\n",
       " 'Conso_5_usages_par_m²_é_primaire',\n",
       " 'Besoin_chauffage',\n",
       " 'Appartement_non_visité_(0/1)',\n",
       " \"Complément_d'adresse_logement\"]"
      ]
     },
     "execution_count": 4,
     "metadata": {},
     "output_type": "execute_result"
    }
   ],
   "source": [
    "list(df_merged.columns)\n"
   ]
  },
  {
   "cell_type": "markdown",
   "metadata": {},
   "source": [
    "### Jointure données OPEN DATA"
   ]
  },
  {
   "cell_type": "code",
   "execution_count": 5,
   "metadata": {},
   "outputs": [
    {
     "data": {
      "text/plain": [
       "0          45.77129296375083,4.832061056265806\n",
       "1         45.76526103679321,4.8327319482507685\n",
       "2         45.771547996978036,4.834325949932298\n",
       "3         45.768888041102485,4.835012959717989\n",
       "4          45.76889195591231,4.834295944887911\n",
       "                          ...                 \n",
       "287160      45.6264770036837,4.956540041409294\n",
       "287161      45.63733701165653,4.94200805713954\n",
       "287162    45.623696997478795,4.914378026717773\n",
       "287163       45.6266449796916,4.93593998944774\n",
       "287164    45.62147297673871,4.9337759817890054\n",
       "Name: _geopoint, Length: 287165, dtype: object"
      ]
     },
     "execution_count": 5,
     "metadata": {},
     "output_type": "execute_result"
    }
   ],
   "source": [
    "df_merged['_geopoint']"
   ]
  },
  {
   "cell_type": "markdown",
   "metadata": {},
   "source": [
    "### Données Socio-economique de l'INSEE\n",
    "\n",
    "https://portail-api.insee.fr/"
   ]
  },
  {
   "cell_type": "code",
   "execution_count": 6,
   "metadata": {},
   "outputs": [],
   "source": [
    "# import requests\n",
    "# import json\n",
    "\n",
    "# url = \"https://api.insee.fr/melodi/catalog/DERA\"\n",
    "# response = requests.get(url)\n",
    "\n"
   ]
  },
  {
   "cell_type": "markdown",
   "metadata": {},
   "source": [
    "**En explorant les données de l'INSEE, on se rend compte que l'INSEE ne fournit pas de données sur les adresses précises (comme les coordonnées latitude/longitude exactes) des domiciles individuels dans ses jeux de données**, on ne peut donc pas faire un regroupement pour chaque domicile mais on peut avoir des données selon les codes postaux.\n",
    "\n",
    "**On va devoir se contenter de données socio-économiques sur les codes postaux**"
   ]
  },
  {
   "cell_type": "code",
   "execution_count": 7,
   "metadata": {},
   "outputs": [],
   "source": [
    "# import requests\n",
    "# import json\n",
    "\n",
    "# url = \"https://api.insee.fr/melodi/data/DS_RP_POPULATION_PRINC?maxResult=200&GEO=2024-ARM-69381&GEO=2024-ARM-69382&GEO=2024-AAV2020-002&GEO=DEP\"\n",
    "# response = requests.get(url)\n",
    "# # print(response._content)\n",
    "# data = json.loads(response._content)\n",
    "# data\n",
    "# print(len(data))\n",
    "\n",
    "# # Vu que les données qui nous intéressent sont sensibles et ne sont pas disponible,\n",
    "# # on a décidé de juste prendre une donnée plus simple comme la température de la ville de Lyon\n"
   ]
  },
  {
   "cell_type": "markdown",
   "metadata": {},
   "source": [
    "#### Import de la température via API\n",
    "La température de la ville de Lyon par département est une série temporelle, on souhaite faire une comparaison des température des départements du rhône, on va donc prendre la moyenne des températures de l'année 2023 afin de comparer les départements entre eux\n",
    "\n",
    "https://www.infoclimat.fr/fr/cartes/observations-meteo/temps-reel/temperature/france_ce.html\n",
    "\n",
    "pour le 69, les stations dispose de lat et lon et des noms des communes, le fichier adresse-69 contient le nom des communes, on pourrait joindres les données sur ça\n",
    "\n",
    "https://www.infoclimat.fr/opendata/?version=2&method=get&format=json&stations[]=ME128&stations[]=ME046&stations[]=000BG&stations[]=STATIC0007&stations[]=07481&stations[]=000GM&stations[]=STATIC0315&stations[]=STATIC0139&stations[]=000C9&stations[]=STATIC0065&stations[]=000SP&stations[]=STATIC0068&start=2024-11-07&end=2024-11-09&token=oFoV74U77pPDxguuxL5Hg5jahlu8wwo9HBv5qXzpzgO8L1LqOQ"
   ]
  },
  {
   "cell_type": "markdown",
   "metadata": {},
   "source": [
    "**On peut aussi télécharger en fichier csv, c'est plus simple car pour faire une requête API, il faut un jeton qui ne dure que 7 jours, on va donc utiliser l'export en csv**"
   ]
  },
  {
   "cell_type": "code",
   "execution_count": 8,
   "metadata": {},
   "outputs": [],
   "source": [
    "import pandas as pd\n",
    "df_temp_rhone = pd.read_csv(\"data/export_infoclimat.csv\", sep=\";\")\n",
    "# api_key = \"oFoV74U77pPDxguuxL5Hg5jahlu8wwo9HBv5qXzpzgO8L1LqOQ\"\t\n",
    "# url=\"https://www.infoclimat.fr/opendata/?version=2&method=get&format=json&stations[]=ME128&stations[]=ME046&stations[]=000BG&stations[]=STATIC0007&stations[]=07481&stations[]=000GM&stations[]=STATIC0315&stations[]=STATIC0139&stations[]=000C9&stations[]=STATIC0065&stations[]=000SP&stations[]=STATIC0068&start=2024-11-07&end=2024-11-09&token=oFoV74U77pPDxguuxL5Hg5jahlu8wwo9HBv5qXzpzgO8L1LqOQ\""
   ]
  },
  {
   "cell_type": "code",
   "execution_count": 9,
   "metadata": {},
   "outputs": [],
   "source": [
    "# response = requests.get(url)\n",
    "# print(response)\n",
    "# print(response._content)"
   ]
  },
  {
   "cell_type": "code",
   "execution_count": 10,
   "metadata": {},
   "outputs": [
    {
     "data": {
      "text/html": [
       "<div>\n",
       "<style scoped>\n",
       "    .dataframe tbody tr th:only-of-type {\n",
       "        vertical-align: middle;\n",
       "    }\n",
       "\n",
       "    .dataframe tbody tr th {\n",
       "        vertical-align: top;\n",
       "    }\n",
       "\n",
       "    .dataframe thead th {\n",
       "        text-align: right;\n",
       "    }\n",
       "</style>\n",
       "<table border=\"1\" class=\"dataframe\">\n",
       "  <thead>\n",
       "    <tr style=\"text-align: right;\">\n",
       "      <th></th>\n",
       "      <th>station_id</th>\n",
       "      <th>dh_utc</th>\n",
       "      <th>temperature</th>\n",
       "      <th>pression</th>\n",
       "      <th>pression_variation_3h</th>\n",
       "      <th>humidite</th>\n",
       "      <th>point_de_rosee</th>\n",
       "      <th>visibilite</th>\n",
       "      <th>vent_moyen</th>\n",
       "      <th>vent_rafales</th>\n",
       "      <th>...</th>\n",
       "      <th>radiations</th>\n",
       "      <th>neige_au_sol</th>\n",
       "      <th>nebulosite</th>\n",
       "      <th>raw_msg</th>\n",
       "      <th>pluie_cumul_0h</th>\n",
       "      <th>pluie_intensite</th>\n",
       "      <th>pluie_intensite_max_1h</th>\n",
       "      <th>uv</th>\n",
       "      <th>uv_index</th>\n",
       "      <th>complements</th>\n",
       "    </tr>\n",
       "  </thead>\n",
       "  <tbody>\n",
       "    <tr>\n",
       "      <th>0</th>\n",
       "      <td>000BG</td>\n",
       "      <td>07/11/2024 00:00</td>\n",
       "      <td>13.1</td>\n",
       "      <td>1027.7</td>\n",
       "      <td>NaN</td>\n",
       "      <td>93.0</td>\n",
       "      <td>12.2</td>\n",
       "      <td>NaN</td>\n",
       "      <td>1.6</td>\n",
       "      <td>NaN</td>\n",
       "      <td>...</td>\n",
       "      <td>NaN</td>\n",
       "      <td>NaN</td>\n",
       "      <td>NaN</td>\n",
       "      <td>NaN</td>\n",
       "      <td>0.0</td>\n",
       "      <td>0.0</td>\n",
       "      <td>0.0</td>\n",
       "      <td>0.0</td>\n",
       "      <td>0.0</td>\n",
       "      <td>0@@0@@1037.1@@@11.3@23.1@23.1@23.2@12:39am@12:...</td>\n",
       "    </tr>\n",
       "    <tr>\n",
       "      <th>1</th>\n",
       "      <td>000BG</td>\n",
       "      <td>07/11/2024 00:10</td>\n",
       "      <td>13.1</td>\n",
       "      <td>1027.6</td>\n",
       "      <td>NaN</td>\n",
       "      <td>93.0</td>\n",
       "      <td>12.2</td>\n",
       "      <td>NaN</td>\n",
       "      <td>0.0</td>\n",
       "      <td>NaN</td>\n",
       "      <td>...</td>\n",
       "      <td>NaN</td>\n",
       "      <td>NaN</td>\n",
       "      <td>NaN</td>\n",
       "      <td>NaN</td>\n",
       "      <td>0.0</td>\n",
       "      <td>0.0</td>\n",
       "      <td>0.0</td>\n",
       "      <td>0.0</td>\n",
       "      <td>0.0</td>\n",
       "      <td>0@@0@@1037.1@@@11.3@23.1@23.1@23.2@1:15am@12:0...</td>\n",
       "    </tr>\n",
       "    <tr>\n",
       "      <th>2</th>\n",
       "      <td>000BG</td>\n",
       "      <td>07/11/2024 00:20</td>\n",
       "      <td>13.0</td>\n",
       "      <td>1027.5</td>\n",
       "      <td>NaN</td>\n",
       "      <td>94.0</td>\n",
       "      <td>12.2</td>\n",
       "      <td>NaN</td>\n",
       "      <td>0.0</td>\n",
       "      <td>NaN</td>\n",
       "      <td>...</td>\n",
       "      <td>NaN</td>\n",
       "      <td>NaN</td>\n",
       "      <td>NaN</td>\n",
       "      <td>NaN</td>\n",
       "      <td>0.0</td>\n",
       "      <td>0.0</td>\n",
       "      <td>0.0</td>\n",
       "      <td>0.0</td>\n",
       "      <td>0.0</td>\n",
       "      <td>0@@0@@1037.1@@@11.3@23.1@23.1@23.2@1:15am@12:0...</td>\n",
       "    </tr>\n",
       "    <tr>\n",
       "      <th>3</th>\n",
       "      <td>000BG</td>\n",
       "      <td>07/11/2024 00:30</td>\n",
       "      <td>13.0</td>\n",
       "      <td>1027.4</td>\n",
       "      <td>NaN</td>\n",
       "      <td>94.0</td>\n",
       "      <td>12.2</td>\n",
       "      <td>NaN</td>\n",
       "      <td>1.6</td>\n",
       "      <td>NaN</td>\n",
       "      <td>...</td>\n",
       "      <td>NaN</td>\n",
       "      <td>NaN</td>\n",
       "      <td>NaN</td>\n",
       "      <td>NaN</td>\n",
       "      <td>0.0</td>\n",
       "      <td>0.0</td>\n",
       "      <td>0.0</td>\n",
       "      <td>0.0</td>\n",
       "      <td>0.0</td>\n",
       "      <td>0@@0@@1037.1@@@11.3@23.1@23.1@23.2@1:15am@12:0...</td>\n",
       "    </tr>\n",
       "    <tr>\n",
       "      <th>4</th>\n",
       "      <td>000BG</td>\n",
       "      <td>07/11/2024 00:40</td>\n",
       "      <td>12.9</td>\n",
       "      <td>1027.4</td>\n",
       "      <td>NaN</td>\n",
       "      <td>94.0</td>\n",
       "      <td>12.2</td>\n",
       "      <td>NaN</td>\n",
       "      <td>1.6</td>\n",
       "      <td>NaN</td>\n",
       "      <td>...</td>\n",
       "      <td>NaN</td>\n",
       "      <td>NaN</td>\n",
       "      <td>NaN</td>\n",
       "      <td>NaN</td>\n",
       "      <td>0.0</td>\n",
       "      <td>0.0</td>\n",
       "      <td>0.0</td>\n",
       "      <td>0.0</td>\n",
       "      <td>0.0</td>\n",
       "      <td>0@@0@@1037.1@@@11.3@23.1@23@23.2@1:45am@12:00a...</td>\n",
       "    </tr>\n",
       "  </tbody>\n",
       "</table>\n",
       "<p>5 rows × 33 columns</p>\n",
       "</div>"
      ],
      "text/plain": [
       "  station_id            dh_utc  temperature  pression  pression_variation_3h  \\\n",
       "0      000BG  07/11/2024 00:00         13.1    1027.7                    NaN   \n",
       "1      000BG  07/11/2024 00:10         13.1    1027.6                    NaN   \n",
       "2      000BG  07/11/2024 00:20         13.0    1027.5                    NaN   \n",
       "3      000BG  07/11/2024 00:30         13.0    1027.4                    NaN   \n",
       "4      000BG  07/11/2024 00:40         12.9    1027.4                    NaN   \n",
       "\n",
       "   humidite  point_de_rosee  visibilite  vent_moyen  vent_rafales  ...  \\\n",
       "0      93.0            12.2         NaN         1.6           NaN  ...   \n",
       "1      93.0            12.2         NaN         0.0           NaN  ...   \n",
       "2      94.0            12.2         NaN         0.0           NaN  ...   \n",
       "3      94.0            12.2         NaN         1.6           NaN  ...   \n",
       "4      94.0            12.2         NaN         1.6           NaN  ...   \n",
       "\n",
       "   radiations  neige_au_sol  nebulosite  raw_msg  pluie_cumul_0h  \\\n",
       "0         NaN           NaN         NaN      NaN             0.0   \n",
       "1         NaN           NaN         NaN      NaN             0.0   \n",
       "2         NaN           NaN         NaN      NaN             0.0   \n",
       "3         NaN           NaN         NaN      NaN             0.0   \n",
       "4         NaN           NaN         NaN      NaN             0.0   \n",
       "\n",
       "   pluie_intensite  pluie_intensite_max_1h   uv  uv_index  \\\n",
       "0              0.0                     0.0  0.0       0.0   \n",
       "1              0.0                     0.0  0.0       0.0   \n",
       "2              0.0                     0.0  0.0       0.0   \n",
       "3              0.0                     0.0  0.0       0.0   \n",
       "4              0.0                     0.0  0.0       0.0   \n",
       "\n",
       "                                         complements  \n",
       "0  0@@0@@1037.1@@@11.3@23.1@23.1@23.2@12:39am@12:...  \n",
       "1  0@@0@@1037.1@@@11.3@23.1@23.1@23.2@1:15am@12:0...  \n",
       "2  0@@0@@1037.1@@@11.3@23.1@23.1@23.2@1:15am@12:0...  \n",
       "3  0@@0@@1037.1@@@11.3@23.1@23.1@23.2@1:15am@12:0...  \n",
       "4  0@@0@@1037.1@@@11.3@23.1@23@23.2@1:45am@12:00a...  \n",
       "\n",
       "[5 rows x 33 columns]"
      ]
     },
     "execution_count": 10,
     "metadata": {},
     "output_type": "execute_result"
    }
   ],
   "source": [
    "df_temp_rhone.head()\n",
    "\n",
    "# METADATA:\n",
    "# 000BG: ENS - Lyon 7Ã¨me\n",
    "# 000C9: Sain-Bel\n",
    "# 000GM: Yzeron\n",
    "# 000SP: Montagny\n",
    "# 07481: Lyon-St ExupÃ©ry\n",
    "# ME046: [MAE] Ecole Normale SupÃ©rieure - LYON\n",
    "# ME128: [MAE] CollÃ¨ge HonorÃ© De Balzac - VENISSIEUX\n",
    "# STATIC0007: Corbas\n",
    "# STATIC0065: Soucieu-en-Jarrest\n",
    "# STATIC0139: Brullioles\n",
    "# STATIC0315: Saint-AndrÃ©-la-CÃ´te\n",
    "# Source: www.infoclimat.fr/MeteoFrance\n",
    "# Licence Ouverte/Open License: http://wiki.data.gouv.fr/images/9/9d/Licence_Ouverte.pdf\n"
   ]
  },
  {
   "cell_type": "code",
   "execution_count": 11,
   "metadata": {},
   "outputs": [
    {
     "name": "stdout",
     "output_type": "stream",
     "text": [
      "Index(['station_id', 'dh_utc', 'temperature', 'pression',\n",
      "       'pression_variation_3h', 'humidite', 'point_de_rosee', 'visibilite',\n",
      "       'vent_moyen', 'vent_rafales', 'vent_rafales_10min', 'vent_direction',\n",
      "       'temperature_min', 'temperature_max', 'pluie_1h', 'pluie_3h',\n",
      "       'pluie_6h', 'pluie_12h', 'pluie_24h', 'ensoleillement',\n",
      "       'temperature_sol', 'temps_omm', 'source', 'radiations', 'neige_au_sol',\n",
      "       'nebulosite', 'raw_msg', 'pluie_cumul_0h', 'pluie_intensite',\n",
      "       'pluie_intensite_max_1h', 'uv', 'uv_index', 'complements'],\n",
      "      dtype='object')\n"
     ]
    }
   ],
   "source": [
    "# Print the columns of the dataframe\n",
    "print(df_temp_rhone.columns)\n",
    "\n",
    "# Mapping dictionary for station IDs to postal codes\n",
    "station_id_to_postal_code = {\n",
    "  '000BG': '69007',\n",
    "  '000C9': '69210',\n",
    "  '000GM': '69510',\n",
    "  '000SP': '69700',\n",
    "  '07481': '69125',\n",
    "  'ME046': '69007',\n",
    "  'ME128': '69200',\n",
    "  'STATIC0007': '69960',\n",
    "  'STATIC0065': '69510',\n",
    "  'STATIC0139': '69690',\n",
    "  'STATIC0315': '69440'\n",
    "}\n",
    "\n",
    "# Rename station IDs by their postal codes\n",
    "df_temp_rhone['station_id'] = df_temp_rhone['station_id'].replace(station_id_to_postal_code)\n"
   ]
  },
  {
   "cell_type": "code",
   "execution_count": 12,
   "metadata": {},
   "outputs": [
    {
     "name": "stdout",
     "output_type": "stream",
     "text": [
      "     station_id            dh_utc  temperature  pression  \\\n",
      "1183      69700  08/11/2024 14:20         15.3    1023.8   \n",
      "880       69510  08/11/2024 22:50         12.2    1024.0   \n",
      "1846      69960  08/11/2024 17:30         11.2    1024.3   \n",
      "2659      69440  07/11/2024 06:50          9.3    1026.8   \n",
      "1057      69700  07/11/2024 17:20         12.7    1027.4   \n",
      "\n",
      "      pression_variation_3h  humidite  point_de_rosee  visibilite  vent_moyen  \\\n",
      "1183                   -1.6      80.0            11.8         NaN         2.5   \n",
      "880                     0.4      82.0             9.2         NaN         9.7   \n",
      "1846                    0.7      88.0             9.3         NaN         2.1   \n",
      "2659                    0.5      97.0             8.9         NaN         0.0   \n",
      "1057                    NaN      88.0            10.7         NaN         0.0   \n",
      "\n",
      "      vent_rafales  ...  radiations  neige_au_sol  nebulosite  raw_msg  \\\n",
      "1183           NaN  ...         NaN           NaN         NaN      NaN   \n",
      "880            NaN  ...         NaN           NaN         NaN      NaN   \n",
      "1846           NaN  ...         NaN           NaN         NaN      NaN   \n",
      "2659           NaN  ...         NaN           NaN         NaN      NaN   \n",
      "1057           NaN  ...         NaN           NaN         NaN      NaN   \n",
      "\n",
      "      pluie_cumul_0h  pluie_intensite  pluie_intensite_max_1h     uv  \\\n",
      "1183             NaN              0.0                     NaN  141.0   \n",
      "880              0.0              0.0                     0.0    0.0   \n",
      "1846             NaN              0.0                     NaN    NaN   \n",
      "2659             0.0              0.0                     0.0    NaN   \n",
      "1057             NaN              0.0                     NaN    0.0   \n",
      "\n",
      "      uv_index                                        complements  \n",
      "1183       0.6                                        0.6@@@@1107  \n",
      "880        NaN                    @@415@17.4@1091.0@8.92@3.0@19.3  \n",
      "1846       NaN                                           @@@@1046  \n",
      "2659       NaN  @@@@852.6@@@6.4@20.7@20.7@20.9@4:17am@12:00am@...  \n",
      "1057       0.0                                          0@@@@1107  \n",
      "\n",
      "[5 rows x 33 columns]\n",
      "   temperature station_id\n",
      "0         13.1      69007\n",
      "1         13.1      69007\n",
      "2         13.0      69007\n",
      "3         13.0      69007\n",
      "4         12.9      69007\n"
     ]
    }
   ],
   "source": [
    "print(df_temp_rhone.sample(5))\n",
    "# On vient bien que les stations sont bien renommées par leur code postal\n",
    "# On ne va garder que la température et le code postal\n",
    "df_temp_rhone = df_temp_rhone[['temperature', 'station_id']]\n",
    "print(df_temp_rhone.head())"
   ]
  },
  {
   "cell_type": "code",
   "execution_count": 13,
   "metadata": {},
   "outputs": [
    {
     "data": {
      "text/html": [
       "<div>\n",
       "<style scoped>\n",
       "    .dataframe tbody tr th:only-of-type {\n",
       "        vertical-align: middle;\n",
       "    }\n",
       "\n",
       "    .dataframe tbody tr th {\n",
       "        vertical-align: top;\n",
       "    }\n",
       "\n",
       "    .dataframe thead th {\n",
       "        text-align: right;\n",
       "    }\n",
       "</style>\n",
       "<table border=\"1\" class=\"dataframe\">\n",
       "  <thead>\n",
       "    <tr style=\"text-align: right;\">\n",
       "      <th></th>\n",
       "      <th>station_id</th>\n",
       "      <th>temperature</th>\n",
       "    </tr>\n",
       "  </thead>\n",
       "  <tbody>\n",
       "    <tr>\n",
       "      <th>0</th>\n",
       "      <td>69007</td>\n",
       "      <td>11.996893</td>\n",
       "    </tr>\n",
       "    <tr>\n",
       "      <th>1</th>\n",
       "      <td>69125</td>\n",
       "      <td>10.786441</td>\n",
       "    </tr>\n",
       "    <tr>\n",
       "      <th>2</th>\n",
       "      <td>69200</td>\n",
       "      <td>12.195926</td>\n",
       "    </tr>\n",
       "    <tr>\n",
       "      <th>3</th>\n",
       "      <td>69210</td>\n",
       "      <td>11.041880</td>\n",
       "    </tr>\n",
       "    <tr>\n",
       "      <th>4</th>\n",
       "      <td>69440</td>\n",
       "      <td>10.533616</td>\n",
       "    </tr>\n",
       "    <tr>\n",
       "      <th>5</th>\n",
       "      <td>69510</td>\n",
       "      <td>10.850751</td>\n",
       "    </tr>\n",
       "    <tr>\n",
       "      <th>6</th>\n",
       "      <td>69690</td>\n",
       "      <td>10.935345</td>\n",
       "    </tr>\n",
       "    <tr>\n",
       "      <th>7</th>\n",
       "      <td>69700</td>\n",
       "      <td>11.324859</td>\n",
       "    </tr>\n",
       "    <tr>\n",
       "      <th>8</th>\n",
       "      <td>69960</td>\n",
       "      <td>11.430932</td>\n",
       "    </tr>\n",
       "  </tbody>\n",
       "</table>\n",
       "</div>"
      ],
      "text/plain": [
       "  station_id  temperature\n",
       "0      69007    11.996893\n",
       "1      69125    10.786441\n",
       "2      69200    12.195926\n",
       "3      69210    11.041880\n",
       "4      69440    10.533616\n",
       "5      69510    10.850751\n",
       "6      69690    10.935345\n",
       "7      69700    11.324859\n",
       "8      69960    11.430932"
      ]
     },
     "execution_count": 13,
     "metadata": {},
     "output_type": "execute_result"
    }
   ],
   "source": [
    "# On va maintenant faire la moyenne de la température par code postal\n",
    "df_temp_rhone = df_temp_rhone.groupby('station_id').mean().reset_index()\n",
    "df_temp_rhone"
   ]
  },
  {
   "cell_type": "code",
   "execution_count": 14,
   "metadata": {},
   "outputs": [
    {
     "name": "stdout",
     "output_type": "stream",
     "text": [
      "<class 'pandas.core.frame.DataFrame'>\n",
      "RangeIndex: 9 entries, 0 to 8\n",
      "Data columns (total 2 columns):\n",
      " #   Column       Non-Null Count  Dtype  \n",
      "---  ------       --------------  -----  \n",
      " 0   station_id   9 non-null      object \n",
      " 1   temperature  9 non-null      float64\n",
      "dtypes: float64(1), object(1)\n",
      "memory usage: 276.0+ bytes\n",
      "None\n"
     ]
    }
   ],
   "source": [
    "print(df_temp_rhone.info()) # station_id de type object, on va convertir en str pour la jointure\n",
    "df_postal['code_postal'] = df_postal['code_postal'].astype(str)\n",
    "# On va maintenant faire la jointure avec le dataframe df_total_lon_lat\n",
    "df_postal = pd.merge(df_postal, df_temp_rhone, left_on='code_postal', right_on='station_id', how='left')\n"
   ]
  },
  {
   "cell_type": "code",
   "execution_count": 15,
   "metadata": {},
   "outputs": [
    {
     "data": {
      "text/plain": [
       "12971    11.996893\n",
       "12972    11.996893\n",
       "12973    11.996893\n",
       "12974    11.996893\n",
       "12975    11.996893\n",
       "           ...    \n",
       "17338    11.996893\n",
       "17339    11.996893\n",
       "17340    11.996893\n",
       "17341    11.996893\n",
       "17342    11.996893\n",
       "Name: temperature, Length: 4372, dtype: float64"
      ]
     },
     "execution_count": 15,
     "metadata": {},
     "output_type": "execute_result"
    }
   ],
   "source": [
    "# Afficher que les données ayant un code postal égal à 69007 pour voir si la température est bien renseignée\n",
    "df_postal[df_postal['code_postal'] == '69007']['temperature']"
   ]
  },
  {
   "cell_type": "markdown",
   "metadata": {},
   "source": [
    "### Jointure de la longitude, latitude et température(open data) à notre jeu de données:"
   ]
  },
  {
   "cell_type": "code",
   "execution_count": 16,
   "metadata": {},
   "outputs": [],
   "source": [
    "# Faire la jointure du fichier adresse_69 qui contient la latitude et longtiude avec les fichiers existant_69 et neuf_69\n",
    "# Left_on='identifiant_BAN' et right_on = 'id', how = 'left'\n",
    "df_total_lon_lat_temp = pd.merge(df_merged, df_postal[['lon', 'lat', 'temperature','id']], left_on='Identifiant__BAN', right_on='id', how='left')"
   ]
  },
  {
   "cell_type": "code",
   "execution_count": 17,
   "metadata": {},
   "outputs": [
    {
     "data": {
      "text/plain": [
       "0.8642905646579493"
      ]
     },
     "execution_count": 17,
     "metadata": {},
     "output_type": "execute_result"
    }
   ],
   "source": [
    "df_total_lon_lat_temp.head()\n",
    "# On vérifie que la température est bien renseignée pour la ville de Lyon\n",
    "df_total_lon_lat_temp['temperature'].isnull().sum()/len(df_total_lon_lat_temp)\n"
   ]
  },
  {
   "cell_type": "code",
   "execution_count": 18,
   "metadata": {},
   "outputs": [],
   "source": [
    "# Malheureusement, l'API de la température est limité, on n'a pas pu avoir la température pour toutes les communes du rhône mais seulement quelques unes\n",
    "# L'information n'est donc sûrement pas pertinentes et va sûrement entre enlever dans le préprocessing des données"
   ]
  },
  {
   "cell_type": "code",
   "execution_count": 19,
   "metadata": {},
   "outputs": [],
   "source": [
    "# export du csv\n",
    "df_total_lon_lat_temp.to_csv(\"data/df_total_lon_lat_temp.csv\", sep=\";\")"
   ]
  },
  {
   "cell_type": "code",
   "execution_count": null,
   "metadata": {},
   "outputs": [],
   "source": []
  },
  {
   "cell_type": "code",
   "execution_count": 21,
   "metadata": {},
   "outputs": [],
   "source": [
    "# Le fichier est trop lourd pour git, on a exploré git LFS mais nous avons choisi de juste réduire la taille car on a pas besoin d'autant de données pour l'exploration\n",
    "# On va donc réduire la taille du fichier en prenant un sample de 10_000 lignes\n",
    "\n",
    "df_total_lon_lat_temp_sample = df_total_lon_lat_temp.sample(10_000)\n",
    "df_total_lon_lat_temp_sample.to_csv(\"data/dataset_M2_enedis.csv\", sep=\";\")"
   ]
  },
  {
   "cell_type": "code",
   "execution_count": null,
   "metadata": {},
   "outputs": [
    {
     "name": "stdout",
     "output_type": "stream",
     "text": [
      "Prétraitement des données...\n",
      "Removing missing values...\n",
      "Encodage des variables catégorielles...\n",
      "Gestion des outliers...\n",
      "Gestion des valeurs manquantes...\n",
      "Export des données...\n",
      "Export réussi sous le nom de 'preprocessed_data.csv'\n"
     ]
    }
   ],
   "source": [
    "# On update le fichier preprocessed_data.py pour ajouter la température\n",
    "\n",
    "from pre_processing import preprocess_data\n",
    "\n",
    "df_classification_preprocessesed = preprocess_data(df_total_lon_lat_temp, sauvegarde=True)\n"
   ]
  },
  {
   "cell_type": "code",
   "execution_count": 27,
   "metadata": {},
   "outputs": [
    {
     "data": {
      "text/plain": [
       "['Ubat_W/m²_K',\n",
       " 'Méthode_application_DPE',\n",
       " 'N°_département_(BAN)',\n",
       " 'Qualité_isolation_menuiseries',\n",
       " 'Nombre_appartement',\n",
       " 'Coordonnée_cartographique_X_(BAN)',\n",
       " 'Date_fin_validité_DPE',\n",
       " 'Coût_total_5_usages',\n",
       " 'Conso_ECS_dépensier_é_primaire',\n",
       " 'Date_établissement_DPE',\n",
       " 'Score_BAN',\n",
       " 'Conso_auxiliaires_é_primaire',\n",
       " 'N°_étage_appartement',\n",
       " 'N°_région_(BAN)',\n",
       " 'Deperditions_planchers_hauts',\n",
       " 'Adresse_brute',\n",
       " 'Emission_GES_refroidissement_dépensier',\n",
       " 'Version_DPE',\n",
       " 'Deperditions_planchers_bas',\n",
       " 'Coût_chauffage',\n",
       " '_i',\n",
       " 'Qualité_isolation_plancher_bas',\n",
       " 'Déperditions_renouvellement_air',\n",
       " 'Surface_habitable_logement',\n",
       " 'Type_énergie_n°1',\n",
       " 'Conso_chauffage_é_finale',\n",
       " 'Besoin_refroidissement',\n",
       " 'Emission_GES_éclairage',\n",
       " 'Code_INSEE_(BAN)',\n",
       " 'Conso_refroidissement_dépensier_é_primaire',\n",
       " 'Conso_ECS_dépensier_é_finale',\n",
       " '_score',\n",
       " 'Classe_altitude',\n",
       " 'Coût_ECS',\n",
       " 'Conso_ECS_é_primaire',\n",
       " 'Nombre_niveau_logement',\n",
       " 'Adresse_(BAN)',\n",
       " 'Emission_GES_ECS',\n",
       " 'Conso_chauffage_dépensier_é_finale',\n",
       " 'Date_visite_diagnostiqueur',\n",
       " 'Conso_refroidissement_é_finale',\n",
       " 'Déperditions_ponts_thermiques',\n",
       " 'Coordonnée_cartographique_Y_(BAN)',\n",
       " '_geopoint',\n",
       " 'Emission_GES_5_usages_par_m²',\n",
       " 'Conso_chauffage_é_primaire',\n",
       " 'Deperditions_enveloppe',\n",
       " 'Emission_GES_5_usages_énergie_n°1',\n",
       " 'Hauteur_sous-plafond',\n",
       " 'Qualité_isolation_enveloppe',\n",
       " 'Conso_éclairage_é_finale',\n",
       " 'Identifiant__BAN',\n",
       " 'Déperditions_portes',\n",
       " 'Coût_chauffage_dépensier',\n",
       " 'Emission_GES_auxiliaires',\n",
       " 'Statut_géocodage',\n",
       " 'Emission_GES_refroidissement',\n",
       " 'Coût_refroidissement',\n",
       " 'Conso_5_usages_é_primaire',\n",
       " 'Besoin_ECS',\n",
       " 'Coût_chauffage_énergie_n°1',\n",
       " 'Conso_5_usages_é_finale_énergie_n°1',\n",
       " 'Code_postal_(BAN)',\n",
       " 'Emission_GES_chauffage',\n",
       " 'Type_installation_chauffage',\n",
       " '_id',\n",
       " 'Coût_ECS_dépensier',\n",
       " 'Conso_éclairage_é_primaire',\n",
       " '_rand',\n",
       " 'Conso_5_usages/m²_é_finale',\n",
       " 'Type_bâtiment',\n",
       " 'Conso_refroidissement_dépensier_é_finale',\n",
       " 'Date_réception_DPE',\n",
       " 'N°DPE',\n",
       " 'Type_énergie_principale_chauffage',\n",
       " 'Type_installation_ECS_(général)',\n",
       " 'Conso_5_usages_é_finale',\n",
       " 'Conso_chauffage_dépensier_é_primaire',\n",
       " 'Coût_éclairage',\n",
       " 'Classe_inertie_bâtiment',\n",
       " 'Etiquette_GES',\n",
       " 'N°_voie_(BAN)',\n",
       " 'Coût_ECS_énergie_n°1',\n",
       " 'Emission_GES_chauffage_dépensier',\n",
       " 'Conso_auxiliaires_é_finale',\n",
       " 'Déperditions_murs',\n",
       " 'Deperditions_baies_vitrées',\n",
       " 'Qualité_isolation_murs',\n",
       " 'Etiquette_DPE',\n",
       " 'Emission_GES_5_usages',\n",
       " 'Conso_refroidissement_é_primaire',\n",
       " 'Code_postal_(brut)',\n",
       " 'Zone_climatique_',\n",
       " 'Conso_ECS_é_finale',\n",
       " 'Modèle_DPE',\n",
       " 'Coût_auxiliaires',\n",
       " 'Coût_refroidissement_dépensier',\n",
       " 'Nom__rue_(BAN)',\n",
       " 'Nom__commune_(BAN)',\n",
       " 'Emission_GES_ECS_dépensier',\n",
       " 'Conso_5_usages_par_m²_é_primaire',\n",
       " 'Besoin_chauffage',\n",
       " \"Complément_d'adresse_logement\",\n",
       " 'lon',\n",
       " 'lat',\n",
       " 'id']"
      ]
     },
     "execution_count": 27,
     "metadata": {},
     "output_type": "execute_result"
    }
   ],
   "source": [
    "list(df_classification_preprocessesed.columns)"
   ]
  },
  {
   "cell_type": "code",
   "execution_count": 30,
   "metadata": {},
   "outputs": [],
   "source": [
    "# Le fichier est trop lourd, je vais donc garder que les colonnes utiliser pour l'entraînement du modèle\n",
    "# 'Conso5_usages_par_m²éprimaire',\n",
    "#  'Conso_5_usages/m²éfinale',\n",
    "#  'Emission_GES_5_usages_par_m²',\n",
    "#  'Etiquette_GES',\n",
    "#  'Coûtéclairage']\n",
    "preprocess_data_classification = df_classification_preprocessesed[['Conso_5_usages_par_m²_é_primaire', 'Conso_5_usages/m²_é_finale', 'Emission_GES_5_usages_par_m²', 'Etiquette_GES', 'Coût_éclairage']]"
   ]
  },
  {
   "cell_type": "code",
   "execution_count": 31,
   "metadata": {},
   "outputs": [],
   "source": [
    "# export du fichier qui va être utilisé pour l'entraînement du modèle\n",
    "preprocess_data_classification.to_csv(\"data/preprocess_data_classification.csv\", sep=\";\")"
   ]
  }
 ],
 "metadata": {
  "kernelspec": {
   "display_name": "M1Python",
   "language": "python",
   "name": "python3"
  },
  "language_info": {
   "codemirror_mode": {
    "name": "ipython",
    "version": 3
   },
   "file_extension": ".py",
   "mimetype": "text/x-python",
   "name": "python",
   "nbconvert_exporter": "python",
   "pygments_lexer": "ipython3",
   "version": "3.11.5"
  }
 },
 "nbformat": 4,
 "nbformat_minor": 2
}
