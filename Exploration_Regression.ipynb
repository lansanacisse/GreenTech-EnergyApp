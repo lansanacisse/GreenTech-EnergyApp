{
 "cells": [
  {
   "cell_type": "markdown",
   "metadata": {
    "id": "9LdGoKottGuu"
   },
   "source": [
    "## Régression"
   ]
  },
  {
   "cell_type": "markdown",
   "metadata": {},
   "source": [
    "#### Import des librairies"
   ]
  },
  {
   "cell_type": "code",
   "execution_count": 3,
   "metadata": {
    "id": "0WwKZL4ltCaW"
   },
   "outputs": [],
   "source": [
    "import pandas as pd\n",
    "import numpy as np\n",
    "import matplotlib.pyplot as plt\n",
    "import pickle\n",
    "from sklearn.ensemble import RandomForestRegressor\n",
    "from sklearn.model_selection import train_test_split\n",
    "from sklearn.preprocessing import StandardScaler, OrdinalEncoder\n",
    "from sklearn.metrics import mean_squared_error, mean_absolute_error, r2_score\n",
    "from sklearn.pipeline import Pipeline\n",
    "from sklearn.compose import ColumnTransformer\n",
    "from xgboost import XGBRegressor\n",
    "from sklearn.linear_model import LinearRegression\n",
    "import statsmodels.api as sm\n",
    "from itertools import combinations\n",
    "import scipy.stats as stats"
   ]
  },
  {
   "cell_type": "markdown",
   "metadata": {},
   "source": [
    "#### Read csv"
   ]
  },
  {
   "cell_type": "code",
   "execution_count": 4,
   "metadata": {
    "colab": {
     "base_uri": "https://localhost:8080/"
    },
    "id": "I9HtlbnHtDcw",
    "outputId": "b6cae4e0-168b-42b7-e416-d48b01ab5d4e"
   },
   "outputs": [
    {
     "name": "stderr",
     "output_type": "stream",
     "text": [
      "C:\\Users\\Ihnhn\\AppData\\Local\\Temp\\ipykernel_7456\\1118220225.py:2: DtypeWarning: Columns (33,35,38,51,57,69,72,99,115) have mixed types. Specify dtype option on import or set low_memory=False.\n",
      "  df_merged = pd.read_csv(\"C:/Users/Ihnhn/Desktop/M2 SISE/Python/merged_69.csv\", sep=\";\")\n"
     ]
    }
   ],
   "source": [
    "try:\n",
    "  df_merged = pd.read_csv(\"C:/Users/Ihnhn/Desktop/M2 SISE/Python/merged_69.csv\", sep=\";\")\n",
    "except FileNotFoundError:\n",
    "  print(\"Le chemin n'est pas bon\")"
   ]
  },
  {
   "cell_type": "markdown",
   "metadata": {},
   "source": [
    "#### Analyse dataframe"
   ]
  },
  {
   "cell_type": "code",
   "execution_count": 5,
   "metadata": {
    "colab": {
     "base_uri": "https://localhost:8080/"
    },
    "id": "rVEIB9pwvlim",
    "outputId": "20b5f9e6-4ea5-4c0e-e50d-41673fc76cee"
   },
   "outputs": [
    {
     "data": {
      "text/plain": [
       "(287165, 131)"
      ]
     },
     "execution_count": 5,
     "metadata": {},
     "output_type": "execute_result"
    }
   ],
   "source": [
    "df_merged.shape\n",
    "#doit renvoyer 287165,131"
   ]
  },
  {
   "cell_type": "code",
   "execution_count": 6,
   "metadata": {
    "colab": {
     "base_uri": "https://localhost:8080/"
    },
    "id": "AvZFSQzNvnRG",
    "outputId": "46461d81-9ef7-4f92-b198-17e66529fd9a"
   },
   "outputs": [
    {
     "data": {
      "text/plain": [
       "['Ubat_W/m²_K',\n",
       " \"Complément_d'adresse_bâtiment\",\n",
       " 'Méthode_application_DPE',\n",
       " 'N°_département_(BAN)',\n",
       " 'Qualité_isolation_menuiseries',\n",
       " 'Nombre_appartement',\n",
       " 'Emission_GES_5_usages_énergie_n°2',\n",
       " 'Coordonnée_cartographique_X_(BAN)',\n",
       " 'Date_fin_validité_DPE',\n",
       " 'Protection_solaire_exterieure_(0/1)',\n",
       " 'Coût_total_5_usages',\n",
       " 'Conso_ECS_dépensier_é_primaire',\n",
       " 'Catégorie_ENR',\n",
       " 'Présence_brasseur_air_(0/1)',\n",
       " 'Date_établissement_DPE',\n",
       " 'Score_BAN',\n",
       " 'Type_énergie_n°2',\n",
       " 'Conso_auxiliaires_é_primaire',\n",
       " 'N°_étage_appartement',\n",
       " 'N°_région_(BAN)',\n",
       " 'Deperditions_planchers_hauts',\n",
       " 'Adresse_brute',\n",
       " 'Emission_GES_refroidissement_dépensier',\n",
       " 'Version_DPE',\n",
       " 'Deperditions_planchers_bas',\n",
       " 'Surface_tertiaire_immeuble',\n",
       " 'Coût_chauffage',\n",
       " '_i',\n",
       " 'Qualité_isolation_plancher_bas',\n",
       " 'Déperditions_renouvellement_air',\n",
       " 'Surface_habitable_logement',\n",
       " 'Type_énergie_n°1',\n",
       " 'Conso_chauffage_é_finale',\n",
       " 'Besoin_refroidissement',\n",
       " 'Emission_GES_éclairage',\n",
       " 'Code_INSEE_(BAN)',\n",
       " 'Conso_refroidissement_dépensier_é_primaire',\n",
       " 'Conso_ECS_dépensier_é_finale',\n",
       " 'Typologie_logement',\n",
       " '_score',\n",
       " 'Classe_altitude',\n",
       " 'Coût_ECS',\n",
       " 'Conso_ECS_é_primaire',\n",
       " 'Nombre_niveau_logement',\n",
       " 'Adresse_(BAN)',\n",
       " 'Emission_GES_ECS',\n",
       " 'Conso_chauffage_dépensier_é_finale',\n",
       " 'Date_visite_diagnostiqueur',\n",
       " 'Conso_refroidissement_é_finale',\n",
       " 'Déperditions_ponts_thermiques',\n",
       " 'Coordonnée_cartographique_Y_(BAN)',\n",
       " 'Type_énergie_n°3',\n",
       " '_geopoint',\n",
       " 'Emission_GES_5_usages_par_m²',\n",
       " 'Logement_traversant_(0/1)',\n",
       " 'Conso_chauffage_é_primaire',\n",
       " 'Deperditions_enveloppe',\n",
       " \"Cage_d'escalier\",\n",
       " 'Emission_GES_5_usages_énergie_n°1',\n",
       " 'Hauteur_sous-plafond',\n",
       " 'Inertie_lourde_(0/1)',\n",
       " 'Qualité_isolation_enveloppe',\n",
       " 'Conso_éclairage_é_finale',\n",
       " 'Identifiant__BAN',\n",
       " 'Déperditions_portes',\n",
       " 'Coût_chauffage_dépensier',\n",
       " 'Emission_GES_auxiliaires',\n",
       " 'Statut_géocodage',\n",
       " 'Emission_GES_refroidissement',\n",
       " 'Position_logement_dans_immeuble',\n",
       " 'Coût_refroidissement',\n",
       " 'Conso_5_usages_é_primaire',\n",
       " 'Besoin_ECS',\n",
       " 'Coût_chauffage_énergie_n°1',\n",
       " 'Indicateur_confort_été',\n",
       " 'Conso_5_usages_é_finale_énergie_n°1',\n",
       " 'Code_postal_(BAN)',\n",
       " 'Emission_GES_chauffage',\n",
       " 'Type_installation_chauffage',\n",
       " '_id',\n",
       " 'Coût_ECS_dépensier',\n",
       " 'Surface_habitable_immeuble',\n",
       " 'Conso_éclairage_é_primaire',\n",
       " '_rand',\n",
       " 'Nombre_niveau_immeuble',\n",
       " 'N°_DPE_remplacé',\n",
       " 'Conso_5_usages/m²_é_finale',\n",
       " 'Type_bâtiment',\n",
       " 'Conso_refroidissement_dépensier_é_finale',\n",
       " 'Nom_résidence',\n",
       " 'Date_réception_DPE',\n",
       " 'Qualité_isolation_plancher_haut_comble_aménagé',\n",
       " 'N°DPE',\n",
       " 'Type_énergie_principale_chauffage',\n",
       " 'Type_installation_ECS_(général)',\n",
       " 'Isolation_toiture_(0/1)',\n",
       " 'Conso_5_usages_é_finale',\n",
       " 'Conso_chauffage_dépensier_é_primaire',\n",
       " 'Coût_éclairage',\n",
       " 'Classe_inertie_bâtiment',\n",
       " 'Etiquette_GES',\n",
       " 'N°_voie_(BAN)',\n",
       " 'Coût_ECS_énergie_n°1',\n",
       " 'Emission_GES_chauffage_dépensier',\n",
       " 'Coût_chauffage_énergie_n°2',\n",
       " 'Conso_auxiliaires_é_finale',\n",
       " 'Déperditions_murs',\n",
       " 'Deperditions_baies_vitrées',\n",
       " 'Qualité_isolation_murs',\n",
       " 'Etiquette_DPE',\n",
       " 'Emission_GES_5_usages',\n",
       " 'Emission_GES_5_usages_énergie_n°3',\n",
       " 'Conso_refroidissement_é_primaire',\n",
       " 'N°_DPE_immeuble_associé',\n",
       " 'Coût_ECS_énergie_n°2',\n",
       " 'Invariant_fiscal_logement',\n",
       " 'Code_postal_(brut)',\n",
       " 'Zone_climatique_',\n",
       " 'Coût_ECS_énergie_n°3',\n",
       " 'Coût_chauffage_énergie_n°3',\n",
       " 'Conso_ECS_é_finale',\n",
       " 'Modèle_DPE',\n",
       " 'Coût_auxiliaires',\n",
       " 'Coût_refroidissement_dépensier',\n",
       " 'Nom__rue_(BAN)',\n",
       " 'Nom__commune_(BAN)',\n",
       " 'Emission_GES_ECS_dépensier',\n",
       " 'Conso_5_usages_par_m²_é_primaire',\n",
       " 'Besoin_chauffage',\n",
       " 'Appartement_non_visité_(0/1)',\n",
       " \"Complément_d'adresse_logement\"]"
      ]
     },
     "execution_count": 6,
     "metadata": {},
     "output_type": "execute_result"
    }
   ],
   "source": [
    "# Afficher la liste complète des noms de colonnes pour identifier les cibles \"étiquettes DPE\" et \"consommation énergétique\"\n",
    "columns = df_merged.columns.tolist()\n",
    "columns"
   ]
  },
  {
   "cell_type": "markdown",
   "metadata": {},
   "source": [
    "#### Pre processing"
   ]
  },
  {
   "cell_type": "code",
   "execution_count": 7,
   "metadata": {
    "id": "0g5jKuwiCzQM"
   },
   "outputs": [],
   "source": [
    "df = df_merged"
   ]
  },
  {
   "cell_type": "code",
   "execution_count": 8,
   "metadata": {
    "colab": {
     "base_uri": "https://localhost:8080/",
     "height": 1000
    },
    "id": "pANoWhq_CRCT",
    "outputId": "e5902dae-43dd-4973-fa85-a12ad2c835b0"
   },
   "outputs": [
    {
     "data": {
      "text/plain": [
       "Ubat_W/m²_K                            0.000348\n",
       "Conso_auxiliaires_é_finale             0.000348\n",
       "Conso_chauffage_é_primaire             0.002089\n",
       "Emission_GES_chauffage                 0.002089\n",
       "Conso_chauffage_dépensier_é_finale     0.002089\n",
       "                                        ...    \n",
       "Position_logement_dans_immeuble       98.864416\n",
       "Typologie_logement                    98.864416\n",
       "Cage_d'escalier                       99.464768\n",
       "Surface_tertiaire_immeuble            99.531280\n",
       "Invariant_fiscal_logement             99.596748\n",
       "Length: 88, dtype: float64"
      ]
     },
     "execution_count": 8,
     "metadata": {},
     "output_type": "execute_result"
    }
   ],
   "source": [
    "#Fonction pour identifier le % de valeurs manquantes dans chaque colonne\n",
    "#Renvoie seulement les colonnes contenant des valeurs manquantes + les tri\n",
    "def percent_missing(df):\n",
    "  percent_nan = 100 * df.isnull().sum() / len(df)\n",
    "  percent_nan = percent_nan[percent_nan > 0].sort_values()\n",
    "\n",
    "  return percent_nan\n",
    "\n",
    "percent_nan = percent_missing(df)\n",
    "percent_nan"
   ]
  },
  {
   "cell_type": "code",
   "execution_count": 9,
   "metadata": {
    "id": "MK2I5gHvsBoR"
   },
   "outputs": [],
   "source": [
    "#suppression des colonnes qui ont + de > 30% valeurs manquantes\n",
    "df = df.drop(percent_nan[percent_nan > 30].index, axis=1)"
   ]
  },
  {
   "cell_type": "code",
   "execution_count": 10,
   "metadata": {
    "colab": {
     "base_uri": "https://localhost:8080/",
     "height": 1000
    },
    "id": "6M4q4YpgExrK",
    "outputId": "0e45c238-f15c-422e-c4aa-808463965107"
   },
   "outputs": [
    {
     "data": {
      "text/plain": [
       "Ubat_W/m²_K                              0.000348\n",
       "Conso_auxiliaires_é_finale               0.000348\n",
       "Conso_chauffage_é_primaire               0.002089\n",
       "Conso_chauffage_é_finale                 0.002089\n",
       "Emission_GES_chauffage                   0.002089\n",
       "Conso_chauffage_dépensier_é_primaire     0.002089\n",
       "Conso_chauffage_dépensier_é_finale       0.002089\n",
       "Emission_GES_chauffage_dépensier         0.002089\n",
       "Coût_éclairage                           0.002438\n",
       "Conso_5_usages_é_finale                  0.002786\n",
       "Emission_GES_5_usages_par_m²             0.002786\n",
       "Emission_GES_5_usages                    0.002786\n",
       "Conso_5_usages_é_finale_énergie_n°1      0.002786\n",
       "Coût_chauffage_énergie_n°1               0.002786\n",
       "Coût_auxiliaires                         0.002786\n",
       "Conso_5_usages_é_primaire                0.002786\n",
       "Coût_refroidissement                     0.002786\n",
       "Emission_GES_5_usages_énergie_n°1        0.002786\n",
       "Conso_5_usages_par_m²_é_primaire         0.002786\n",
       "Coût_ECS_énergie_n°1                     0.002786\n",
       "Conso_5_usages/m²_é_finale               0.002786\n",
       "Emission_GES_auxiliaires                 0.002786\n",
       "Conso_auxiliaires_é_primaire             0.002786\n",
       "Adresse_brute                            0.003134\n",
       "Coût_chauffage                           0.003134\n",
       "Coût_ECS                                 0.003134\n",
       "Coût_refroidissement_dépensier           0.003134\n",
       "Coût_chauffage_dépensier                 0.003134\n",
       "Coût_ECS_dépensier                       0.003482\n",
       "Coût_total_5_usages                      0.003831\n",
       "Qualité_isolation_murs                   0.006965\n",
       "N°_département_(BAN)                     0.068602\n",
       "N°_région_(BAN)                          0.068602\n",
       "Identifiant__BAN                         0.196751\n",
       "Adresse_(BAN)                            0.196751\n",
       "Surface_habitable_logement               1.531175\n",
       "Nom__rue_(BAN)                           3.338499\n",
       "Nombre_niveau_logement                   4.053071\n",
       "Qualité_isolation_plancher_bas           5.038218\n",
       "Type_énergie_principale_chauffage        5.168805\n",
       "Classe_altitude                          8.468302\n",
       "Zone_climatique_                         8.468302\n",
       "N°_voie_(BAN)                           11.152125\n",
       "Type_installation_ECS_(général)         11.177894\n",
       "Type_installation_chauffage             11.177894\n",
       "Déperditions_renouvellement_air         11.664026\n",
       "Deperditions_enveloppe                  11.664026\n",
       "Déperditions_murs                       11.664374\n",
       "Deperditions_baies_vitrées              11.665071\n",
       "Besoin_ECS                              11.679348\n",
       "Besoin_chauffage                        11.680741\n",
       "Déperditions_ponts_thermiques           11.682134\n",
       "Déperditions_portes                     11.719395\n",
       "Deperditions_planchers_hauts            11.814114\n",
       "Deperditions_planchers_bas              11.823864\n",
       "Besoin_refroidissement                  11.869831\n",
       "Classe_inertie_bâtiment                 12.283182\n",
       "Nombre_appartement                      15.220518\n",
       "N°_étage_appartement                    18.657914\n",
       "Complément_d'adresse_logement           27.626974\n",
       "dtype: float64"
      ]
     },
     "execution_count": 10,
     "metadata": {},
     "output_type": "execute_result"
    }
   ],
   "source": [
    "#Vérification suppression des valeurs manquantes\n",
    "percent_nan = percent_missing(df)\n",
    "percent_nan"
   ]
  },
  {
   "cell_type": "code",
   "execution_count": 13,
   "metadata": {
    "id": "923OtG98wqCl"
   },
   "outputs": [],
   "source": [
    "#supprimer les lignes, dans les colonnes qui ont moins de 9% de valeurs manquantes\n",
    "df = df.dropna(subset=percent_nan[percent_nan < 9].index, axis=0)"
   ]
  },
  {
   "cell_type": "code",
   "execution_count": 14,
   "metadata": {
    "colab": {
     "base_uri": "https://localhost:8080/",
     "height": 1000
    },
    "id": "MzAzNNY1JYxT",
    "outputId": "1b9b191c-5bbe-4c36-ce23-157e0f938c59"
   },
   "outputs": [
    {
     "data": {
      "text/plain": [
       "Type_installation_chauffage         9.713755\n",
       "Type_installation_ECS_(général)     9.713755\n",
       "Nombre_appartement                 10.340823\n",
       "Complément_d'adresse_logement      17.877785\n",
       "dtype: float64"
      ]
     },
     "execution_count": 14,
     "metadata": {},
     "output_type": "execute_result"
    }
   ],
   "source": [
    "#Vérification suppression\n",
    "percent_nan = percent_missing(df)\n",
    "percent_nan"
   ]
  },
  {
   "cell_type": "markdown",
   "metadata": {},
   "source": [
    "##### Imputation des valeurs manquantes"
   ]
  },
  {
   "cell_type": "code",
   "execution_count": 15,
   "metadata": {
    "id": "B0B9MYmmRBgL"
   },
   "outputs": [
    {
     "name": "stdout",
     "output_type": "stream",
     "text": [
      "Ubat_W/m²_K                          0\n",
      "N°_département_(BAN)                 0\n",
      "Nombre_appartement                   0\n",
      "Coordonnée_cartographique_X_(BAN)    0\n",
      "Coût_total_5_usages                  0\n",
      "                                    ..\n",
      "Coût_auxiliaires                     0\n",
      "Coût_refroidissement_dépensier       0\n",
      "Emission_GES_ECS_dépensier           0\n",
      "Conso_5_usages_par_m²_é_primaire     0\n",
      "Besoin_chauffage                     0\n",
      "Length: 69, dtype: int64\n"
     ]
    }
   ],
   "source": [
    "# Sélectionner uniquement les colonnes quantitatives (numériques)\n",
    "quant_cols = df.select_dtypes(include=[np.number]).columns\n",
    "\n",
    "# Identifier les colonnes quantitatives avec des valeurs manquantes\n",
    "cols_with_missing = percent_nan[percent_nan > 0].index.intersection(quant_cols)\n",
    "\n",
    "# Imputation par la médiane pour les colonnes quantitatives avec des valeurs manquantes\n",
    "for col in cols_with_missing:\n",
    "    df[col] = df[col].fillna(df[col].median())\n",
    "\n",
    "#Vérification des données manquantes\n",
    "print(df[quant_cols].isnull().sum())\n"
   ]
  },
  {
   "cell_type": "code",
   "execution_count": 16,
   "metadata": {
    "id": "ka4BOpYCLKr3"
   },
   "outputs": [
    {
     "data": {
      "text/plain": [
       "Méthode_application_DPE              0\n",
       "Qualité_isolation_menuiseries        0\n",
       "Date_fin_validité_DPE                0\n",
       "Date_établissement_DPE               0\n",
       "Adresse_brute                        0\n",
       "Qualité_isolation_plancher_bas       0\n",
       "Type_énergie_n°1                     0\n",
       "Besoin_refroidissement               0\n",
       "Code_INSEE_(BAN)                     0\n",
       "Classe_altitude                      0\n",
       "Adresse_(BAN)                        0\n",
       "Date_visite_diagnostiqueur           0\n",
       "_geopoint                            0\n",
       "Qualité_isolation_enveloppe          0\n",
       "Identifiant__BAN                     0\n",
       "Statut_géocodage                     0\n",
       "Besoin_ECS                           0\n",
       "Type_installation_chauffage          0\n",
       "_id                                  0\n",
       "Type_bâtiment                        0\n",
       "Date_réception_DPE                   0\n",
       "N°DPE                                0\n",
       "Type_énergie_principale_chauffage    0\n",
       "Type_installation_ECS_(général)      0\n",
       "Classe_inertie_bâtiment              0\n",
       "Etiquette_GES                        0\n",
       "N°_voie_(BAN)                        0\n",
       "Qualité_isolation_murs               0\n",
       "Etiquette_DPE                        0\n",
       "Zone_climatique_                     0\n",
       "Modèle_DPE                           0\n",
       "Nom__rue_(BAN)                       0\n",
       "Nom__commune_(BAN)                   0\n",
       "Complément_d'adresse_logement        0\n",
       "dtype: int64"
      ]
     },
     "execution_count": 16,
     "metadata": {},
     "output_type": "execute_result"
    }
   ],
   "source": [
    "#Imputation des Données Manquantes sur variable qualitative\n",
    "\n",
    "# Sélectionner toutes les colonnes non numériques (qualitatives)\n",
    "categorical_cols = df.select_dtypes(exclude=[np.number]).columns\n",
    "\n",
    "# Appliquer l'imputation par la valeur la plus fréquente (mode) pour chaque colonne catégorielle\n",
    "for col in categorical_cols:\n",
    "    df[col] = df[col].fillna(df[col].mode()[0])\n",
    "\n",
    "#Vérification des données manquantes\n",
    "df[categorical_cols].isnull().sum()"
   ]
  },
  {
   "cell_type": "code",
   "execution_count": 17,
   "metadata": {
    "id": "qw-yzQncKDLY"
   },
   "outputs": [],
   "source": [
    "col = df.columns.tolist()\n",
    "col\n",
    "# Sélectionner toutes les colonnes sauf celles contenant \"Coût\" ou \"Conso\" ou \"GES\" qui sont liées a la variable target pour éviter Data Leakage\n",
    "les_variables_explicatives = [col for col in df.columns if not (\"Coût\" in col or \"Conso\" in col or \"GES\" in col or \"coût\" in col)]\n",
    "#les_variables_explicatives"
   ]
  },
  {
   "cell_type": "code",
   "execution_count": 18,
   "metadata": {
    "colab": {
     "base_uri": "https://localhost:8080/"
    },
    "id": "iruZOalpMk0Z",
    "outputId": "36d09fb7-b80f-46ef-82f1-18763385ab3a"
   },
   "outputs": [
    {
     "data": {
      "text/plain": [
       "['Ubat_W/m²_K',\n",
       " 'N°_département_(BAN)',\n",
       " 'Nombre_appartement',\n",
       " 'Coordonnée_cartographique_X_(BAN)',\n",
       " 'Score_BAN',\n",
       " 'N°_étage_appartement',\n",
       " 'N°_région_(BAN)',\n",
       " 'Deperditions_planchers_hauts',\n",
       " 'Version_DPE',\n",
       " 'Deperditions_planchers_bas',\n",
       " '_i',\n",
       " 'Déperditions_renouvellement_air',\n",
       " 'Surface_habitable_logement',\n",
       " '_score',\n",
       " 'Nombre_niveau_logement',\n",
       " 'Déperditions_ponts_thermiques',\n",
       " 'Coordonnée_cartographique_Y_(BAN)',\n",
       " 'Deperditions_enveloppe',\n",
       " 'Hauteur_sous-plafond',\n",
       " 'Déperditions_portes',\n",
       " 'Code_postal_(BAN)',\n",
       " '_rand',\n",
       " 'Déperditions_murs',\n",
       " 'Deperditions_baies_vitrées',\n",
       " 'Code_postal_(brut)',\n",
       " 'Besoin_chauffage']"
      ]
     },
     "execution_count": 18,
     "metadata": {},
     "output_type": "execute_result"
    }
   ],
   "source": [
    "# Filtrer les colonnes quantitatives parmi les variables explicatives\n",
    "quantitative_variables = [col for col in les_variables_explicatives if np.issubdtype(df[col].dtype, np.number)]\n",
    "# Afficher les variables quantitatives sélectionnées\n",
    "quantitative_variables"
   ]
  },
  {
   "cell_type": "code",
   "execution_count": 19,
   "metadata": {
    "colab": {
     "base_uri": "https://localhost:8080/"
    },
    "id": "2R_rr-6FM2DR",
    "outputId": "96ede005-692e-40aa-8ed2-06a2a14489c2"
   },
   "outputs": [
    {
     "name": "stdout",
     "output_type": "stream",
     "text": [
      "Surface_habitable_logement    0.664904\n",
      "Ubat_W/m²_K                   0.324088\n",
      "dtype: float64\n"
     ]
    }
   ],
   "source": [
    "# Supprimer les colonnes constantes (qui ne donneront donc aucune corrélation)\n",
    "quantitative_variables = [col for col in quantitative_variables if df[col].nunique() > 1]\n",
    "# Calculer la corrélation entre chaque variable quantitative et 'Conso_5_usages_é_finale'\n",
    "correlations = df[quantitative_variables].corrwith(df['Conso_5_usages_é_finale'])\n",
    "# Trier les corrélations dans l'ordre décroissant\n",
    "correlations_sorted = correlations.sort_values(ascending=False)\n",
    "# Filtrer pour garder uniquement les corrélations supérieures à 0.2\n",
    "correlations_filtered = correlations_sorted[correlations_sorted > 0.2]\n",
    "# Afficher les corrélations filtrées\n",
    "print(correlations_filtered)\n"
   ]
  },
  {
   "cell_type": "code",
   "execution_count": 20,
   "metadata": {
    "colab": {
     "base_uri": "https://localhost:8080/",
     "height": 335
    },
    "id": "Q4fmR7bJVPQS",
    "outputId": "8880ca3b-510c-4b88-cb46-578e11b85113"
   },
   "outputs": [
    {
     "data": {
      "text/plain": [
       "count    189453.000000\n",
       "mean      10399.339109\n",
       "std        9198.048501\n",
       "min         556.500000\n",
       "25%        5015.400000\n",
       "50%        8032.000000\n",
       "75%       13158.900000\n",
       "max      429196.900000\n",
       "Name: Conso_5_usages_é_finale, dtype: float64"
      ]
     },
     "execution_count": 20,
     "metadata": {},
     "output_type": "execute_result"
    }
   ],
   "source": [
    "df['Conso_5_usages_é_finale'].describe()\n",
    "#Il faut traiter les outliers de df1['Conso_5_usages_é_finale'] pour éviter que le modèle apprenne mal"
   ]
  },
  {
   "cell_type": "code",
   "execution_count": 23,
   "metadata": {
    "colab": {
     "base_uri": "https://localhost:8080/"
    },
    "id": "VZ4oiaRZor8k",
    "outputId": "c01e46fd-366d-411f-fabc-0f1a288f1d8b"
   },
   "outputs": [
    {
     "name": "stdout",
     "output_type": "stream",
     "text": [
      "25374.15\n",
      "Nombre de valeurs supérieures à 25374.15 : 8784\n",
      "Pourcentage de valeurs supérieures à 25374.15 : 4.64 %\n"
     ]
    }
   ],
   "source": [
    "# Calculate Q1 and Q3\n",
    "Q1 = df['Conso_5_usages_é_finale'].quantile(0.25)\n",
    "Q3 = df['Conso_5_usages_é_finale'].quantile(0.75)\n",
    "\n",
    "# Calculate IQR\n",
    "IQR = Q3 - Q1\n",
    "\n",
    "# Calculate the upper limit for outliers\n",
    "limitSup = Q3 + (IQR * 1.5)\n",
    "print(limitSup) #le seuil qui considère valeurs aberrantes niv sup\n",
    "\n",
    "# Compter le nombre de valeurs supérieures à limitSup (outliers)\n",
    "count_above_outliers = (df['Conso_5_usages_é_finale'] > limitSup).sum()\n",
    "\n",
    "# Afficher le résultat\n",
    "print(\"Nombre de valeurs supérieures à\",limitSup,\":\", count_above_outliers)\n",
    "\n",
    "# Calculer le pourcentage et arrondir à deux chiffres après la virgule\n",
    "percentage_above_20000 = round((count_above_outliers / len(df['Conso_5_usages_é_finale'])) * 100, 2)\n",
    "\n",
    "# Afficher le résultat\n",
    "print(\"Pourcentage de valeurs supérieures à\", limitSup, \":\", percentage_above_20000, \"%\")\n"
   ]
  },
  {
   "cell_type": "code",
   "execution_count": 24,
   "metadata": {
    "id": "6Y8nWy6XxIBS"
   },
   "outputs": [],
   "source": [
    "df = df[df['Conso_5_usages_é_finale'] <= limitSup] #suppression des outliers qui représentent 5% de la colonne\n"
   ]
  },
  {
   "cell_type": "markdown",
   "metadata": {},
   "source": [
    "#### Sélection des variables explicatives"
   ]
  },
  {
   "cell_type": "code",
   "execution_count": 25,
   "metadata": {},
   "outputs": [],
   "source": [
    "#Creation d'un autre dataframe pour test ANOVA (pour que ne pas encoder les données du dataframe)\n",
    "#Car l encodage sera fait dans le pipeline ce qui permettra de reproduire pour les nouvelles données + simplement\n",
    "df1 = df"
   ]
  },
  {
   "cell_type": "code",
   "execution_count": 26,
   "metadata": {
    "id": "V4VJxFakxLA7"
   },
   "outputs": [],
   "source": [
    "#faire test stat pour évaluer les var qualitatives significatives avec variable cible\n",
    "\n",
    "quantitative_var = 'Conso_5_usages_é_finale'\n",
    "# Filtrer les variables qualitatives\n",
    "qualitative_vars = df1.select_dtypes(include=['object', 'category']).columns\n",
    "# Dictionnaire pour stocker les résultats\n",
    "anova_results = {}\n",
    "\n",
    "# Parcourir les variables qualitatives\n",
    "for qual_var in qualitative_vars:\n",
    "    # Groupement des données en une seule opération\n",
    "    grouped_data = df1.groupby(qual_var)[quantitative_var].apply(list)\n",
    "\n",
    "    # Filtrer les groupes avec au moins deux valeurs\n",
    "    filtered_groups = [group for group in grouped_data if len(group) > 1]\n",
    "\n",
    "    # Effectuer le test ANOVA si le nombre de groupes est supérieur à 1\n",
    "    if len(filtered_groups) > 1:\n",
    "        f_stat, p_value = stats.f_oneway(*filtered_groups)\n",
    "        anova_results[qual_var] = {'F_statistic': f_stat, 'p_value': p_value}\n"
   ]
  },
  {
   "cell_type": "code",
   "execution_count": 27,
   "metadata": {
    "colab": {
     "base_uri": "https://localhost:8080/"
    },
    "id": "e1Y67_pWrykv",
    "outputId": "a6a2c0eb-d70f-437c-c50a-9c6aef106928"
   },
   "outputs": [
    {
     "name": "stdout",
     "output_type": "stream",
     "text": [
      "Variable qualitative : Etiquette_GES\n",
      "  Statistique F : 20371.29, Valeur p : 0.0000e+00\n",
      "\n",
      "Variable qualitative : Qualité_isolation_murs\n",
      "  Statistique F : 12232.95, Valeur p : 0.0000e+00\n",
      "\n",
      "Variable qualitative : Type_bâtiment\n",
      "  Statistique F : 11700.46, Valeur p : 0.0000e+00\n",
      "\n",
      "Variable qualitative : Qualité_isolation_enveloppe\n",
      "  Statistique F : 7973.39, Valeur p : 0.0000e+00\n",
      "\n",
      "Variable qualitative : Méthode_application_DPE\n",
      "  Statistique F : 5868.83, Valeur p : 0.0000e+00\n",
      "\n",
      "Variable qualitative : Etiquette_DPE\n",
      "  Statistique F : 5307.98, Valeur p : 0.0000e+00\n",
      "\n",
      "Variable qualitative : Type_installation_chauffage\n",
      "  Statistique F : 4936.22, Valeur p : 0.0000e+00\n",
      "\n",
      "Variable qualitative : Type_énergie_principale_chauffage\n",
      "  Statistique F : 4399.18, Valeur p : 0.0000e+00\n",
      "\n",
      "Variable qualitative : Qualité_isolation_plancher_bas\n",
      "  Statistique F : 4227.10, Valeur p : 0.0000e+00\n",
      "\n",
      "Variable qualitative : Type_énergie_n°1\n",
      "  Statistique F : 3880.23, Valeur p : 0.0000e+00\n",
      "\n",
      "Variable qualitative : Qualité_isolation_menuiseries\n",
      "  Statistique F : 2963.85, Valeur p : 0.0000e+00\n",
      "\n",
      "Variable qualitative : Classe_inertie_bâtiment\n",
      "  Statistique F : 986.77, Valeur p : 0.0000e+00\n",
      "\n",
      "Variable qualitative : Type_installation_ECS_(général)\n",
      "  Statistique F : 982.78, Valeur p : 0.0000e+00\n",
      "\n",
      "Variable qualitative : Classe_altitude\n",
      "  Statistique F : 569.97, Valeur p : 1.7501e-247\n",
      "\n",
      "Variable qualitative : Code_INSEE_(BAN)\n",
      "  Statistique F : 54.62, Valeur p : 0.0000e+00\n",
      "\n",
      "Variable qualitative : Nom__commune_(BAN)\n",
      "  Statistique F : 46.23, Valeur p : 0.0000e+00\n",
      "\n",
      "Variable qualitative : Zone_climatique_\n",
      "  Statistique F : 33.76, Valeur p : 2.4229e-47\n",
      "\n",
      "Variable qualitative : Besoin_ECS\n",
      "  Statistique F : 21.14, Valeur p : 0.0000e+00\n",
      "\n",
      "Variable qualitative : Date_fin_validité_DPE\n",
      "  Statistique F : 19.73, Valeur p : 0.0000e+00\n",
      "\n",
      "Variable qualitative : Date_établissement_DPE\n",
      "  Statistique F : 19.73, Valeur p : 0.0000e+00\n",
      "\n",
      "Variable qualitative : Date_réception_DPE\n",
      "  Statistique F : 19.35, Valeur p : 0.0000e+00\n",
      "\n",
      "Variable qualitative : Date_visite_diagnostiqueur\n",
      "  Statistique F : 18.92, Valeur p : 0.0000e+00\n",
      "\n",
      "Variable qualitative : Adresse_brute\n",
      "  Statistique F : 17.96, Valeur p : 0.0000e+00\n",
      "\n",
      "Variable qualitative : Adresse_(BAN)\n",
      "  Statistique F : 16.39, Valeur p : 0.0000e+00\n",
      "\n",
      "Variable qualitative : Identifiant__BAN\n",
      "  Statistique F : 16.34, Valeur p : 0.0000e+00\n",
      "\n",
      "Variable qualitative : _geopoint\n",
      "  Statistique F : 16.31, Valeur p : 0.0000e+00\n",
      "\n",
      "Variable qualitative : Nom__rue_(BAN)\n",
      "  Statistique F : 15.45, Valeur p : 0.0000e+00\n",
      "\n",
      "Variable qualitative : N°_voie_(BAN)\n",
      "  Statistique F : 7.26, Valeur p : 0.0000e+00\n",
      "\n",
      "Variable qualitative : Complément_d'adresse_logement\n",
      "  Statistique F : 2.57, Valeur p : 0.0000e+00\n",
      "\n",
      "Variable qualitative : Besoin_refroidissement\n",
      "  Statistique F : 1.91, Valeur p : 1.5409e-64\n",
      "\n",
      "Variable qualitative : Statut_géocodage\n",
      "  Statistique F : 0.03, Valeur p : 8.6412e-01\n",
      "\n"
     ]
    }
   ],
   "source": [
    "# Trier les résultats par ordre décroissant de la statistique F\n",
    "anova_results_sorted = dict(sorted(anova_results.items(), key=lambda item: item[1]['F_statistic'], reverse=True))\n",
    "# Afficher les résultats triés\n",
    "for var, result in anova_results_sorted.items():\n",
    "    print(f\"Variable qualitative : {var}\")\n",
    "    print(f\"  Statistique F : {result['F_statistic']:.2f}, Valeur p : {result['p_value']:.4e}\\n\")"
   ]
  },
  {
   "cell_type": "code",
   "execution_count": 29,
   "metadata": {},
   "outputs": [
    {
     "name": "stdout",
     "output_type": "stream",
     "text": [
      "   Méthode_application_DPE  Qualité_isolation_menuiseries  \\\n",
      "1                      1.0                            2.0   \n",
      "2                      1.0                            2.0   \n",
      "3                      1.0                            2.0   \n",
      "4                      1.0                            0.0   \n",
      "5                      1.0                            2.0   \n",
      "\n",
      "   Qualité_isolation_plancher_bas  Type_énergie_n°1  \\\n",
      "1                             3.0              10.0   \n",
      "2                             3.0               7.0   \n",
      "3                             3.0               7.0   \n",
      "4                             3.0              10.0   \n",
      "5                             3.0              10.0   \n",
      "\n",
      "   Qualité_isolation_enveloppe  Type_installation_chauffage  Type_bâtiment  \\\n",
      "1                          1.0                          1.0            0.0   \n",
      "2                          0.0                          1.0            0.0   \n",
      "3                          3.0                          1.0            0.0   \n",
      "4                          1.0                          1.0            0.0   \n",
      "5                          3.0                          1.0            0.0   \n",
      "\n",
      "   Type_énergie_principale_chauffage  Etiquette_GES  Qualité_isolation_murs  \\\n",
      "1                               10.0            2.0                     1.0   \n",
      "2                                7.0            5.0                     1.0   \n",
      "3                                7.0            3.0                     1.0   \n",
      "4                               10.0            0.0                     0.0   \n",
      "5                               10.0            0.0                     3.0   \n",
      "\n",
      "   Etiquette_DPE  \n",
      "1            6.0  \n",
      "2            5.0  \n",
      "3            3.0  \n",
      "4            2.0  \n",
      "5            3.0  \n"
     ]
    }
   ],
   "source": [
    "# 1. Filtrer les variables quantitatives avec une corrélation supérieure à 0,2 qui sont stockées dans correlations_filtered\n",
    "#correlations_filtered = correlations_sorted[correlations_sorted > 0.2]\n",
    "quantitative_vars = correlations_filtered.index.tolist()  # Liste des variables quantitatives sélectionnées\n",
    "\n",
    "# 2. Filtrer les variables qualitatives avec une F-valeur supérieure à 1000\n",
    "qualitative_vars = [var for var, results in anova_results.items() if results['F_statistic'] > 2000]\n",
    "\n",
    "# Appliquer OrdinalEncoder sur toutes les variables qualitatives sélectionnées d'un coup\n",
    "ordinal_encoder = OrdinalEncoder()\n",
    "df1[qualitative_vars] = ordinal_encoder.fit_transform(df1[qualitative_vars])\n",
    "\n",
    "# Vérification\n",
    "print(df1[qualitative_vars].head())\n",
    "\n",
    "variables_explicatives = quantitative_vars + qualitative_vars\n"
   ]
  },
  {
   "cell_type": "code",
   "execution_count": 30,
   "metadata": {
    "colab": {
     "base_uri": "https://localhost:8080/"
    },
    "id": "wsaxvMHNm1wR",
    "outputId": "e419b96a-deec-4462-837d-fce98385a230"
   },
   "outputs": [
    {
     "name": "stdout",
     "output_type": "stream",
     "text": [
      "Add  Type_bâtiment with p-value 0.0\n",
      "Add  Etiquette_DPE with p-value 0.0\n",
      "Add  Surface_habitable_logement with p-value 0.0\n",
      "Add  Etiquette_GES with p-value 0.0\n",
      "Add  Ubat_W/m²_K with p-value 0.0\n",
      "Add  Type_installation_chauffage with p-value 0.0\n",
      "Add  Qualité_isolation_murs with p-value 0.0\n",
      "Add  Type_énergie_n°1 with p-value 1.5203536691737305e-233\n",
      "Add  Qualité_isolation_plancher_bas with p-value 8.798393091406106e-67\n",
      "Add  Qualité_isolation_enveloppe with p-value 3.569885057147272e-74\n",
      "Add  Méthode_application_DPE with p-value 1.4599409398257546e-41\n",
      "Add  Qualité_isolation_menuiseries with p-value 6.011565708456386e-27\n",
      "Variables sélectionnées : ['Type_bâtiment', 'Etiquette_DPE', 'Surface_habitable_logement', 'Etiquette_GES', 'Ubat_W/m²_K', 'Type_installation_chauffage', 'Qualité_isolation_murs', 'Type_énergie_n°1', 'Qualité_isolation_plancher_bas', 'Qualité_isolation_enveloppe', 'Méthode_application_DPE', 'Qualité_isolation_menuiseries']\n"
     ]
    }
   ],
   "source": [
    "#Alorithme stepwise pour sélectionner les variables explicatives\n",
    "def stepwise_selection(X, y, initial_list=[], threshold_in=0.01, threshold_out=0.05, verbose=True):\n",
    "    \"\"\"\n",
    "    Algorithme stepwise pour sélectionner les variables en utilisant le critère AIC.\n",
    "\n",
    "    :param X: DataFrame des variables explicatives.\n",
    "    :param y: Série ou tableau de la variable cible.\n",
    "    :param initial_list: Liste des variables initiales (vide par défaut).\n",
    "    :param threshold_in: Seuil pour ajouter une variable au modèle.\n",
    "    :param threshold_out: Seuil pour retirer une variable du modèle.\n",
    "    :param verbose: Affiche les informations à chaque étape si True.\n",
    "    :return: Liste des variables sélectionnées.\n",
    "    \"\"\"\n",
    "    included = list(initial_list)\n",
    "\n",
    "    while True:\n",
    "        changed = False\n",
    "        # Test des ajouts de nouvelles variables\n",
    "        excluded = list(set(X.columns) - set(included))\n",
    "        new_pval = pd.Series(index=excluded)\n",
    "        for new_column in excluded:\n",
    "            model = sm.OLS(y, sm.add_constant(X[included + [new_column]])).fit()\n",
    "            new_pval[new_column] = model.pvalues[new_column]\n",
    "\n",
    "        # Ajout de la variable avec la p-valeur la plus basse\n",
    "        best_pval = new_pval.min()\n",
    "        if best_pval < threshold_in:\n",
    "            best_feature = new_pval.idxmin()\n",
    "            included.append(best_feature)\n",
    "            changed = True\n",
    "            if verbose:\n",
    "                print(f'Add  {best_feature} with p-value {best_pval}')\n",
    "\n",
    "        # Test de suppression des variables\n",
    "        model = sm.OLS(y, sm.add_constant(X[included])).fit()\n",
    "        pvalues = model.pvalues.iloc[1:]  # On exclut l'intercept\n",
    "        worst_pval = pvalues.max()  # La p-valeur la plus haute\n",
    "        if worst_pval > threshold_out:\n",
    "            changed = True\n",
    "            worst_feature = pvalues.idxmax()\n",
    "            included.remove(worst_feature)\n",
    "            if verbose:\n",
    "                print(f'Remove {worst_feature} with p-value {worst_pval}')\n",
    "\n",
    "        if not changed:\n",
    "            break\n",
    "\n",
    "    return included\n",
    "\n",
    "# Utilisation de la fonction stepwise_selection\n",
    "\n",
    "X = df1[variables_explicatives]\n",
    "X = X.apply(pd.to_numeric, errors='coerce')\n",
    "y = df1['Conso_5_usages_é_finale']\n",
    "selected_features = stepwise_selection(X, y)\n",
    "\n",
    "print(\"Variables sélectionnées :\", selected_features)\n"
   ]
  },
  {
   "cell_type": "markdown",
   "metadata": {
    "id": "fvg9l8oKueiY"
   },
   "source": [
    "### Modèles Régression "
   ]
  },
  {
   "cell_type": "code",
   "execution_count": 31,
   "metadata": {},
   "outputs": [],
   "source": [
    "#Variables explicatives à stocker \n",
    "selected_features = ['Type_bâtiment', 'Qualité_isolation_enveloppe', 'Etiquette_GES', 'Surface_habitable_logement', 'Etiquette_DPE', 'Type_installation_chauffage', 'Ubat_W/m²_K', 'Qualité_isolation_murs', 'Type_énergie_n°1', 'Qualité_isolation_plancher_bas', 'Méthode_application_DPE', 'Qualité_isolation_menuiseries']"
   ]
  },
  {
   "cell_type": "markdown",
   "metadata": {},
   "source": [
    "#### Random Forest"
   ]
  },
  {
   "cell_type": "code",
   "execution_count": 33,
   "metadata": {},
   "outputs": [
    {
     "name": "stdout",
     "output_type": "stream",
     "text": [
      "RMSE : 1089.3881426132027\n",
      "MAE : 634.8763185545859\n",
      "R² : 0.9582030885288537\n"
     ]
    }
   ],
   "source": [
    "# Sélection des variables quantitatives et qualitatives\n",
    "quantitative_vars = [col for col in selected_features if col in df.select_dtypes(include=[np.number]).columns]\n",
    "qualitative_vars = [col for col in selected_features if col in df.select_dtypes(include=['object', 'category']).columns]\n",
    "\n",
    "# Séparation des données en ensembles d'entraînement et de test\n",
    "X = df[selected_features]\n",
    "y = df['Conso_5_usages_é_finale']\n",
    "X_train, X_test, y_train, y_test = train_test_split(X, y, test_size=0.25, random_state=42)\n",
    "\n",
    "# Définition du préprocesseur pour StandardScaler et OrdinalEncoder\n",
    "preprocessor = ColumnTransformer(\n",
    "    transformers=[\n",
    "        ('num', StandardScaler(), quantitative_vars),\n",
    "        ('cat', OrdinalEncoder(dtype=int), qualitative_vars)  # Encodage ordinal pour les qualitatives en entier\n",
    "    ]\n",
    ")\n",
    "\n",
    "# Création du pipeline avec le préprocesseur et le modèle de régression RandomForest\n",
    "model = Pipeline(steps=[\n",
    "    ('preprocessor', preprocessor),\n",
    "    ('regressor', RandomForestRegressor())\n",
    "\n",
    "])\n",
    "\n",
    "# Entraînement du modèle\n",
    "model.fit(X_train, y_train)\n",
    "\n",
    "# Prédictions\n",
    "y_pred = model.predict(X_test)\n",
    "\n",
    "# Calcul des métriques\n",
    "rmse = np.sqrt(mean_squared_error(y_test, y_pred))\n",
    "mae = mean_absolute_error(y_test, y_pred)\n",
    "r2 = r2_score(y_test, y_pred)\n",
    "\n",
    "# Affichage des métriques\n",
    "print(\"RMSE :\", rmse)\n",
    "print(\"MAE :\", mae)\n",
    "print(\"R² :\", r2)\n"
   ]
  },
  {
   "cell_type": "code",
   "execution_count": null,
   "metadata": {},
   "outputs": [],
   "source": [
    "# Exporter le modèle dans un fichier avec pickle\n",
    "with open('rdforest.pkl', 'wb') as file:\n",
    "    pickle.dump(model, file)"
   ]
  },
  {
   "cell_type": "markdown",
   "metadata": {},
   "source": [
    "#### XGBoost"
   ]
  },
  {
   "cell_type": "code",
   "execution_count": 34,
   "metadata": {},
   "outputs": [
    {
     "name": "stdout",
     "output_type": "stream",
     "text": [
      "RMSE : 1288393.2283536538\n",
      "MAE : 759.8199597510387\n",
      "R2 : 0.9546238821545451\n"
     ]
    }
   ],
   "source": [
    "# Sélection des variables quantitatives et qualitatives\n",
    "quantitative_vars = [col for col in selected_features if col in df1.select_dtypes(include=[np.number]).columns]\n",
    "qualitative_vars = [col for col in selected_features if col in df1.select_dtypes(include=['object', 'category']).columns]\n",
    "\n",
    "X = df1[selected_features]\n",
    "Y = df1['Conso_5_usages_é_finale']\n",
    "# Séparation des données en ensembles d'entraînement et de test\n",
    "X_train, X_test, y_train, y_test = train_test_split(X, Y, test_size=0.25, random_state=42)\n",
    "\n",
    "# Définition du préprocesseur pour StandardScaler et OrdinalEncoder\n",
    "preprocessor = ColumnTransformer(\n",
    "    transformers=[\n",
    "        ('num', StandardScaler(), quantitative_vars),\n",
    "        ('cat', OrdinalEncoder(dtype=int), qualitative_vars)  # Encodage ordinal en entiers pour les qualitatives\n",
    "    ]\n",
    ")\n",
    "\n",
    "# Création du pipeline avec le préprocesseur et XGBRegressor\n",
    "model = Pipeline(steps=[\n",
    "    ('preprocessor', preprocessor),\n",
    "    ('regressor', XGBRegressor())\n",
    "])\n",
    "\n",
    "model.fit(X_train, y_train)\n",
    "# Prédictions\n",
    "y_pred = model.predict(X_test)\n",
    "\n",
    "# Entraîner le modèle\n",
    "# Calcul des métriques pour l'ensemble de test\n",
    "rmse = mean_squared_error(y_test, y_pred)\n",
    "mae = mean_absolute_error(y_test, y_pred)\n",
    "r2 = r2_score(y_test, y_pred)\n",
    "\n",
    "# Affichage des métriques\n",
    "print(\"RMSE :\", rmse)\n",
    "print(\"MAE :\", mae)\n",
    "print(\"R2 :\", r2)\n"
   ]
  },
  {
   "cell_type": "code",
   "execution_count": null,
   "metadata": {},
   "outputs": [],
   "source": [
    "# Exporter le modèle dans un fichier avec pickle\n",
    "with open('xgboost.pkl', 'wb') as file:\n",
    "    pickle.dump(model, file)"
   ]
  }
 ],
 "metadata": {
  "colab": {
   "provenance": []
  },
  "kernelspec": {
   "display_name": "Python 3",
   "name": "python3"
  },
  "language_info": {
   "codemirror_mode": {
    "name": "ipython",
    "version": 3
   },
   "file_extension": ".py",
   "mimetype": "text/x-python",
   "name": "python",
   "nbconvert_exporter": "python",
   "pygments_lexer": "ipython3",
   "version": "3.10.4"
  }
 },
 "nbformat": 4,
 "nbformat_minor": 0
}
