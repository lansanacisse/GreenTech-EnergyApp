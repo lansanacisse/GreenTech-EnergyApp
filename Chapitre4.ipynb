{
 "cells": [
  {
   "cell_type": "markdown",
   "metadata": {},
   "source": [
    "# Exrtaction API"
   ]
  },
  {
   "cell_type": "code",
   "execution_count": 1,
   "metadata": {},
   "outputs": [],
   "source": [
    "import requests\n",
    "import json"
   ]
  },
  {
   "cell_type": "code",
   "execution_count": 3,
   "metadata": {},
   "outputs": [
    {
     "name": "stdout",
     "output_type": "stream",
     "text": [
      "Statut de la réponse : 200\n",
      "Nombre total de lignes : 1742\n",
      "Dimensions des données récupérées : 5, 5\n",
      "[{'Date_réception_DPE': '2023-06-30', 'N°DPE': '2369E2203920X', 'Code_postal_(BAN)': '69008', 'Etiquette_DPE': 'D', '_score': 27.755405}, {'Date_réception_DPE': '2023-06-29', 'N°DPE': '2369E2194291O', 'Code_postal_(BAN)': '69008', 'Etiquette_DPE': 'D', '_score': 27.755405}, {'Date_réception_DPE': '2023-06-30', 'N°DPE': '2369E2203889S', 'Code_postal_(BAN)': '69008', 'Etiquette_DPE': 'C', '_score': 27.755405}, {'Date_réception_DPE': '2023-06-29', 'N°DPE': '2369E2194194V', 'Code_postal_(BAN)': '69008', 'Etiquette_DPE': 'D', '_score': 27.755405}, {'Date_réception_DPE': '2023-06-29', 'N°DPE': '2369E2195387S', 'Code_postal_(BAN)': '69008', 'Etiquette_DPE': 'D', '_score': 27.755405}]\n"
     ]
    }
   ],
   "source": [
    "import requests\n",
    "import json\n",
    "\n",
    "# URL de base de l'API\n",
    "base_url = \"https://data.ademe.fr/data-fair/api/v1/datasets/dpe-v2-logements-existants/lines\"\n",
    "\n",
    "# Paramètres de la requête\n",
    "params = {\n",
    "    \"page\": 1,\n",
    "    \"size\": 5,\n",
    "    \"select\": \"N°DPE,Code_postal_(BAN),Etiquette_DPE,Date_réception_DPE\",\n",
    "    \"q\": \"69008\",\n",
    "    \"q_fields\": \"Code_postal_(BAN)\",\n",
    "    \"qs\": \"Date_réception_DPE:[2023-06-29 TO 2023-08-30]\"\n",
    "}\n",
    "\n",
    "# Effectuer la requête GET avec les paramètres\n",
    "response = requests.get(base_url, params=params)\n",
    "\n",
    "# Vérifier le statut de la réponse\n",
    "print(f\"Statut de la réponse : {response.status_code}\")\n",
    "\n",
    "# Si la requête a été effectuée avec succès, traiter le contenu\n",
    "if response.status_code == 200:\n",
    "    # Charger le contenu de la réponse en JSON\n",
    "    content = response.json()\n",
    "    \n",
    "    # Afficher le nombre total de lignes dans la base de données\n",
    "    print(f\"Nombre total de lignes : {content['total']}\")\n",
    "    \n",
    "    # Afficher les données récupérées\n",
    "    df = content['results']\n",
    "    \n",
    "    # Afficher les dimensions du DataFrame (nombre de lignes et de colonnes)\n",
    "    print(f\"Dimensions des données récupérées : {len(df)}, {len(df[0]) if df else 0}\")\n",
    "    \n",
    "    # Si nécessaire, afficher les données\n",
    "    print(df)\n",
    "else:\n",
    "    print(\"Erreur lors de la requête\")"
   ]
  },
  {
   "cell_type": "markdown",
   "metadata": {},
   "source": [
    "nous allons récupérer uniquement les données d'un département. L'astuce étant d'appeler l'API en parcourant chaque commune.\n",
    "\n",
    "Récupérer tous les codes postaux du département du Rhône(69) à l'aide du fichier adresses-69.csv\n",
    "Avec une boucle, parcourir chaque code postal afin de reconstruire le dataframe complet des logements existants sur le département. Exporter le résultat dans un fichier appelé existants_69.csv"
   ]
  },
  {
   "cell_type": "code",
   "execution_count": 4,
   "metadata": {},
   "outputs": [
    {
     "name": "stderr",
     "output_type": "stream",
     "text": [
      "C:\\Users\\quent\\AppData\\Local\\Temp\\ipykernel_8452\\81148873.py:4: DtypeWarning: Columns (9,16) have mixed types. Specify dtype option on import or set low_memory=False.\n",
      "  df_rhone = pd.read_csv(\"../data/adresses-69.csv\", sep =\";\")\n"
     ]
    },
    {
     "data": {
      "text/plain": [
       "Index(['id', 'id_fantoir', 'numero', 'rep', 'nom_voie', 'code_postal',\n",
       "       'code_insee', 'nom_commune', 'code_insee_ancienne_commune',\n",
       "       'nom_ancienne_commune', 'x', 'y', 'lon', 'lat', 'type_position',\n",
       "       'alias', 'nom_ld', 'libelle_acheminement', 'nom_afnor',\n",
       "       'source_position', 'source_nom_voie', 'certification_commune',\n",
       "       'cad_parcelles'],\n",
       "      dtype='object')"
      ]
     },
     "execution_count": 4,
     "metadata": {},
     "output_type": "execute_result"
    }
   ],
   "source": [
    "import pandas as pd\n",
    "\n",
    "######## Récupération de tous les codes postaux du département du Rhône(69)\n",
    "# Update le chemin\n",
    "df_rhone = pd.read_csv(\"../data/adresses-69.csv\", sep =\";\")\n",
    "df_rhone.columns"
   ]
  },
  {
   "cell_type": "code",
   "execution_count": 5,
   "metadata": {},
   "outputs": [
    {
     "name": "stdout",
     "output_type": "stream",
     "text": [
      "91\n"
     ]
    }
   ],
   "source": [
    "print(len(df_rhone[\"code_postal\"].unique())) # 91 code postal\n"
   ]
  },
  {
   "cell_type": "code",
   "execution_count": 6,
   "metadata": {},
   "outputs": [],
   "source": [
    "liste_code_postal_rhone = df_rhone[\"code_postal\"].unique()\n",
    "liste_code_postal_rhone= sorted(liste_code_postal_rhone.tolist())\n",
    "# len(liste_departement) # 91\n",
    "# liste_departement"
   ]
  },
  {
   "cell_type": "markdown",
   "metadata": {},
   "source": [
    "#### Demande API :"
   ]
  },
  {
   "cell_type": "code",
   "execution_count": null,
   "metadata": {},
   "outputs": [],
   "source": []
  },
  {
   "cell_type": "code",
   "execution_count": 7,
   "metadata": {},
   "outputs": [
    {
     "name": "stdout",
     "output_type": "stream",
     "text": [
      "Statut de la réponse : 200\n",
      "Nombre de lignes pour ce code postal 69001 de la requête : 44\n",
      "Dimensions des données récupérées : 44, 92\n",
      "Statut de la réponse : 200\n",
      "Nombre de lignes pour ce code postal 69002 de la requête : 323\n",
      "Dimensions des données récupérées : 323, 93\n",
      "Statut de la réponse : 200\n",
      "Nombre de lignes pour ce code postal 69003 de la requête : 789\n",
      "Dimensions des données récupérées : 789, 91\n",
      "Statut de la réponse : 200\n",
      "Nombre de lignes pour ce code postal 69004 de la requête : 105\n",
      "Dimensions des données récupérées : 105, 96\n",
      "Statut de la réponse : 200\n",
      "Nombre de lignes pour ce code postal 69005 de la requête : 368\n",
      "Dimensions des données récupérées : 368, 92\n",
      "Statut de la réponse : 200\n",
      "Nombre de lignes pour ce code postal 69006 de la requête : 254\n",
      "Dimensions des données récupérées : 254, 96\n",
      "Statut de la réponse : 200\n",
      "Nombre de lignes pour ce code postal 69007 de la requête : 1755\n",
      "Dimensions des données récupérées : 1755, 93\n",
      "Statut de la réponse : 200\n",
      "Nombre de lignes pour ce code postal 69008 de la requête : 2877\n",
      "Dimensions des données récupérées : 2877, 91\n"
     ]
    },
    {
     "ename": "KeyboardInterrupt",
     "evalue": "",
     "output_type": "error",
     "traceback": [
      "\u001b[1;31m---------------------------------------------------------------------------\u001b[0m",
      "\u001b[1;31mKeyboardInterrupt\u001b[0m                         Traceback (most recent call last)",
      "Cell \u001b[1;32mIn[7], line 93\u001b[0m\n\u001b[0;32m     90\u001b[0m existants \u001b[38;5;241m=\u001b[39m \u001b[38;5;124m\"\u001b[39m\u001b[38;5;124mhttps://data.ademe.fr/data-fair/api/v1/datasets/dpe-v2-logements-existants/lines\u001b[39m\u001b[38;5;124m\"\u001b[39m\n\u001b[0;32m     91\u001b[0m neuf \u001b[38;5;241m=\u001b[39m \u001b[38;5;124m\"\u001b[39m\u001b[38;5;124mhttps://data.ademe.fr/data-fair/api/v1/datasets/dpe-v2-logements-neufs/lines\u001b[39m\u001b[38;5;124m\"\u001b[39m\n\u001b[1;32m---> 93\u001b[0m \u001b[38;5;28mprint\u001b[39m(call_API(neuf))\n",
      "Cell \u001b[1;32mIn[7], line 25\u001b[0m, in \u001b[0;36mcall_API\u001b[1;34m(url)\u001b[0m\n\u001b[0;32m     17\u001b[0m params \u001b[38;5;241m=\u001b[39m {\n\u001b[0;32m     18\u001b[0m     \u001b[38;5;124m\"\u001b[39m\u001b[38;5;124mpage\u001b[39m\u001b[38;5;124m\"\u001b[39m: \u001b[38;5;241m1\u001b[39m,\n\u001b[0;32m     19\u001b[0m     \u001b[38;5;124m\"\u001b[39m\u001b[38;5;124msize\u001b[39m\u001b[38;5;124m\"\u001b[39m: \u001b[38;5;241m10_000\u001b[39m,\n\u001b[0;32m     20\u001b[0m     \u001b[38;5;124m\"\u001b[39m\u001b[38;5;124mq\u001b[39m\u001b[38;5;124m\"\u001b[39m: code_postal,\n\u001b[0;32m     21\u001b[0m     \u001b[38;5;124m\"\u001b[39m\u001b[38;5;124mq_fields\u001b[39m\u001b[38;5;124m\"\u001b[39m: \u001b[38;5;124m\"\u001b[39m\u001b[38;5;124mCode_postal_(BAN)\u001b[39m\u001b[38;5;124m\"\u001b[39m,\n\u001b[0;32m     22\u001b[0m }\n\u001b[0;32m     24\u001b[0m \u001b[38;5;66;03m# Effectuer la requête GET avec les paramètres\u001b[39;00m\n\u001b[1;32m---> 25\u001b[0m response \u001b[38;5;241m=\u001b[39m requests\u001b[38;5;241m.\u001b[39mget(base_url, params\u001b[38;5;241m=\u001b[39mparams)\n\u001b[0;32m     27\u001b[0m \u001b[38;5;66;03m# Vérifier le statut de la réponse\u001b[39;00m\n\u001b[0;32m     28\u001b[0m \u001b[38;5;28mprint\u001b[39m(\u001b[38;5;124mf\u001b[39m\u001b[38;5;124m\"\u001b[39m\u001b[38;5;124mStatut de la réponse : \u001b[39m\u001b[38;5;132;01m{\u001b[39;00mresponse\u001b[38;5;241m.\u001b[39mstatus_code\u001b[38;5;132;01m}\u001b[39;00m\u001b[38;5;124m\"\u001b[39m)\n",
      "File \u001b[1;32md:\\Anaconda\\Lib\\site-packages\\requests\\api.py:73\u001b[0m, in \u001b[0;36mget\u001b[1;34m(url, params, **kwargs)\u001b[0m\n\u001b[0;32m     62\u001b[0m \u001b[38;5;28;01mdef\u001b[39;00m \u001b[38;5;21mget\u001b[39m(url, params\u001b[38;5;241m=\u001b[39m\u001b[38;5;28;01mNone\u001b[39;00m, \u001b[38;5;241m*\u001b[39m\u001b[38;5;241m*\u001b[39mkwargs):\n\u001b[0;32m     63\u001b[0m \u001b[38;5;250m    \u001b[39m\u001b[38;5;124mr\u001b[39m\u001b[38;5;124;03m\"\"\"Sends a GET request.\u001b[39;00m\n\u001b[0;32m     64\u001b[0m \n\u001b[0;32m     65\u001b[0m \u001b[38;5;124;03m    :param url: URL for the new :class:`Request` object.\u001b[39;00m\n\u001b[1;32m   (...)\u001b[0m\n\u001b[0;32m     70\u001b[0m \u001b[38;5;124;03m    :rtype: requests.Response\u001b[39;00m\n\u001b[0;32m     71\u001b[0m \u001b[38;5;124;03m    \"\"\"\u001b[39;00m\n\u001b[1;32m---> 73\u001b[0m     \u001b[38;5;28;01mreturn\u001b[39;00m request(\u001b[38;5;124m\"\u001b[39m\u001b[38;5;124mget\u001b[39m\u001b[38;5;124m\"\u001b[39m, url, params\u001b[38;5;241m=\u001b[39mparams, \u001b[38;5;241m*\u001b[39m\u001b[38;5;241m*\u001b[39mkwargs)\n",
      "File \u001b[1;32md:\\Anaconda\\Lib\\site-packages\\requests\\api.py:59\u001b[0m, in \u001b[0;36mrequest\u001b[1;34m(method, url, **kwargs)\u001b[0m\n\u001b[0;32m     55\u001b[0m \u001b[38;5;66;03m# By using the 'with' statement we are sure the session is closed, thus we\u001b[39;00m\n\u001b[0;32m     56\u001b[0m \u001b[38;5;66;03m# avoid leaving sockets open which can trigger a ResourceWarning in some\u001b[39;00m\n\u001b[0;32m     57\u001b[0m \u001b[38;5;66;03m# cases, and look like a memory leak in others.\u001b[39;00m\n\u001b[0;32m     58\u001b[0m \u001b[38;5;28;01mwith\u001b[39;00m sessions\u001b[38;5;241m.\u001b[39mSession() \u001b[38;5;28;01mas\u001b[39;00m session:\n\u001b[1;32m---> 59\u001b[0m     \u001b[38;5;28;01mreturn\u001b[39;00m session\u001b[38;5;241m.\u001b[39mrequest(method\u001b[38;5;241m=\u001b[39mmethod, url\u001b[38;5;241m=\u001b[39murl, \u001b[38;5;241m*\u001b[39m\u001b[38;5;241m*\u001b[39mkwargs)\n",
      "File \u001b[1;32md:\\Anaconda\\Lib\\site-packages\\requests\\sessions.py:589\u001b[0m, in \u001b[0;36mSession.request\u001b[1;34m(self, method, url, params, data, headers, cookies, files, auth, timeout, allow_redirects, proxies, hooks, stream, verify, cert, json)\u001b[0m\n\u001b[0;32m    584\u001b[0m send_kwargs \u001b[38;5;241m=\u001b[39m {\n\u001b[0;32m    585\u001b[0m     \u001b[38;5;124m\"\u001b[39m\u001b[38;5;124mtimeout\u001b[39m\u001b[38;5;124m\"\u001b[39m: timeout,\n\u001b[0;32m    586\u001b[0m     \u001b[38;5;124m\"\u001b[39m\u001b[38;5;124mallow_redirects\u001b[39m\u001b[38;5;124m\"\u001b[39m: allow_redirects,\n\u001b[0;32m    587\u001b[0m }\n\u001b[0;32m    588\u001b[0m send_kwargs\u001b[38;5;241m.\u001b[39mupdate(settings)\n\u001b[1;32m--> 589\u001b[0m resp \u001b[38;5;241m=\u001b[39m \u001b[38;5;28mself\u001b[39m\u001b[38;5;241m.\u001b[39msend(prep, \u001b[38;5;241m*\u001b[39m\u001b[38;5;241m*\u001b[39msend_kwargs)\n\u001b[0;32m    591\u001b[0m \u001b[38;5;28;01mreturn\u001b[39;00m resp\n",
      "File \u001b[1;32md:\\Anaconda\\Lib\\site-packages\\requests\\sessions.py:747\u001b[0m, in \u001b[0;36mSession.send\u001b[1;34m(self, request, **kwargs)\u001b[0m\n\u001b[0;32m    744\u001b[0m         \u001b[38;5;28;01mpass\u001b[39;00m\n\u001b[0;32m    746\u001b[0m \u001b[38;5;28;01mif\u001b[39;00m \u001b[38;5;129;01mnot\u001b[39;00m stream:\n\u001b[1;32m--> 747\u001b[0m     r\u001b[38;5;241m.\u001b[39mcontent\n\u001b[0;32m    749\u001b[0m \u001b[38;5;28;01mreturn\u001b[39;00m r\n",
      "File \u001b[1;32md:\\Anaconda\\Lib\\site-packages\\requests\\models.py:899\u001b[0m, in \u001b[0;36mResponse.content\u001b[1;34m(self)\u001b[0m\n\u001b[0;32m    897\u001b[0m         \u001b[38;5;28mself\u001b[39m\u001b[38;5;241m.\u001b[39m_content \u001b[38;5;241m=\u001b[39m \u001b[38;5;28;01mNone\u001b[39;00m\n\u001b[0;32m    898\u001b[0m     \u001b[38;5;28;01melse\u001b[39;00m:\n\u001b[1;32m--> 899\u001b[0m         \u001b[38;5;28mself\u001b[39m\u001b[38;5;241m.\u001b[39m_content \u001b[38;5;241m=\u001b[39m \u001b[38;5;124mb\u001b[39m\u001b[38;5;124m\"\u001b[39m\u001b[38;5;124m\"\u001b[39m\u001b[38;5;241m.\u001b[39mjoin(\u001b[38;5;28mself\u001b[39m\u001b[38;5;241m.\u001b[39miter_content(CONTENT_CHUNK_SIZE)) \u001b[38;5;129;01mor\u001b[39;00m \u001b[38;5;124mb\u001b[39m\u001b[38;5;124m\"\u001b[39m\u001b[38;5;124m\"\u001b[39m\n\u001b[0;32m    901\u001b[0m \u001b[38;5;28mself\u001b[39m\u001b[38;5;241m.\u001b[39m_content_consumed \u001b[38;5;241m=\u001b[39m \u001b[38;5;28;01mTrue\u001b[39;00m\n\u001b[0;32m    902\u001b[0m \u001b[38;5;66;03m# don't need to release the connection; that's been handled by urllib3\u001b[39;00m\n\u001b[0;32m    903\u001b[0m \u001b[38;5;66;03m# since we exhausted the data.\u001b[39;00m\n",
      "File \u001b[1;32md:\\Anaconda\\Lib\\site-packages\\requests\\models.py:816\u001b[0m, in \u001b[0;36mResponse.iter_content.<locals>.generate\u001b[1;34m()\u001b[0m\n\u001b[0;32m    814\u001b[0m \u001b[38;5;28;01mif\u001b[39;00m \u001b[38;5;28mhasattr\u001b[39m(\u001b[38;5;28mself\u001b[39m\u001b[38;5;241m.\u001b[39mraw, \u001b[38;5;124m\"\u001b[39m\u001b[38;5;124mstream\u001b[39m\u001b[38;5;124m\"\u001b[39m):\n\u001b[0;32m    815\u001b[0m     \u001b[38;5;28;01mtry\u001b[39;00m:\n\u001b[1;32m--> 816\u001b[0m         \u001b[38;5;28;01myield from\u001b[39;00m \u001b[38;5;28mself\u001b[39m\u001b[38;5;241m.\u001b[39mraw\u001b[38;5;241m.\u001b[39mstream(chunk_size, decode_content\u001b[38;5;241m=\u001b[39m\u001b[38;5;28;01mTrue\u001b[39;00m)\n\u001b[0;32m    817\u001b[0m     \u001b[38;5;28;01mexcept\u001b[39;00m ProtocolError \u001b[38;5;28;01mas\u001b[39;00m e:\n\u001b[0;32m    818\u001b[0m         \u001b[38;5;28;01mraise\u001b[39;00m ChunkedEncodingError(e)\n",
      "File \u001b[1;32md:\\Anaconda\\Lib\\site-packages\\urllib3\\response.py:624\u001b[0m, in \u001b[0;36mHTTPResponse.stream\u001b[1;34m(self, amt, decode_content)\u001b[0m\n\u001b[0;32m    608\u001b[0m \u001b[38;5;250m\u001b[39m\u001b[38;5;124;03m\"\"\"\u001b[39;00m\n\u001b[0;32m    609\u001b[0m \u001b[38;5;124;03mA generator wrapper for the read() method. A call will block until\u001b[39;00m\n\u001b[0;32m    610\u001b[0m \u001b[38;5;124;03m``amt`` bytes have been read from the connection or until the\u001b[39;00m\n\u001b[1;32m   (...)\u001b[0m\n\u001b[0;32m    621\u001b[0m \u001b[38;5;124;03m    'content-encoding' header.\u001b[39;00m\n\u001b[0;32m    622\u001b[0m \u001b[38;5;124;03m\"\"\"\u001b[39;00m\n\u001b[0;32m    623\u001b[0m \u001b[38;5;28;01mif\u001b[39;00m \u001b[38;5;28mself\u001b[39m\u001b[38;5;241m.\u001b[39mchunked \u001b[38;5;129;01mand\u001b[39;00m \u001b[38;5;28mself\u001b[39m\u001b[38;5;241m.\u001b[39msupports_chunked_reads():\n\u001b[1;32m--> 624\u001b[0m     \u001b[38;5;28;01mfor\u001b[39;00m line \u001b[38;5;129;01min\u001b[39;00m \u001b[38;5;28mself\u001b[39m\u001b[38;5;241m.\u001b[39mread_chunked(amt, decode_content\u001b[38;5;241m=\u001b[39mdecode_content):\n\u001b[0;32m    625\u001b[0m         \u001b[38;5;28;01myield\u001b[39;00m line\n\u001b[0;32m    626\u001b[0m \u001b[38;5;28;01melse\u001b[39;00m:\n",
      "File \u001b[1;32md:\\Anaconda\\Lib\\site-packages\\urllib3\\response.py:831\u001b[0m, in \u001b[0;36mHTTPResponse.read_chunked\u001b[1;34m(self, amt, decode_content)\u001b[0m\n\u001b[0;32m    829\u001b[0m \u001b[38;5;28;01mif\u001b[39;00m \u001b[38;5;28mself\u001b[39m\u001b[38;5;241m.\u001b[39mchunk_left \u001b[38;5;241m==\u001b[39m \u001b[38;5;241m0\u001b[39m:\n\u001b[0;32m    830\u001b[0m     \u001b[38;5;28;01mbreak\u001b[39;00m\n\u001b[1;32m--> 831\u001b[0m chunk \u001b[38;5;241m=\u001b[39m \u001b[38;5;28mself\u001b[39m\u001b[38;5;241m.\u001b[39m_handle_chunk(amt)\n\u001b[0;32m    832\u001b[0m decoded \u001b[38;5;241m=\u001b[39m \u001b[38;5;28mself\u001b[39m\u001b[38;5;241m.\u001b[39m_decode(\n\u001b[0;32m    833\u001b[0m     chunk, decode_content\u001b[38;5;241m=\u001b[39mdecode_content, flush_decoder\u001b[38;5;241m=\u001b[39m\u001b[38;5;28;01mFalse\u001b[39;00m\n\u001b[0;32m    834\u001b[0m )\n\u001b[0;32m    835\u001b[0m \u001b[38;5;28;01mif\u001b[39;00m decoded:\n",
      "File \u001b[1;32md:\\Anaconda\\Lib\\site-packages\\urllib3\\response.py:784\u001b[0m, in \u001b[0;36mHTTPResponse._handle_chunk\u001b[1;34m(self, amt)\u001b[0m\n\u001b[0;32m    782\u001b[0m     returned_chunk \u001b[38;5;241m=\u001b[39m value\n\u001b[0;32m    783\u001b[0m \u001b[38;5;28;01melse\u001b[39;00m:  \u001b[38;5;66;03m# amt > self.chunk_left\u001b[39;00m\n\u001b[1;32m--> 784\u001b[0m     returned_chunk \u001b[38;5;241m=\u001b[39m \u001b[38;5;28mself\u001b[39m\u001b[38;5;241m.\u001b[39m_fp\u001b[38;5;241m.\u001b[39m_safe_read(\u001b[38;5;28mself\u001b[39m\u001b[38;5;241m.\u001b[39mchunk_left)\n\u001b[0;32m    785\u001b[0m     \u001b[38;5;28mself\u001b[39m\u001b[38;5;241m.\u001b[39m_fp\u001b[38;5;241m.\u001b[39m_safe_read(\u001b[38;5;241m2\u001b[39m)  \u001b[38;5;66;03m# Toss the CRLF at the end of the chunk.\u001b[39;00m\n\u001b[0;32m    786\u001b[0m     \u001b[38;5;28mself\u001b[39m\u001b[38;5;241m.\u001b[39mchunk_left \u001b[38;5;241m=\u001b[39m \u001b[38;5;28;01mNone\u001b[39;00m\n",
      "File \u001b[1;32md:\\Anaconda\\Lib\\http\\client.py:631\u001b[0m, in \u001b[0;36mHTTPResponse._safe_read\u001b[1;34m(self, amt)\u001b[0m\n\u001b[0;32m    624\u001b[0m \u001b[38;5;28;01mdef\u001b[39;00m \u001b[38;5;21m_safe_read\u001b[39m(\u001b[38;5;28mself\u001b[39m, amt):\n\u001b[0;32m    625\u001b[0m \u001b[38;5;250m    \u001b[39m\u001b[38;5;124;03m\"\"\"Read the number of bytes requested.\u001b[39;00m\n\u001b[0;32m    626\u001b[0m \n\u001b[0;32m    627\u001b[0m \u001b[38;5;124;03m    This function should be used when <amt> bytes \"should\" be present for\u001b[39;00m\n\u001b[0;32m    628\u001b[0m \u001b[38;5;124;03m    reading. If the bytes are truly not available (due to EOF), then the\u001b[39;00m\n\u001b[0;32m    629\u001b[0m \u001b[38;5;124;03m    IncompleteRead exception can be used to detect the problem.\u001b[39;00m\n\u001b[0;32m    630\u001b[0m \u001b[38;5;124;03m    \"\"\"\u001b[39;00m\n\u001b[1;32m--> 631\u001b[0m     data \u001b[38;5;241m=\u001b[39m \u001b[38;5;28mself\u001b[39m\u001b[38;5;241m.\u001b[39mfp\u001b[38;5;241m.\u001b[39mread(amt)\n\u001b[0;32m    632\u001b[0m     \u001b[38;5;28;01mif\u001b[39;00m \u001b[38;5;28mlen\u001b[39m(data) \u001b[38;5;241m<\u001b[39m amt:\n\u001b[0;32m    633\u001b[0m         \u001b[38;5;28;01mraise\u001b[39;00m IncompleteRead(data, amt\u001b[38;5;241m-\u001b[39m\u001b[38;5;28mlen\u001b[39m(data))\n",
      "File \u001b[1;32md:\\Anaconda\\Lib\\socket.py:706\u001b[0m, in \u001b[0;36mSocketIO.readinto\u001b[1;34m(self, b)\u001b[0m\n\u001b[0;32m    704\u001b[0m \u001b[38;5;28;01mwhile\u001b[39;00m \u001b[38;5;28;01mTrue\u001b[39;00m:\n\u001b[0;32m    705\u001b[0m     \u001b[38;5;28;01mtry\u001b[39;00m:\n\u001b[1;32m--> 706\u001b[0m         \u001b[38;5;28;01mreturn\u001b[39;00m \u001b[38;5;28mself\u001b[39m\u001b[38;5;241m.\u001b[39m_sock\u001b[38;5;241m.\u001b[39mrecv_into(b)\n\u001b[0;32m    707\u001b[0m     \u001b[38;5;28;01mexcept\u001b[39;00m timeout:\n\u001b[0;32m    708\u001b[0m         \u001b[38;5;28mself\u001b[39m\u001b[38;5;241m.\u001b[39m_timeout_occurred \u001b[38;5;241m=\u001b[39m \u001b[38;5;28;01mTrue\u001b[39;00m\n",
      "File \u001b[1;32md:\\Anaconda\\Lib\\ssl.py:1278\u001b[0m, in \u001b[0;36mSSLSocket.recv_into\u001b[1;34m(self, buffer, nbytes, flags)\u001b[0m\n\u001b[0;32m   1274\u001b[0m     \u001b[38;5;28;01mif\u001b[39;00m flags \u001b[38;5;241m!=\u001b[39m \u001b[38;5;241m0\u001b[39m:\n\u001b[0;32m   1275\u001b[0m         \u001b[38;5;28;01mraise\u001b[39;00m \u001b[38;5;167;01mValueError\u001b[39;00m(\n\u001b[0;32m   1276\u001b[0m           \u001b[38;5;124m\"\u001b[39m\u001b[38;5;124mnon-zero flags not allowed in calls to recv_into() on \u001b[39m\u001b[38;5;132;01m%s\u001b[39;00m\u001b[38;5;124m\"\u001b[39m \u001b[38;5;241m%\u001b[39m\n\u001b[0;32m   1277\u001b[0m           \u001b[38;5;28mself\u001b[39m\u001b[38;5;241m.\u001b[39m\u001b[38;5;18m__class__\u001b[39m)\n\u001b[1;32m-> 1278\u001b[0m     \u001b[38;5;28;01mreturn\u001b[39;00m \u001b[38;5;28mself\u001b[39m\u001b[38;5;241m.\u001b[39mread(nbytes, buffer)\n\u001b[0;32m   1279\u001b[0m \u001b[38;5;28;01melse\u001b[39;00m:\n\u001b[0;32m   1280\u001b[0m     \u001b[38;5;28;01mreturn\u001b[39;00m \u001b[38;5;28msuper\u001b[39m()\u001b[38;5;241m.\u001b[39mrecv_into(buffer, nbytes, flags)\n",
      "File \u001b[1;32md:\\Anaconda\\Lib\\ssl.py:1134\u001b[0m, in \u001b[0;36mSSLSocket.read\u001b[1;34m(self, len, buffer)\u001b[0m\n\u001b[0;32m   1132\u001b[0m \u001b[38;5;28;01mtry\u001b[39;00m:\n\u001b[0;32m   1133\u001b[0m     \u001b[38;5;28;01mif\u001b[39;00m buffer \u001b[38;5;129;01mis\u001b[39;00m \u001b[38;5;129;01mnot\u001b[39;00m \u001b[38;5;28;01mNone\u001b[39;00m:\n\u001b[1;32m-> 1134\u001b[0m         \u001b[38;5;28;01mreturn\u001b[39;00m \u001b[38;5;28mself\u001b[39m\u001b[38;5;241m.\u001b[39m_sslobj\u001b[38;5;241m.\u001b[39mread(\u001b[38;5;28mlen\u001b[39m, buffer)\n\u001b[0;32m   1135\u001b[0m     \u001b[38;5;28;01melse\u001b[39;00m:\n\u001b[0;32m   1136\u001b[0m         \u001b[38;5;28;01mreturn\u001b[39;00m \u001b[38;5;28mself\u001b[39m\u001b[38;5;241m.\u001b[39m_sslobj\u001b[38;5;241m.\u001b[39mread(\u001b[38;5;28mlen\u001b[39m)\n",
      "\u001b[1;31mKeyboardInterrupt\u001b[0m: "
     ]
    }
   ],
   "source": [
    "# Filtre supplémentaire ?\n",
    "import requests\n",
    "import json\n",
    "\n",
    "######## CALL API #########\n",
    "\n",
    "# URL de base de l'API\n",
    "def call_API(url):\n",
    "  base_url = url\n",
    "\n",
    "  nb_ligne = 0  # nombre de ligne total ce départements (aggrégation de toutes les communes)\n",
    "  all_results = []  # dataframe complet de tout les codes postals pour ce département\n",
    "\n",
    "  # Pour chaque code postal dans liste_code_postal_rhone\n",
    "  for code_postal in liste_code_postal_rhone:\n",
    "      # Paramètres de la requête (on va récupérer selon chaque code postal)\n",
    "      params = {\n",
    "          \"page\": 1,\n",
    "          \"size\": 10_000,\n",
    "          \"q\": code_postal,\n",
    "          \"q_fields\": \"Code_postal_(BAN)\",\n",
    "      }\n",
    "\n",
    "      # Effectuer la requête GET avec les paramètres\n",
    "      response = requests.get(base_url, params=params)\n",
    "\n",
    "      # Vérifier le statut de la réponse\n",
    "      print(f\"Statut de la réponse : {response.status_code}\")\n",
    "\n",
    "      # Si la requête a été effectuée avec succès, traiter le contenu\n",
    "      if response.status_code == 200:\n",
    "          # Charger le contenu de la réponse en JSON\n",
    "          content = response.json()\n",
    "\n",
    "          # Afficher le nombre total de lignes dans la base de données\n",
    "          print(f\"Nombre de lignes pour ce code postal {code_postal} de la requête : {content['total']}\")\n",
    "\n",
    "          df = content['results']\n",
    "          all_results.extend(df)  # On ajoute les données à notre df_total\n",
    "\n",
    "          # Si le nombre de lignes dépasse 10 000, ajouter un filtre supplémentaire\n",
    "          if content['total'] > 10_000:\n",
    "              # Utiliser le mot clef after\n",
    "              content = requests.get(content['next']).json()\n",
    "\n",
    "              print(f\"Nombre de lignes après ajout du filtre pour ce code postal {code_postal} : {content['total']}\")\n",
    "              df = content['results']\n",
    "              all_results.extend(df)  # On ajoute les données à notre df_total\n",
    "\n",
    "              # On vérifie si il n'y a pas à nouveau un next\n",
    "              present_next = True\n",
    "              while present_next:\n",
    "                  try:\n",
    "                      content = requests.get(content['next']).json()\n",
    "                      print(f\"Nombre de lignes après ajout du filtre pour ce code postal {code_postal} : {content['total']}\")\n",
    "                      df = content['results']\n",
    "                      all_results.extend(df)  # On ajoute les données à notre df_total\n",
    "                  except KeyError:\n",
    "                      present_next = False\n",
    "                  \n",
    "\n",
    "          # On incrémente pour avoir le nombre de ligne total\n",
    "          nb_ligne += content['total']\n",
    "\n",
    "          # Afficher les données récupérées\n",
    "          \n",
    "\n",
    "          # Afficher les dimensions du DataFrame (nombre de lignes et de colonnes)\n",
    "          print(f\"Dimensions des données récupérées : {len(df)}, {len(df[0]) if df else 0}\")\n",
    "\n",
    "      else:\n",
    "          print(\"Erreur lors de la requête\")\n",
    "\n",
    "  print(f\"Nombre total de lignes de la requête : {nb_ligne}\")\n",
    "\n",
    "  # Construire un DataFrame complet des logements existants sur le département\n",
    "  df_complet = pd.DataFrame(all_results)\n",
    "\n",
    "  # Afficher les dimensions du DataFrame complet\n",
    "  print(f\"Dimensions du DataFrame complet : {df_complet.shape}\")\n",
    "\n",
    "  # Exporter le résultat dans un fichier CSV\n",
    "  if(base_url == \"https://data.ademe.fr/data-fair/api/v1/datasets/dpe-v2-logements-existants/lines\"):\n",
    "    df_complet.to_csv(\"existant_69.csv\", index=False)\n",
    "  if(base_url == \"https://data.ademe.fr/data-fair/api/v1/datasets/dpe-v2-logements-neufs/lines\"):\n",
    "    df_complet.to_csv(\"neufs_69.csv\", index=False)\n",
    "\n",
    "\n",
    "\n",
    "existants = \"https://data.ademe.fr/data-fair/api/v1/datasets/dpe-v2-logements-existants/lines\"\n",
    "neuf = \"https://data.ademe.fr/data-fair/api/v1/datasets/dpe-v2-logements-neufs/lines\"\n",
    "\n",
    "print(call_API(neuf))\n",
    "\n"
   ]
  },
  {
   "cell_type": "markdown",
   "metadata": {},
   "source": [
    "#### Fusion des deux dataframes"
   ]
  },
  {
   "cell_type": "code",
   "execution_count": 8,
   "metadata": {},
   "outputs": [
    {
     "name": "stderr",
     "output_type": "stream",
     "text": [
      "C:\\Users\\quent\\AppData\\Local\\Temp\\ipykernel_8452\\2953405903.py:2: DtypeWarning: Columns (35,87,111,123,149,213,214,219,220,221,222,224,227,228) have mixed types. Specify dtype option on import or set low_memory=False.\n",
      "  df_existants = pd.read_csv(\"existant_69.csv\")\n"
     ]
    },
    {
     "name": "stdout",
     "output_type": "stream",
     "text": [
      "Lecture des fichiers Ok\n"
     ]
    },
    {
     "name": "stderr",
     "output_type": "stream",
     "text": [
      "C:\\Users\\quent\\AppData\\Local\\Temp\\ipykernel_8452\\2953405903.py:3: DtypeWarning: Columns (86,96,97,110,112,121,134) have mixed types. Specify dtype option on import or set low_memory=False.\n",
      "  df_neufs = pd.read_csv(\"neufs_69.csv\")\n"
     ]
    }
   ],
   "source": [
    "try:\n",
    "  df_existants = pd.read_csv(\"existant_69.csv\")\n",
    "  df_neufs = pd.read_csv(\"neufs_69.csv\")\n",
    "  print(\"Lecture des fichiers Ok\")\n",
    "except:\n",
    "  print(\"Le fichier est introuvable\")\n",
    "\n",
    "# Fusionner les deux dataframes avec uniquement les colonnes communes\n"
   ]
  },
  {
   "cell_type": "code",
   "execution_count": 9,
   "metadata": {},
   "outputs": [
    {
     "name": "stdout",
     "output_type": "stream",
     "text": [
      "(253921, 236)\n"
     ]
    }
   ],
   "source": [
    "print(df_existants.shape)"
   ]
  },
  {
   "cell_type": "code",
   "execution_count": null,
   "metadata": {},
   "outputs": [
    {
     "name": "stderr",
     "output_type": "stream",
     "text": [
      "C:\\Users\\quent\\AppData\\Local\\Temp\\ipykernel_15572\\3399929063.py:1: DtypeWarning: Columns (35,87,111,123,149,213,214,219,220,221,222,224,227,228) have mixed types. Specify dtype option on import or set low_memory=False.\n",
      "  df_existants = pd.read_csv(\"existant_69.csv\")\n"
     ]
    }
   ],
   "source": []
  },
  {
   "cell_type": "code",
   "execution_count": 10,
   "metadata": {},
   "outputs": [
    {
     "name": "stdout",
     "output_type": "stream",
     "text": [
      "{'Ubat_W/m²_K', \"Complément_d'adresse_bâtiment\", 'Méthode_application_DPE', 'N°_département_(BAN)', 'Qualité_isolation_menuiseries', 'Nombre_appartement', 'Emission_GES_5_usages_énergie_n°2', 'Coordonnée_cartographique_X_(BAN)', 'Date_fin_validité_DPE', 'Protection_solaire_exterieure_(0/1)', 'Coût_total_5_usages', 'Conso_ECS_dépensier_é_primaire', 'Catégorie_ENR', 'Présence_brasseur_air_(0/1)', 'Date_établissement_DPE', 'Score_BAN', 'Type_énergie_n°2', 'Conso_auxiliaires_é_primaire', 'N°_étage_appartement', 'N°_région_(BAN)', 'Deperditions_planchers_hauts', 'Adresse_brute', 'Emission_GES_refroidissement_dépensier', 'Version_DPE', 'Deperditions_planchers_bas', 'Surface_tertiaire_immeuble', 'Coût_chauffage', '_i', 'Qualité_isolation_plancher_bas', 'Déperditions_renouvellement_air', 'Surface_habitable_logement', 'Type_énergie_n°1', 'Conso_chauffage_é_finale', 'Besoin_refroidissement', 'Emission_GES_éclairage', 'Code_INSEE_(BAN)', 'Conso_refroidissement_dépensier_é_primaire', 'Conso_ECS_dépensier_é_finale', 'Typologie_logement', '_score', 'Classe_altitude', 'Coût_ECS', 'Conso_ECS_é_primaire', 'Nombre_niveau_logement', 'Adresse_(BAN)', 'Emission_GES_ECS', 'Conso_chauffage_dépensier_é_finale', 'Date_visite_diagnostiqueur', 'Conso_refroidissement_é_finale', 'Déperditions_ponts_thermiques', 'Coordonnée_cartographique_Y_(BAN)', 'Type_énergie_n°3', '_geopoint', 'Emission_GES_5_usages_par_m²', 'Logement_traversant_(0/1)', 'Conso_chauffage_é_primaire', 'Deperditions_enveloppe', \"Cage_d'escalier\", 'Emission_GES_5_usages_énergie_n°1', 'Hauteur_sous-plafond', 'Inertie_lourde_(0/1)', 'Qualité_isolation_enveloppe', 'Conso_éclairage_é_finale', 'Identifiant__BAN', 'Déperditions_portes', 'Coût_chauffage_dépensier', 'Emission_GES_auxiliaires', 'Statut_géocodage', 'Emission_GES_refroidissement', 'Position_logement_dans_immeuble', 'Coût_refroidissement', 'Conso_5_usages_é_primaire', 'Besoin_ECS', 'Coût_chauffage_énergie_n°1', 'Indicateur_confort_été', 'Conso_5_usages_é_finale_énergie_n°1', 'Code_postal_(BAN)', 'Emission_GES_chauffage', 'Type_installation_chauffage', '_id', 'Coût_ECS_dépensier', 'Surface_habitable_immeuble', 'Conso_éclairage_é_primaire', '_rand', 'Nombre_niveau_immeuble', 'N°_DPE_remplacé', 'Conso_5_usages/m²_é_finale', 'Type_bâtiment', 'Conso_refroidissement_dépensier_é_finale', 'Nom_résidence', 'Date_réception_DPE', 'Qualité_isolation_plancher_haut_comble_aménagé', 'N°DPE', 'Type_énergie_principale_chauffage', 'Type_installation_ECS_(général)', 'Isolation_toiture_(0/1)', 'Conso_5_usages_é_finale', 'Conso_chauffage_dépensier_é_primaire', 'Coût_éclairage', 'Classe_inertie_bâtiment', 'Etiquette_GES', 'N°_voie_(BAN)', 'Coût_ECS_énergie_n°1', 'Emission_GES_chauffage_dépensier', 'Coût_chauffage_énergie_n°2', 'Conso_auxiliaires_é_finale', 'Déperditions_murs', 'Deperditions_baies_vitrées', 'Qualité_isolation_murs', 'Etiquette_DPE', 'Emission_GES_5_usages', 'Emission_GES_5_usages_énergie_n°3', 'Conso_refroidissement_é_primaire', 'N°_DPE_immeuble_associé', 'Coût_ECS_énergie_n°2', 'Invariant_fiscal_logement', 'Code_postal_(brut)', 'Zone_climatique_', 'Coût_ECS_énergie_n°3', 'Coût_chauffage_énergie_n°3', 'Conso_ECS_é_finale', 'Modèle_DPE', 'Coût_auxiliaires', 'Coût_refroidissement_dépensier', 'Nom__rue_(BAN)', 'Nom__commune_(BAN)', 'Emission_GES_ECS_dépensier', 'Conso_5_usages_par_m²_é_primaire', 'Besoin_chauffage', 'Appartement_non_visité_(0/1)', \"Complément_d'adresse_logement\"}\n",
      "131\n",
      "(287165, 131)\n"
     ]
    }
   ],
   "source": [
    "common_columns = set(df_existants.columns).intersection(set(df_neufs.columns))\n",
    "print(common_columns)\n",
    "print(len(common_columns)) # 131 colonnes en commun\n",
    "common_columns = list(common_columns)\n",
    "# Fusion des deux dataframes avec uniquement les colonnes communes\n",
    "df_merged = pd.concat([df_existants[common_columns], df_neufs[common_columns]], ignore_index=True)\n",
    "print(df_merged.shape)"
   ]
  },
  {
   "cell_type": "code",
   "execution_count": 12,
   "metadata": {},
   "outputs": [],
   "source": [
    "# Export to csv with the header\n",
    "df_merged.to_csv(\"merged_69.csv\", index=False, sep=';', encoding='utf-8-sig')\n"
   ]
<<<<<<< Updated upstream
=======
  },
  {
   "cell_type": "markdown",
   "metadata": {},
   "source": [
    "#### L’utilisateur peut rafraichir les données actuelles avec les nouvelles via l’API et la date de réception du DPE"
   ]
  },
  {
   "cell_type": "code",
   "execution_count": null,
   "metadata": {},
   "outputs": [],
   "source": []
>>>>>>> Stashed changes
  }
 ],
 "metadata": {
  "kernelspec": {
   "display_name": "base",
   "language": "python",
   "name": "python3"
  },
  "language_info": {
   "codemirror_mode": {
    "name": "ipython",
    "version": 3
   },
   "file_extension": ".py",
   "mimetype": "text/x-python",
   "name": "python",
   "nbconvert_exporter": "python",
   "pygments_lexer": "ipython3",
   "version": "3.11.4"
  }
 },
 "nbformat": 4,
 "nbformat_minor": 2
}
